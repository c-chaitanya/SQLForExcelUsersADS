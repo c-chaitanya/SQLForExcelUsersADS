{
    "metadata": {
        "kernelspec": {
            "name": "SQL",
            "display_name": "SQL",
            "language": "sql"
        },
        "language_info": {
            "name": "sql",
            "version": ""
        }
    },
    "nbformat_minor": 2,
    "nbformat": 4,
    "cells": [
        {
            "cell_type": "markdown",
            "source": [
                "# Introduction to SQL for Excel Users – Part 20: Basic Subqueries\r\n",
                "\r\n",
                "[Original post](https://www.daveondata.com/blog/introduction-to-sql-for-excel-users-part-20-basic-subqueries/)"
            ],
            "metadata": {
                "azdata_cell_guid": "0db20776-9f56-425b-9168-b0bcf63bd5e4"
            }
        },
        {
            "cell_type": "markdown",
            "source": [
                "## I See Virtual Tables. They’re Everywhere.\r\n",
                "\r\n",
                "NOTE – This post contains no Excel content as the topic is “self-contained” to SQL.\r\n",
                "\r\n",
                "As I’ve mentioned several times in this series, a critical concept in SQL is that of the virtual table.\r\n",
                "\r\n",
                "I’ve worked with virtual tables quite a bit in this series via the use of CTEs and JOINs.\r\n",
                "\r\n",
                "The concept of a virtual table is closely tied to the concept of SQL subqueries.\r\n",
                "\r\n",
                "For example, CTEs are a great mechanism for writing subqueries.\r\n",
                "\r\n",
                "Since this is all a little abstract, I will demonstrate with some code."
            ],
            "metadata": {
                "azdata_cell_guid": "a81f00d0-36b1-4861-b043-49482b7140c8"
            }
        },
        {
            "cell_type": "markdown",
            "source": [
                "## Subqueries – the Inner and the Outer\r\n",
                "\r\n",
                "When working with subqueries it is helpful to think of inner queries and outer queries.\r\n",
                "\r\n",
                "You know from the use of CTEs, that the query inside the WITH is the inner query and that the outer query is the SELECT at the very end.\r\n",
                "\r\n",
                "Take the following SQL from the last post:"
            ],
            "metadata": {
                "azdata_cell_guid": "3a613dba-91f9-46fe-b8ac-5d551cea3eb0"
            }
        },
        {
            "cell_type": "code",
            "source": [
                "WITH SalesRepData AS\r\n",
                "(\r\n",
                "     SELECT CONCAT(E.LastName, ', ', E.FirstName) AS SalesRep \r\n",
                "           ,E.HireDate\r\n",
                "           ,FRS.SalesOrderNumber\r\n",
                "           ,CAST(FRS.OrderDate AS Date) AS OrderDate\r\n",
                "           ,SUM(FRS.SalesAmount) AS SalesAmount\r\n",
                "     FROM FactResellerSales FRS \r\n",
                "         INNER JOIN DimEmployee E ON (FRS.EmployeeKey = E.EmployeeKey)\r\n",
                "     GROUP BY E.FirstName, E.LastName, E.HireDate, FRS.SalesOrderNumber, FRS.OrderDate\r\n",
                ")\r\n",
                "SELECT SRD.SalesRep\r\n",
                "      ,SUM(CASE WHEN DATEDIFF(DAY, SRD.HireDate, SRD.OrderDate) <= 89 THEN 1 ELSE 0 END) AS TotalSalesMadeFirst90Days\r\n",
                "      ,SUM(CASE WHEN DATEDIFF(DAY, SRD.HireDate, SRD.OrderDate) <= 89 THEN SRD.SalesAmount ELSE 0.0 END) AS TotalSalesAmountFirst90Days\r\n",
                "FROM SalesRepData SRD\r\n",
                "GROUP BY SRD.SalesRep\r\n",
                "ORDER BY SRD.SalesRep;"
            ],
            "metadata": {
                "azdata_cell_guid": "f8c8caf6-5ab7-4b1a-b4bf-db5d8baf8552"
            },
            "outputs": [],
            "execution_count": null
        },
        {
            "cell_type": "markdown",
            "source": [
                "In the SQL ☝, SalesRepData produces a virtual table that is the result of running the inner query.\r\n",
                "\r\n",
                "Technically, SalesRepData is a subquery.\r\n",
                "\r\n",
                "The following SQL is equivalent to the SQL ☝:"
            ],
            "metadata": {
                "azdata_cell_guid": "02d59a1e-3db8-4b18-a9e6-eeb10c6f8ff8"
            }
        },
        {
            "cell_type": "code",
            "source": [
                "SELECT SRD.SalesRep\r\n",
                "      ,SUM(CASE WHEN DATEDIFF(DAY, SRD.HireDate, SRD.OrderDate) <= 89 THEN 1 ELSE 0 END) AS TotalSalesMadeFirst90Days\r\n",
                "      ,SUM(CASE WHEN DATEDIFF(DAY, SRD.HireDate, SRD.OrderDate) <= 89 THEN SRD.SalesAmount ELSE 0.0 END) AS TotalSalesAmountFirst90Days\r\n",
                "FROM (SELECT CONCAT(E.LastName, ', ', E.FirstName) AS SalesRep \r\n",
                "            ,E.HireDate\r\n",
                "            ,FRS.SalesOrderNumber\r\n",
                "            ,CAST(FRS.OrderDate AS Date) AS OrderDate\r\n",
                "            ,SUM(FRS.SalesAmount) AS SalesAmount\r\n",
                "      FROM FactResellerSales FRS \r\n",
                "        INNER JOIN DimEmployee E ON (FRS.EmployeeKey = E.EmployeeKey)\r\n",
                "      GROUP BY E.FirstName, E.LastName, E.HireDate, FRS.SalesOrderNumber, FRS.OrderDate) SRD\r\n",
                "GROUP BY SRD.SalesRep\r\n",
                "ORDER BY SRD.SalesRep;"
            ],
            "metadata": {
                "azdata_cell_guid": "6465f8db-7ff5-41c6-a22f-138ae6ccca2e"
            },
            "outputs": [],
            "execution_count": null
        },
        {
            "cell_type": "markdown",
            "source": [
                "While not the most attractive SQL in the world, the code ☝ is legit. You can execute both queries and both return the exact same output.\r\n",
                "\r\n",
                "In fact, the second piece of SQL is, conceptually, what happens behind the scenes in the DB.\r\n",
                "\r\n",
                "Using CTEs are mainly about making your SQL code easier to read and maintain.\r\n",
                "\r\n",
                "You can use subqueries anywhere a physical table (e.g., DimEmployee) or a virtual table is legit in a piece of SQL.\r\n",
                "\r\n",
                "To emphasize this point, I’m going to do something silly.\r\n",
                "\r\n",
                "I’ll take the last piece of SQL and replace DimEmployee in the INNER JOIN with a subquery (which, of course produces a virtual table):"
            ],
            "metadata": {
                "azdata_cell_guid": "42d4e0ee-35e8-4d3a-92e7-a477dcc65449"
            }
        },
        {
            "cell_type": "code",
            "source": [
                "SELECT SRD.SalesRep\r\n",
                "      ,SUM(CASE WHEN DATEDIFF(DAY, SRD.HireDate, SRD.OrderDate) <= 89 THEN 1 ELSE 0 END) AS TotalSalesMadeFirst90Days\r\n",
                "      ,SUM(CASE WHEN DATEDIFF(DAY, SRD.HireDate, SRD.OrderDate) <= 89 THEN SRD.SalesAmount ELSE 0.0 END) AS TotalSalesAmountFirst90Days\r\n",
                "FROM (SELECT CONCAT(E.LastName, ', ', E.FirstName) AS SalesRep \r\n",
                "            ,E.HireDate\r\n",
                "            ,FRS.SalesOrderNumber\r\n",
                "            ,CAST(FRS.OrderDate AS Date) AS OrderDate\r\n",
                "            ,SUM(FRS.SalesAmount) AS SalesAmount\r\n",
                "      FROM FactResellerSales FRS \r\n",
                "        INNER JOIN (SELECT *\r\n",
                "                    FROM DimEmployee) E ON (FRS.EmployeeKey = E.EmployeeKey)\r\n",
                "      GROUP BY E.FirstName, E.LastName, E.HireDate, FRS.SalesOrderNumber, FRS.OrderDate) SRD\r\n",
                "GROUP BY SRD.SalesRep\r\n",
                "ORDER BY SRD.SalesRep;"
            ],
            "metadata": {
                "azdata_cell_guid": "be41527a-90e7-44be-957b-08c6bbba863b"
            },
            "outputs": [],
            "execution_count": null
        },
        {
            "cell_type": "markdown",
            "source": [
                "Notice how the SQL keeps getting uglier, but is still legit?\r\n",
                "\r\n",
                "If you run this last piece of SQL you get the same results as the first two pieces of SQL, but the code is more difficult to understand.\r\n",
                "\r\n",
                "Can you see why I started with CTEs and not subqueries? 😁\r\n",
                "\r\n",
                "CTEs are awesome!\r\n",
                "\r\n",
                "Lemme show you why…"
            ],
            "metadata": {
                "azdata_cell_guid": "06af09e9-0c03-40a7-b0dc-76120f02e7cd"
            }
        },
        {
            "cell_type": "markdown",
            "source": [
                "## Beware the Subquery\r\n",
                "\r\n",
                "I’m going to continue the hypothetical analysis from the last post.\r\n",
                "\r\n",
                "The question being analyzed is if AdventureWorks sales rep performance in the first 90 days of employement is associated with sales rep performance at the 1-year mark.\r\n",
                "\r\n",
                "I’m going to implement the SQL for this analysis without any CTEs.\r\n",
                "\r\n",
                "It ain’t gonna be pretty. 🤣\r\n",
                "\r\n",
                "Take the following SQL that pulls the 1-year sales rep performance (yes, I could have used DATEDIFF in a WHERE instead):"
            ],
            "metadata": {
                "azdata_cell_guid": "f28134f2-f896-4c76-94de-5061d7c26e58"
            }
        },
        {
            "cell_type": "code",
            "source": [
                "SELECT SRD365.SalesRep\r\n",
                "      ,COUNT(SRD365.SalesOrderNumber) AS TotalSalesMadeFirst365Days\r\n",
                "      ,SUM(SRD365.SalesAmount) AS TotalSalesAmountFirst365Days\r\n",
                "FROM (SELECT CONCAT(E.LastName, ', ', E.FirstName) AS SalesRep \r\n",
                "            ,FRS.SalesOrderNumber\r\n",
                "            ,CAST(FRS.OrderDate AS Date) AS OrderDate\r\n",
                "            ,SUM(FRS.SalesAmount) AS SalesAmount\r\n",
                "            ,CASE WHEN DATEDIFF(DAY, E.HireDate, FRS.OrderDate) <= 364 THEN 1 ELSE 0 END AS SaleMadeFirst365Days\r\n",
                "     FROM FactResellerSales FRS \r\n",
                "         INNER JOIN DimEmployee E ON (FRS.EmployeeKey = E.EmployeeKey)\r\n",
                "     GROUP BY E.FirstName, E.LastName, E.HireDate, FRS.SalesOrderNumber, FRS.OrderDate) SRD365\r\n",
                "WHERE SRD365.SaleMadeFirst365Days = 1\r\n",
                "GROUP BY SRD365.SalesRep\r\n",
                "ORDER BY SRD365.SalesRep;"
            ],
            "metadata": {
                "azdata_cell_guid": "6857ed00-c8bc-4e76-8b0d-7b8724a02724"
            },
            "outputs": [],
            "execution_count": null
        },
        {
            "cell_type": "markdown",
            "source": [
                "To make this post a bit simpler, I will only consider AdventureWorks sales reps that made sales in their first year of employment.\r\n",
                "\r\n",
                "I shouldn’t make the assumption that every sales rep made a sale in the first 90 days.\r\n",
                "\r\n",
                "Therefore, I need to LEFT OUTER JOIN my 90-day performance subquery:\r\n",
                "\r\n",
                "The first step is to structure my SQL so that I can LEFT OUTER JOIN sales rep performance in the first 90 days to the 1-year performance.\r\n",
                "\r\n",
                "Subquery time!"
            ],
            "metadata": {
                "azdata_cell_guid": "8a1f1dd9-6683-420a-8626-1fa6a2b057f3"
            }
        },
        {
            "cell_type": "code",
            "source": [
                "SELECT SRD365.SalesRep\r\n",
                "      ,SRD365.TotalSalesMadeFirst365Days\r\n",
                "      ,SRD365.TotalSalesAmountFirst365Days\r\n",
                "FROM (SELECT SRD365.SalesRep\r\n",
                "            ,COUNT(SRD365.SalesOrderNumber) AS TotalSalesMadeFirst365Days\r\n",
                "            ,SUM(SRD365.SalesAmount) AS TotalSalesAmountFirst365Days\r\n",
                "      FROM (SELECT CONCAT(E.LastName, ', ', E.FirstName) AS SalesRep \r\n",
                "                  ,FRS.SalesOrderNumber\r\n",
                "                  ,CAST(FRS.OrderDate AS Date) AS OrderDate\r\n",
                "                  ,SUM(FRS.SalesAmount) AS SalesAmount\r\n",
                "                  ,CASE WHEN DATEDIFF(DAY, E.HireDate, FRS.OrderDate) <= 364 THEN 1 ELSE 0 END AS SaleMadeFirst365Days\r\n",
                "            FROM FactResellerSales FRS \r\n",
                "                INNER JOIN DimEmployee E ON (FRS.EmployeeKey = E.EmployeeKey)\r\n",
                "            GROUP BY E.FirstName, E.LastName, E.HireDate, FRS.SalesOrderNumber, FRS.OrderDate) SRD365\r\n",
                "      WHERE SRD365.SaleMadeFirst365Days = 1\r\n",
                "      GROUP BY SRD365.SalesRep) SRD365\r\n",
                "ORDER BY SRD365.SalesRep;"
            ],
            "metadata": {
                "azdata_cell_guid": "8cbded69-bf99-4c58-aaf8-f7b1f5a71e1c"
            },
            "outputs": [],
            "execution_count": null
        },
        {
            "cell_type": "markdown",
            "source": [
                "Sweet!\r\n",
                "\r\n",
                "The subquery ☝ produces a virtual left table named SRD365.\r\n",
                "\r\n",
                "Now I can left join the 90-day data with another subquery:"
            ],
            "metadata": {
                "azdata_cell_guid": "58042125-51f8-461e-b6d8-3a8e03a80008"
            }
        },
        {
            "cell_type": "code",
            "source": [
                "SELECT SRD365.SalesRep\r\n",
                "      ,SRD90.TotalSalesMadeFirst90Days\r\n",
                "      ,SRD90.TotalSalesAmountFirst90Days\r\n",
                "      ,SRD365.TotalSalesMadeFirst365Days\r\n",
                "      ,SRD365.TotalSalesAmountFirst365Days\r\n",
                "FROM (SELECT SRD365.SalesRep\r\n",
                "            ,COUNT(SRD365.SalesOrderNumber) AS TotalSalesMadeFirst365Days\r\n",
                "            ,SUM(SRD365.SalesAmount) AS TotalSalesAmountFirst365Days\r\n",
                "      FROM (SELECT CONCAT(E.LastName, ', ', E.FirstName) AS SalesRep \r\n",
                "                  ,FRS.SalesOrderNumber\r\n",
                "                  ,CAST(FRS.OrderDate AS Date) AS OrderDate\r\n",
                "                  ,SUM(FRS.SalesAmount) AS SalesAmount\r\n",
                "                  ,CASE WHEN DATEDIFF(DAY, E.HireDate, FRS.OrderDate) <= 364 THEN 1 ELSE 0 END AS SaleMadeFirst365Days\r\n",
                "            FROM FactResellerSales FRS \r\n",
                "                INNER JOIN DimEmployee E ON (FRS.EmployeeKey = E.EmployeeKey)\r\n",
                "            GROUP BY E.FirstName, E.LastName, E.HireDate, FRS.SalesOrderNumber, FRS.OrderDate) SRD365\r\n",
                "      WHERE SRD365.SaleMadeFirst365Days = 1\r\n",
                "      GROUP BY SRD365.SalesRep) SRD365\r\n",
                "    LEFT OUTER JOIN (SELECT SRD.SalesRep\r\n",
                "                           ,COUNT(SRD.SalesOrderNumber) AS TotalSalesMadeFirst90Days\r\n",
                "                           ,SUM(SRD.SalesAmount) AS TotalSalesAmountFirst90Days\r\n",
                "                     FROM (SELECT CONCAT(E.LastName, ', ', E.FirstName) AS SalesRep \r\n",
                "                                 ,FRS.SalesOrderNumber\r\n",
                "                                 ,CAST(FRS.OrderDate AS Date) AS OrderDate\r\n",
                "                                 ,SUM(FRS.SalesAmount) AS SalesAmount\r\n",
                "                                 ,CASE WHEN DATEDIFF(DAY, E.HireDate, FRS.OrderDate) <= 89 THEN 1 ELSE 0 END AS SaleMadeFirst90Days\r\n",
                "                           FROM FactResellerSales FRS \r\n",
                "                            INNER JOIN DimEmployee E ON (FRS.EmployeeKey = E.EmployeeKey)\r\n",
                "                           GROUP BY E.FirstName, E.LastName, E.HireDate, FRS.SalesOrderNumber, FRS.OrderDate) SRD\r\n",
                "                     WHERE SRD.SaleMadeFirst90Days = 1\r\n",
                "                     GROUP BY SRD.SalesRep) SRD90 ON (SRD365.SalesRep = SRD90.SalesRep)\r\n",
                "ORDER BY SRD365.SalesRep; "
            ],
            "metadata": {
                "azdata_cell_guid": "c9efcbe6-4858-4efc-8cc0-6f4d060e1748"
            },
            "outputs": [],
            "execution_count": null
        },
        {
            "cell_type": "markdown",
            "source": [
                "OK, that’s some useful data, but that SQL is ugly.\r\n",
                "\r\n",
                "I’ve been coding SQL for more than 20 years and I would not want to maintain the ☝ code.\r\n",
                "\r\n",
                "CTEs to the rescue!"
            ],
            "metadata": {
                "azdata_cell_guid": "699897a3-328f-4909-90fa-3faf3bda526a"
            }
        },
        {
            "cell_type": "markdown",
            "source": [
                "## The Beauty of CTEs\r\n",
                "\r\n",
                "NOTE – I know the following SQL code could be structured more optimally in a number of ways. I wrote it this way to make everything crystal clear to learners. 😁\r\n",
                "\r\n",
                "Here’s the CTE-beautified code:"
            ],
            "metadata": {
                "azdata_cell_guid": "83479124-e5b2-49ad-b421-d8f30e463dfb"
            }
        },
        {
            "cell_type": "code",
            "source": [
                "WITH SalesRepData AS\r\n",
                "(\r\n",
                "     SELECT CONCAT(E.LastName, ', ', E.FirstName) AS SalesRep \r\n",
                "           ,E.HireDate\r\n",
                "           ,FRS.SalesOrderNumber\r\n",
                "           ,CAST(FRS.OrderDate AS Date) AS OrderDate\r\n",
                "           ,SUM(FRS.SalesAmount) AS SalesAmount\r\n",
                "     FROM FactResellerSales FRS \r\n",
                "         INNER JOIN DimEmployee E ON (FRS.EmployeeKey = E.EmployeeKey)\r\n",
                "     GROUP BY E.FirstName, E.LastName, E.HireDate, FRS.SalesOrderNumber, FRS.OrderDate\r\n",
                "),\r\n",
                "SalesRepPerformance AS\r\n",
                "(\r\n",
                "    SELECT SRD.SalesRep\r\n",
                "          ,CASE WHEN DATEDIFF(DAY, SRD.HireDate, SRD.OrderDate) <= 89 THEN 1 ELSE 0 END AS SalesMadeFirst90Days\r\n",
                "          ,CASE WHEN DATEDIFF(DAY, SRD.HireDate, SRD.OrderDate) <= 89 THEN SRD.SalesAmount ELSE 0.0 END AS SalesAmountFirst90Days\r\n",
                "          ,CASE WHEN DATEDIFF(DAY, SRD.HireDate, SRD.OrderDate) <= 364 THEN 1 ELSE 0 END AS SalesMadeFirst365Days\r\n",
                "          ,CASE WHEN DATEDIFF(DAY, SRD.HireDate, SRD.OrderDate) <= 364 THEN SRD.SalesAmount ELSE 0.0 END AS SalesAmountFirst365Days\r\n",
                "    FROM SalesRepData SRD\r\n",
                "),\r\n",
                "RepPerformance365Days AS\r\n",
                "(\r\n",
                "    SELECT SRP.SalesRep\r\n",
                "          ,SUM(SRP.SalesMadeFirst365Days) AS TotalSalesMadeFirst365Days\r\n",
                "          ,SUM(SRP.SalesAmountFirst365Days) AS TotalSalesAmountFirst365Days\r\n",
                "    FROM SalesRepPerformance SRP\r\n",
                "    WHERE SRP.SalesMadeFirst365Days = 1\r\n",
                "    GROUP BY SRP.SalesRep\r\n",
                " \r\n",
                "),\r\n",
                "RepPerformance90Days AS\r\n",
                "(\r\n",
                "    SELECT SRP.SalesRep\r\n",
                "          ,SUM(SRP.SalesMadeFirst90Days) AS TotalSalesMadeFirst90Days\r\n",
                "          ,SUM(SRP.SalesAmountFirst90Days) AS TotalSalesAmountFirst90Days\r\n",
                "    FROM SalesRepPerformance SRP\r\n",
                "    WHERE SRP.SalesMadeFirst90Days = 1\r\n",
                "    GROUP BY SRP.SalesRep\r\n",
                " \r\n",
                ")\r\n",
                "SELECT RP365.SalesRep\r\n",
                "      ,COALESCE(RP90.TotalSalesMadeFirst90Days, 0.0) AS TotalSalesMadeFirst90Days\r\n",
                "      ,COALESCE(RP90.TotalSalesAmountFirst90Days, 0.0) AS TotalSalesAmountFirst90Days\r\n",
                "      ,RP365.TotalSalesMadeFirst365Days\r\n",
                "      ,RP365.TotalSalesAmountFirst365Days\r\n",
                "FROM RepPerformance365Days RP365\r\n",
                "    LEFT OUTER JOIN RepPerformance90Days RP90 ON (RP365.SalesRep = RP90.SalesRep)\r\n",
                "ORDER BY RP365.SalesRep"
            ],
            "metadata": {
                "azdata_cell_guid": "ecc882e8-2afe-401a-a3f0-0947baba4bb4"
            },
            "outputs": [],
            "execution_count": null
        },
        {
            "cell_type": "markdown",
            "source": [
                "Notice how I used a new piece of SQL goodnes – COALESCE.\r\n",
                "\r\n",
                "You uses COALESCE to transform NULLs.\r\n",
                "\r\n",
                "You feed COALESCE a list of values to check (e.g., a column or a hard-coded value) and it return back the first value that isn’t NULL.\r\n",
                "\r\n",
                "In this case, if a value is NULL return back 0.0.\r\n",
                "\r\n",
                "Awesome!\r\n",
                "\r\n",
                "With the data ☝, the AdventureWorks sales manager can conduct some interesting analyses.\r\n",
                "\r\n",
                "For example, the manager could copy-and-paste the SSMS results into Excel and perform a linear regression analysis.\r\n",
                "\r\n",
                "I will mention again that this is a trivial example.\r\n",
                "\r\n",
                "However, SQL skills allow you to perform retrieve and shape data at scale (e.g., 10s of millions of records).\r\n",
                "\r\n",
                ""
            ],
            "metadata": {
                "azdata_cell_guid": "3df31839-8404-435f-9e1b-39a3bc06328b"
            }
        },
        {
            "cell_type": "markdown",
            "source": [
                "## The Learning Arc\r\n",
                "\r\n",
                "The next post will continue coverage of subqueries to show other examples of when they can be used in your queries.\r\n",
                "\r\n",
                "Hopefully I’ve demonstrated that SQL allow you great flexibility in crafting code using subqueries.\r\n",
                "\r\n",
                "Hopefully I’ve also demonstrated that you wanna use CTEs all the time. 😉\r\n",
                "\r\n",
                "Stay healthy and happy data sleuthing!"
            ],
            "metadata": {
                "azdata_cell_guid": "5086f883-bb6c-4812-a0dc-bf22182b6f43"
            }
        }
    ]
}