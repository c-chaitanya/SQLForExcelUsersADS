{
    "metadata": {
        "kernelspec": {
            "name": "SQL",
            "display_name": "SQL",
            "language": "sql"
        },
        "language_info": {
            "name": "sql",
            "version": ""
        }
    },
    "nbformat_minor": 2,
    "nbformat": 4,
    "cells": [
        {
            "cell_type": "markdown",
            "source": [
                "# Introduction to SQL for Excel Users – Part 16: Basic INNER JOINs\r\n",
                "\r\n",
                "[Original post](https://www.daveondata.com/blog/introduction-to-sql-for-excel-users-part-16-basic-inner-joins/)"
            ],
            "metadata": {
                "azdata_cell_guid": "07dd12be-e9df-486f-9a53-50dc3300eaee"
            }
        },
        {
            "cell_type": "markdown",
            "source": [
                "## LEFT JOINs Revisited\r\n",
                "\r\n",
                "_NOTE – There will be no Excel coverage in this post as it isn’t necessary for the concepts and I wanted to keep the post to a reasonable length._\r\n",
                "\r\n",
                "In the previous post, I covered the basics of the mighty LEFT OUTER JOIN.\r\n",
                "\r\n",
                "If you haven’t already, go read that post.\r\n",
                "\r\n",
                "Here’s a tasty bit of SQL from the last post:"
            ],
            "metadata": {
                "azdata_cell_guid": "7f44cd4a-e060-4e6f-8cd5-b4c35619729e"
            }
        },
        {
            "cell_type": "code",
            "source": [
                "SELECT E.EmployeeKey\r\n",
                "      ,E.FirstName\r\n",
                "      ,E.LastName\r\n",
                "      ,SQ.SalesAmountQuota\r\n",
                "FROM DimEmployee E \r\n",
                "    LEFT OUTER JOIN FactSalesQuota SQ ON (E.EmployeeKey = SQ.EmployeeKey)\r\n",
                "WHERE E.EmployeeKey IN (271, 274, 275, 277, 282, 283) AND\r\n",
                "      SQ.SalesAmountQuota IS NOT NULL\r\n",
                ""
            ],
            "metadata": {
                "azdata_cell_guid": "d72b4227-0fd5-4786-a83f-b7eab4947e5a"
            },
            "outputs": [],
            "execution_count": null
        },
        {
            "cell_type": "markdown",
            "source": [
                "The SQL code ☝ is conceptually executed as follows:\r\n",
                "\r\n",
                "1. Grab all rows from DimEmployee…\r\n",
                "1. LEFT OUTER JOIN all rows from FactSalesQuota…\r\n",
                "1. WHERE EmployeeKey is IN the defined list…\r\n",
                "1. AND SalesAmountQuota IS NOT NULL\r\n",
                "\r\n",
                "You know that LEFT OUTER JOINs keeps all rows from the left virtual table.\r\n",
                "\r\n",
                "You also know when there are no matches from the right virtual table, NULLs are returned.\r\n",
                "\r\n",
                "This makes step 4 ☝ super interesting.\r\n",
                "\r\n",
                "The query results become only EmployeeKeys that have SalesAmountQuotas.\r\n",
                "\r\n",
                "In other words, only return the rows where there are matches.\r\n",
                "\r\n",
                "Not surprisingly, this kind of matching is done all the time in SQL.\r\n",
                "\r\n",
                "It’s called an INNER JOIN."
            ],
            "metadata": {
                "azdata_cell_guid": "cbafec5b-e5dd-47e3-9ce5-a12d3cc91cac"
            }
        },
        {
            "cell_type": "markdown",
            "source": [
                "## INNER JOINs\r\n",
                "\r\n",
                "You use the mighty INNER JOIN when you want to only keep matches, including duplicates, between two tables.\r\n",
                "\r\n",
                "To demonstrate the power of INNER JOINs, I will be using the following two tables:\r\n",
                "\r\n",
                "- FactResellerSales\r\n",
                "- DimReseller\r\n",
                "\r\n",
                "The important thing to note is that both tables have a ResellerKey column.\r\n",
                "\r\n",
                "This is great because it gives you a big hint as to what columns you can use for matching in your JOINs!\r\n",
                "\r\n",
                "The syntax of JOINs are essentially all the same, here’s some SQL that INNER JOINs FactResellerSales to DimReseller:"
            ],
            "metadata": {
                "azdata_cell_guid": "a4878f54-71f3-4f10-a4a6-09a8bd0a5df7"
            }
        },
        {
            "cell_type": "code",
            "source": [
                "SELECT R.ResellerName \r\n",
                "      ,FRS.OrderDate\r\n",
                "      ,FRS.SalesAmount\r\n",
                "FROM FactResellerSales FRS\r\n",
                "    INNER JOIN DimReseller R ON (FRS.ResellerKey = R.ResellerKey)\r\n",
                "And the SSMS results:"
            ],
            "metadata": {
                "azdata_cell_guid": "b3b7a83a-15ae-42c2-a4c2-141e117b8dd3"
            },
            "outputs": [],
            "execution_count": null
        },
        {
            "cell_type": "markdown",
            "source": [
                "## Pareto Analysis\r\n",
                "\r\n",
                "The Pareto analysis is mos def part of the 20% of analytics that drive 80% of ROI.\r\n",
                "\r\n",
                "At base, a Pareto analysis is the application of the 80/20 Rule to business.\r\n",
                "\r\n",
                "Classic examples include:\r\n",
                "\r\n",
                "80% of your sales come from 20% of your customers\r\n",
                "80% of your revenues come from 20% of your products\r\n",
                "80% of your defects come from 20% of the causes\r\n",
                "You get the idea.\r\n",
                "\r\n",
                "For this post, I will combine a number of topics covered so far in the series to conduct a Pareto analysis of AdventureWorks’ resellers:\r\n",
                "\r\n",
                "INNER JOINs\r\n",
                "CTEs\r\n",
                "GROUP BY & aggregate functions\r\n",
                "Window functions\r\n",
                "Righteous!"
            ],
            "metadata": {
                "azdata_cell_guid": "5455be15-c455-4105-a5ae-3d1a96b20a7e"
            }
        },
        {
            "cell_type": "markdown",
            "source": [
                "## Pareto Analysis with INNER JOINs\r\n",
                "\r\n",
                "In this analysis I will see if 20% of AdventureWorks’ resellers produce 80% of reseller sales.\r\n",
                "\r\n",
                "I'll need to know:\r\n",
                "\r\n",
                "- The number of resellers.\r\n",
                "- The total sales for all resellers?  The result will be the denominator in what % of all reseller sales is attributed to a single reseller.\r\n",
                "- The total sales for each reseller.\r\n",
                ""
            ],
            "metadata": {
                "azdata_cell_guid": "edf4b4db-4948-4a65-83bd-be1acdb14dbc"
            }
        },
        {
            "cell_type": "code",
            "source": [
                "-- How many resellers?\r\n",
                "SELECT COUNT(*) AS ResellerCount\r\n",
                "FROM DimReseller;"
            ],
            "metadata": {
                "azdata_cell_guid": "0c8d328c-69cd-4853-bcaf-17c16e5dfa61"
            },
            "outputs": [],
            "execution_count": null
        },
        {
            "cell_type": "code",
            "source": [
                "-- Total sales for all resellers?\r\n",
                "SELECT SUM(FRS.SalesAmount) AS TotalResellerSales\r\n",
                "FROM FactResellerSales FRS"
            ],
            "metadata": {
                "azdata_cell_guid": "818266e9-cd19-447f-a4e1-9fb2a2f06b2f"
            },
            "outputs": [],
            "execution_count": null
        },
        {
            "cell_type": "code",
            "source": [
                "-- Total sales for each reseller?\r\n",
                "SELECT R.ResellerName \r\n",
                "        ,SUM(FRS.SalesAmount) AS ResellerSales\r\n",
                "FROM FactResellerSales FRS\r\n",
                "    INNER JOIN DimReseller R ON (FRS.ResellerKey = R.ResellerKey)\r\n",
                "GROUP BY R.ResellerName"
            ],
            "metadata": {
                "azdata_cell_guid": "eca927fd-1eca-480c-ab16-bca6e1bbaed8"
            },
            "outputs": [],
            "execution_count": null
        },
        {
            "cell_type": "markdown",
            "source": [
                "Sweet!\r\n",
                "\r\n",
                "I have the basic building blocks for conducting the Pareto analysis.\r\n",
                "\r\n",
                "Since I have multiple queries/virtual tables I need to work with, I can leverage CTEs to structure my code.\r\n",
                "\r\n",
                "Here’s a SQL snippet that ain’t legit, it’s an interim step to the final product:"
            ],
            "metadata": {
                "azdata_cell_guid": "2d17a8e7-6920-4799-8fbc-7c13ab8434d3"
            }
        },
        {
            "cell_type": "code",
            "source": [
                "WITH TotalResellerSales AS\r\n",
                "(\r\n",
                "    SELECT SUM(FRS.SalesAmount) AS TotalResellerSales\r\n",
                "    FROM FactResellerSales FRS \r\n",
                "),\r\n",
                "ResllerSales AS\r\n",
                "(\r\n",
                "    SELECT R.ResellerName \r\n",
                "            ,SUM(FRS.SalesAmount) AS ResellerSales\r\n",
                "    FROM FactResellerSales FRS\r\n",
                "        INNER JOIN DimReseller R ON (FRS.ResellerKey = R.ResellerKey)\r\n",
                "    GROUP BY R.ResellerName\r\n",
                ")"
            ],
            "metadata": {
                "azdata_cell_guid": "6399c241-c3de-4e4b-a951-2dbc1f9321e8"
            },
            "outputs": [],
            "execution_count": null
        },
        {
            "cell_type": "markdown",
            "source": [
                "I can use the CTEs ☝ to start building my outer query to conduct the pareto analysis.\r\n",
                "\r\n",
                "I’ll start with calculating the cumulative total of all reseller sales by reseller:"
            ],
            "metadata": {
                "azdata_cell_guid": "b8e8e700-71e6-455b-a01a-cae179bb795a"
            }
        },
        {
            "cell_type": "code",
            "source": [
                "WITH TotalResellerSales AS\r\n",
                "(\r\n",
                "    SELECT SUM(FRS.SalesAmount) AS TotalResellerSales\r\n",
                "    FROM FactResellerSales FRS \r\n",
                "),\r\n",
                "ResllerSales AS\r\n",
                "(\r\n",
                "    SELECT R.ResellerName \r\n",
                "            ,SUM(FRS.SalesAmount) AS ResellerSales\r\n",
                "    FROM FactResellerSales FRS\r\n",
                "        INNER JOIN DimReseller R ON (FRS.ResellerKey = R.ResellerKey)\r\n",
                "    GROUP BY R.ResellerName\r\n",
                ")\r\n",
                "SELECT RS.ResellerName\r\n",
                "       ,RS.ResellerSales\r\n",
                "       ,SUM(RS.ResellerSales) OVER (ORDER BY RS.ResellerSales DESC) AS CumProductSales\r\n",
                "FROM ResllerSales RS;"
            ],
            "metadata": {
                "azdata_cell_guid": "14b258f1-ab58-4d8f-bcec-415a77bd9b9d"
            },
            "outputs": [],
            "execution_count": null
        },
        {
            "cell_type": "markdown",
            "source": [
                "In the results ☝, CumProduceSales is a “running total” of total reseller sales.\r\n",
                "\r\n",
                "Also notice how the results are in descending order by invidvidual reseller sales.\r\n",
                "\r\n",
                "This magical result is achieved via combining the SUM aggregate function with a window defined by the OVER clause.\r\n",
                "\r\n",
                "Pure awesomeness.\r\n",
                "\r\n",
                "This ordering allows me to finish up the SQL code by adding a calculation for the cumulative percentage of all reseller sales:"
            ],
            "metadata": {
                "azdata_cell_guid": "37b28251-e6ca-43bf-a62e-f86cdf5aba30"
            }
        },
        {
            "cell_type": "code",
            "source": [
                "WITH TotalResellerSales AS\r\n",
                "(\r\n",
                "    SELECT SUM(FRS.SalesAmount) AS TotalResellerSales\r\n",
                "    FROM FactResellerSales FRS \r\n",
                "),\r\n",
                "ResllerSales AS\r\n",
                "(\r\n",
                "    SELECT R.ResellerName \r\n",
                "            ,SUM(FRS.SalesAmount) AS ResellerSales\r\n",
                "    FROM FactResellerSales FRS\r\n",
                "        INNER JOIN DimReseller R ON (FRS.ResellerKey = R.ResellerKey)\r\n",
                "    GROUP BY R.ResellerName\r\n",
                ")\r\n",
                "SELECT RS.ResellerName\r\n",
                "       ,RS.ResellerSales\r\n",
                "       ,SUM(RS.ResellerSales) OVER (ORDER BY RS.ResellerSales DESC) AS CumProductSales\r\n",
                "       ,SUM(RS.ResellerSales) OVER (ORDER BY RS.ResellerSales DESC) / (SELECT TotalResellerSales FROM TotalResellerSales) AS CumPctSales\r\n",
                "FROM ResllerSales RS;"
            ],
            "metadata": {
                "azdata_cell_guid": "42cdd1aa-c8d1-4aeb-87b0-3312d6ebcf88"
            },
            "outputs": [],
            "execution_count": null
        },
        {
            "cell_type": "markdown",
            "source": [
                "This following snippet of code is a new idea, want to call it out:\r\n",
                "\r\n",
                "```\r\n",
                "SUM(RS.ResellerSales) OVER (ORDER BY RS.ResellerSales DESC) / (SELECT TotalResellerSales FROM TotalResellerSales) AS CumPctSales\r\n",
                "```\r\n",
                "In the snippet immediately ☝, I’m using a subquery to pull the total amount of reseller sales to use as the denominator in the calculation.\r\n",
                "\r\n",
                "You use subqueries all the time in SQL – sometimes even when you don’t know it. 😲\r\n",
                "\r\n",
                "Conceptually, CTEs are subqueries that you use to make your code cleaner and easier to understand.\r\n",
                "\r\n",
                "Subqueries will come around again in the series, so I will move on to the SSMS results:\r\n",
                "\r\n",
                "![ssms_subquery](images/16_ssms_subquery.png)\r\n",
                "\r\n",
                "In the results ☝, I’ve scrolled down to where CumPctSales crosses the 80% threshold.\r\n",
                "\r\n",
                "Notice that corresonds to result row 186.\r\n",
                "\r\n",
                "In other words, the top 186 AdventureWorks resellers account for 80% of all reseller sales.\r\n",
                "\r\n",
                "Quick calc here: 186 / 701 = 0.26106 = 26.11%\r\n",
                "\r\n",
                "While not exactly 20%, it’s pretty close! 😉\r\n",
                "\r\n",
                "BTW – Every data visualization tool worth using (including Excel and R) can connect to SQL Server and leverage the final results ☝ to create cool visualizations. 😁\r\n",
                "\r\n",
                "The Learning Arc\r\n",
                "The next post will continue coverage of JOINs since they are central to using SQL.\r\n",
                "\r\n",
                "Specifically, I will be talking about JOIN filtering in the ON clause.\r\n",
                "\r\n",
                "Stay healthy and happy data sleuthing!"
            ],
            "metadata": {
                "azdata_cell_guid": "86796c7a-d83d-4b4d-97ea-54857229078e"
            }
        },
        {
            "cell_type": "markdown",
            "source": [
                "## The Learning Arc\r\n",
                "\r\n",
                "The next post will continue coverage of JOINs since they are central to using SQL.\r\n",
                "\r\n",
                "Specifically, I will be talking about JOIN filtering in the ON clause.\r\n",
                "\r\n",
                "Stay healthy and happy data sleuthing!"
            ],
            "metadata": {
                "azdata_cell_guid": "a253ca2b-9e14-43cb-bfc7-b56e6843b3e8"
            }
        }
    ]
}