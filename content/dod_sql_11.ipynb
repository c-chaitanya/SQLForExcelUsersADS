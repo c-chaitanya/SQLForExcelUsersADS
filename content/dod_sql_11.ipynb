{
    "metadata": {
        "kernelspec": {
            "name": "SQL",
            "display_name": "SQL",
            "language": "sql"
        },
        "language_info": {
            "name": "sql",
            "version": ""
        }
    },
    "nbformat_minor": 2,
    "nbformat": 4,
    "cells": [
        {
            "cell_type": "markdown",
            "source": [
                "# Introduction to SQL for Excel Users – Part 11: More CTEs & Windows\r\n",
                "\r\n",
                "[Original post](https://www.daveondata.com/blog/introduction-to-sql-for-excel-users-part-11-more-ctes-windows/)"
            ],
            "metadata": {
                "azdata_cell_guid": "098348cc-8664-4c26-a47d-56cce4b069b1"
            }
        },
        {
            "cell_type": "markdown",
            "source": [
                "## RFM Analysis\r\n",
                "\r\n",
                "NOTE – This post will divert a bit from the normal pattern. There will be no Excel coverage because the new concept (i.e., using multiple CTEs) is quite simple and I didn’t want the blog post be too long.\r\n",
                "\r\n",
                "In this post I will show the power of SQL by implementing an old school, but still quite useful, technique – RFM analysis.\r\n",
                "\r\n",
                "RFM analysis comes to us from the world of direct marketing (e.g., snail mail marketing).\r\n",
                "\r\n",
                "RFM is primarily used as means of quantifying the value of customers along three vectors:\r\n",
                "\r\n",
                "Recency – How recently has a customer made a purchase?\r\n",
                "Frequency – How often does a customer make a purchase?\r\n",
                "Monetary – How much does a customer spend on purchases?\r\n",
                "Conceptually, the overall process for RFM analyses is quite simple. For each customer you calculate:\r\n",
                "\r\n",
                "The elapsed time since their most recent purchase (the R)\r\n",
                "How often purchases are made (the F)\r\n",
                "Total amount spent (the M)\r\n",
                "For steps 2 and 3 you can mix things up based on time scales (e.g., for all time, the current year, the last 6 months, etc.)\r\n",
                "\r\n",
                "Once the raw RFM calculations are made you then rank each customer’s individual RFM scores on a scale from 1 to 10 using the following logic:\r\n",
                "\r\n",
                "The top 10% of customers are assigned a score of 10\r\n",
                "The next 10% of customers are assigned a score of 9\r\n",
                "Repeat this process until the bottom 10% of customers are assigned a score of 1\r\n",
                "This produces a ranking of 3 individual scores ranging from 1-10.\r\n",
                "\r\n",
                "As you might imagine, your very best customers have scores of 10-10-10.\r\n",
                "\r\n",
                "You worst customers have scores of 1-1-1.\r\n",
                "\r\n",
                "You then spend your marketing dollars starting with the best customers and work your way down until you run out of money.\r\n",
                "\r\n",
                "Easy peasy!\r\n",
                "\r\n",
                "Also, it is worthy to note that this technique can be used for a broad range of scenarios.\r\n",
                "\r\n",
                "For example, I have used the RFM idea to rank US zip codes based on data from the US Census Bureau."
            ],
            "metadata": {
                "azdata_cell_guid": "ab7f5496-91ce-4a13-a74a-669c846de3c4"
            }
        },
        {
            "cell_type": "markdown",
            "source": [
                "## The Data\r\n",
                "\r\n",
                "For this post I will be switching tables and using FactInternetSales.\r\n",
                "\r\n",
                "FactInternetSales fits a particular data warehousing design pattern that makes various kinds of analyses using SQL quite easy.\r\n",
                "\r\n",
                "For the purposes of a RFM analysis, the design of FactInternetSales means we have to work with groupings in the data.\r\n",
                "\r\n",
                "Take the following snippet of data from FactInternetSales:"
            ],
            "metadata": {
                "azdata_cell_guid": "c0dec46f-91a0-4fd7-9af3-179ddd843348"
            }
        },
        {
            "cell_type": "code",
            "source": [
                ""
            ],
            "metadata": {
                "azdata_cell_guid": "13f0a013-8d0c-4b11-8189-a1710a50be83"
            },
            "outputs": [],
            "execution_count": null
        },
        {
            "cell_type": "markdown",
            "source": [
                "Notice in the data snippet ☝ that the value for CustomerKey (i.e., the unique ID for customers) are all the same.\r\n",
                "\r\n",
                "However, notice that SalesOrderNumber has 3 distinct values:\r\n",
                "\r\n",
                "- SO43793\r\n",
                "- SO51522\r\n",
                "- SO57418\r\n",
                "\r\n",
                "Also notice the SalesOrderLineNumber column. This tells me that each row in FactInternetSales:\r\n",
                "\r\n",
                "- Represents a single order line item (e.g., 47 widgets)…\r\n",
                "- Purchased as part of a sales order (e.g., SO57418)…\r\n",
                "- For a customer (e.g., 11000)\r\n",
                "\r\n",
                "In terms of the RFM analysis, I will be working with two groups:\r\n",
                "\r\n",
                "- I need to group OrderLineItemNumbers based on SalesOrderNumber\r\n",
                "- I need to group SalesOrderNumbers based on CustomerKeys\r\n",
                "\r\n",
                "Via the above groupings I can calculate the first round of numbers for each customer.\r\n",
                "\r\n",
                "NOTE – Since I have not covered working with dates as of yet, this post will work with the **F** and the **M** only.\r\n",
                "\r\n",
                "Don’t worry!\r\n",
                "\r\n",
                "Dates are coming up shortly and I will revisit the **R** in an upcoming post."
            ],
            "metadata": {
                "azdata_cell_guid": "aac42d02-85b1-45f4-99f0-fdd2e61371ed"
            }
        },
        {
            "cell_type": "markdown",
            "source": [
                "## Grouping Sales Orders\r\n",
                "\r\n",
                "In the last post I introduced CTEs.\r\n",
                "\r\n",
                "CTEs are wildly useful in crafting most excellent SQL code.\r\n",
                "\r\n",
                "I know from looking at the FactInternetSales data that I need to group sales orders and then use this group in the grouping by customers.\r\n",
                "\r\n",
                "That means I’ll need to work directly with a virtual table of grouped sales orders.\r\n",
                "\r\n",
                "Using a CTE is a great way to go in this scenario.\r\n",
                "\r\n",
                "Here’s the first chunk of SQL:"
            ],
            "metadata": {
                "azdata_cell_guid": "6836daa2-3bcc-4807-a075-cec3bbfdadbf"
            }
        },
        {
            "cell_type": "code",
            "source": [
                "WITH CustomerSalesOrders AS\r\n",
                "(\r\n",
                "    SELECT FIS.CustomerKey\r\n",
                "          ,FIS.SalesOrderNumber\r\n",
                "          ,SUM(SalesAmount) AS SalesAmount\r\n",
                "    FROM FactInternetSales FIS\r\n",
                "    GROUP BY FIS.CustomerKey, FIS.SalesOrderNumber\r\n",
                ")\r\n",
                "SELECT *\r\n",
                "FROM CustomerSalesOrders CSO\r\n",
                "ORDER BY CSO.CustomerKey;"
            ],
            "metadata": {
                "azdata_cell_guid": "21c6db39-545c-40ba-9962-49b50dfb724a"
            },
            "outputs": [],
            "execution_count": null
        },
        {
            "cell_type": "markdown",
            "source": [
                "Awesome!\r\n",
                "\r\n",
                "I now have sales order totals.\r\n",
                "\r\n",
                "Notice that that the query ☝ above uses the SUM aggregate function.\r\n",
                "\r\n",
                "Time to add the second grouping."
            ],
            "metadata": {
                "azdata_cell_guid": "a68d9305-94f0-4123-9afe-2f6d6f3c677a"
            }
        },
        {
            "cell_type": "markdown",
            "source": [
                "## Grouping Customers\r\n",
                "\r\n",
                "Since I’ve wrapped the sales orders in a CTE, I can work with the query results directly as a named virtual table.\r\n",
                "\r\n",
                "Here’s some SQL goodness that aggregates the sales order data to individual customers:"
            ],
            "metadata": {
                "azdata_cell_guid": "bdcf7b41-204a-4ee1-a29e-9b1f4ce37069"
            }
        },
        {
            "cell_type": "code",
            "source": [
                "WITH CustomerSalesOrders AS\r\n",
                "(\r\n",
                "    SELECT FIS.CustomerKey\r\n",
                "          ,FIS.SalesOrderNumber\r\n",
                "          ,SUM(SalesAmount) AS SalesAmount\r\n",
                "    FROM FactInternetSales FIS\r\n",
                "    GROUP BY FIS.CustomerKey, FIS.SalesOrderNumber\r\n",
                ")\r\n",
                "SELECT CSO.CustomerKey\r\n",
                "      ,COUNT(*) AS SalesOrderCount\r\n",
                "      ,SUM(CSO.SalesAmount) AS SalesAmount\r\n",
                "FROM CustomerSalesOrders CSO\r\n",
                "GROUP BY CSO.CustomerKey\r\n",
                "ORDER BY CSO.CustomerKey;"
            ],
            "metadata": {
                "azdata_cell_guid": "3aab55ef-be2a-4f95-b194-2a01668409e3"
            },
            "outputs": [],
            "execution_count": null
        },
        {
            "cell_type": "markdown",
            "source": [
                "The query ☝ makes use of the COUNT aggregate function.\r\n",
                "\r\n",
                "Excellent.\r\n",
                "\r\n",
                "Now I can use this last virtual table to perform the RFM scoring.\r\n",
                "\r\n",
                "However, to do that I need to give this last virtual table a name…"
            ],
            "metadata": {
                "azdata_cell_guid": "5e3eaa41-1294-434d-86b6-b7b821ec1cbc"
            }
        },
        {
            "cell_type": "markdown",
            "source": [
                "## Multiple CTEs\r\n",
                "\r\n",
                "SQL supports defining multiple CTEs in the same query.\r\n",
                "\r\n",
                "Not surprisingly, analytics pros use this feature of SQL a lot.\r\n",
                "\r\n",
                "And I mean a lot.\r\n",
                "\r\n",
                "Here’s a general template of how to code this up:\r\n",
                "\r\n",
                "```\r\n",
                "WITH <CTE name #1 /> AS\r\n",
                "(\r\n",
                "     <CTE query />\r\n",
                "),\r\n",
                "<CTE name #2 /> AS\r\n",
                "(\r\n",
                "     <CTE query />\r\n",
                "),\r\n",
                "<CTE name X /> AS\r\n",
                "(\r\n",
                "     <CTE query />\r\n",
                ")\r\n",
                "SELECT <CTE columns />\r\n",
                "FROM <CTE name />;\r\n",
                "```\r\n",
                "\r\n",
                "Using the above template, I can modify the SQL to be:\r\n",
                ""
            ],
            "metadata": {
                "azdata_cell_guid": "3dc32016-aa87-4e71-844a-dc4c50805012"
            }
        },
        {
            "cell_type": "code",
            "source": [
                "WITH CustomerSalesOrders AS\r\n",
                "(\r\n",
                "    SELECT FIS.CustomerKey\r\n",
                "          ,FIS.SalesOrderNumber\r\n",
                "          ,SUM(SalesAmount) AS SalesAmount\r\n",
                "    FROM FactInternetSales FIS\r\n",
                "    GROUP BY FIS.CustomerKey, FIS.SalesOrderNumber\r\n",
                "),\r\n",
                "CustomerSalesOrderHistory AS\r\n",
                "(\r\n",
                "    SELECT CSO.CustomerKey\r\n",
                "          ,COUNT(*) AS SalesOrderCount\r\n",
                "          ,SUM(CSO.SalesAmount) AS SalesAmount\r\n",
                "    FROM CustomerSalesOrders CSO\r\n",
                "    GROUP BY CSO.CustomerKey\r\n",
                ")\r\n",
                "SELECT *\r\n",
                "FROM CustomerSalesOrderHistory CSOH\r\n",
                "ORDER BY CSOH.CustomerKey;"
            ],
            "metadata": {
                "azdata_cell_guid": "3c3766fc-952d-4704-ad65-2dbbe7a05df5"
            },
            "outputs": [],
            "execution_count": null
        },
        {
            "cell_type": "markdown",
            "source": [
                "The above code produces the same results as in the last section.\r\n",
                "\r\n",
                "Sweet!\r\n",
                "\r\n",
                "Time to RFM."
            ],
            "metadata": {
                "azdata_cell_guid": "c462fac6-4fc4-48d5-b068-bc0ce3d501a7"
            }
        },
        {
            "cell_type": "markdown",
            "source": [
                "## Using NTILE for RFM\r\n",
                "\r\n",
                "To conduct the RFM analysis I will be using the NTILE window function.\r\n",
                "\r\n",
                "NTILE is quite handy.\r\n",
                "\r\n",
                "You provide NTILE an integer value (e.g., 10) and define a window.\r\n",
                "\r\n",
                "NTILE then assigns a score appropriately.\r\n",
                "\r\n",
                "The best way to understand NTILE is to see it in action:"
            ],
            "metadata": {
                "azdata_cell_guid": "73cf12e6-52c5-409c-86b3-902b36ccd444"
            }
        },
        {
            "cell_type": "code",
            "source": [
                "WITH CustomerSalesOrders AS\r\n",
                "(\r\n",
                "    SELECT FIS.CustomerKey\r\n",
                "          ,FIS.SalesOrderNumber\r\n",
                "          ,SUM(SalesAmount) AS SalesAmount\r\n",
                "    FROM FactInternetSales FIS\r\n",
                "    GROUP BY FIS.CustomerKey, FIS.SalesOrderNumber\r\n",
                "),\r\n",
                "CustomerSalesOrderHistory AS\r\n",
                "(\r\n",
                "    SELECT CSO.CustomerKey\r\n",
                "          ,COUNT(*) AS SalesOrderCount\r\n",
                "          ,SUM(CSO.SalesAmount) AS SalesAmount\r\n",
                "    FROM CustomerSalesOrders CSO\r\n",
                "    GROUP BY CSO.CustomerKey\r\n",
                ")\r\n",
                "SELECT CSOH.CustomerKey\r\n",
                "      ,NTILE(10) OVER (ORDER BY CSOH.SalesOrderCount ASC) AS FrequencyScore\r\n",
                "      ,NTILE(10) OVER (ORDER BY CSOH.SalesAmount ASC) AS MonetaryScore\r\n",
                "FROM CustomerSalesOrderHistory CSOH\r\n",
                "ORDER BY CSOH.CustomerKey;"
            ],
            "metadata": {
                "azdata_cell_guid": "4202240f-2df8-453d-9143-ce70ff41b1c4"
            },
            "outputs": [],
            "execution_count": null
        },
        {
            "cell_type": "markdown",
            "source": [
                "Awwwww, yeah!\r\n",
                "\r\n",
                "And if I wanted to find just my 10-10’s:"
            ],
            "metadata": {
                "azdata_cell_guid": "b076a6b8-2c02-4a6f-8238-67707ac4aca2"
            }
        },
        {
            "cell_type": "code",
            "source": [
                "WITH CustomerSalesOrders AS\r\n",
                "(\r\n",
                "    SELECT FIS.CustomerKey\r\n",
                "          ,FIS.SalesOrderNumber\r\n",
                "          ,SUM(SalesAmount) AS SalesAmount\r\n",
                "    FROM FactInternetSales FIS\r\n",
                "    GROUP BY FIS.CustomerKey, FIS.SalesOrderNumber\r\n",
                "),\r\n",
                "CustomerSalesOrderHistory AS\r\n",
                "(\r\n",
                "    SELECT CSO.CustomerKey\r\n",
                "          ,COUNT(*) AS SalesOrderCount\r\n",
                "          ,SUM(CSO.SalesAmount) AS SalesAmount\r\n",
                "    FROM CustomerSalesOrders CSO\r\n",
                "    GROUP BY CSO.CustomerKey\r\n",
                "),\r\n",
                "RFM AS\r\n",
                "(\r\n",
                "    SELECT CSOH.CustomerKey\r\n",
                "          ,NTILE(10) OVER (ORDER BY CSOH.SalesOrderCount ASC) AS FrequencyScore\r\n",
                "          ,NTILE(10) OVER (ORDER BY CSOH.SalesAmount ASC) AS MonetaryScore\r\n",
                "    FROM CustomerSalesOrderHistory CSOH\r\n",
                ")\r\n",
                "SELECT *\r\n",
                "FROM RFM FM\r\n",
                "WHERE FM.FrequencyScore = 10 AND FM.MonetaryScore = 10\r\n",
                "ORDER BY FM.CustomerKey;"
            ],
            "metadata": {
                "azdata_cell_guid": "3cbeda2e-7b5d-4299-b14c-4c6e81cc6d1f"
            },
            "outputs": [],
            "execution_count": null
        },
        {
            "cell_type": "markdown",
            "source": [
                "Voila!\r\n",
                "\r\n",
                "I should mention that you could produce the final results with less SQL using techniques I haven’t covered yet.\r\n",
                "\r\n",
                "As usual, this example is contrived to suit my nefarious teaching plan. 😁"
            ],
            "metadata": {
                "azdata_cell_guid": "d5f2838c-83b3-46f1-986c-d623d580d661"
            }
        },
        {
            "cell_type": "markdown",
            "source": [
                "## T-SQL Window Functions\r\n",
                "\r\n",
                "T-SQL’s window functions are wildly, wildly useful stuff for the analytics professional.\r\n",
                "\r\n",
                "Be sure to check out Microsoft’s documentation for full details.\r\n",
                "\r\n",
                "There also an awesome book dedicated to just this part of T-SQL’s goodness.\r\n",
                "\r\n",
                "So far in this series I’ve covered just the ROW_NUMBER and NTILE window functions, there are others that are very useful:\r\n",
                "\r\n",
                "- PERCENT_RANK\r\n",
                "- LAG\r\n",
                "- LEAD\r\n",
                "\r\n",
                "Windows function – learn them, use them, 😍 them!"
            ],
            "metadata": {
                "azdata_cell_guid": "f625a92f-c7db-425f-8d59-5bd6ab32d8e1"
            }
        },
        {
            "cell_type": "markdown",
            "source": [
                "## The Learning Arc\r\n",
                "\r\n",
                "The next post will be a bit of a departure.\r\n",
                "\r\n",
                "Some folks are having issues with SSMS, so I am going to write a post with some tips.\r\n",
                "\r\n",
                "Regular SQL goodness programming will resume after.\r\n",
                "\r\n",
                "Stay healthy and happy data sleuthing!"
            ],
            "metadata": {
                "azdata_cell_guid": "392724fb-c003-46a3-ba7e-0747f0a00bd6"
            }
        }
    ]
}