{
    "metadata": {
        "kernelspec": {
            "name": "SQL",
            "display_name": "SQL",
            "language": "sql"
        },
        "language_info": {
            "name": "sql",
            "version": ""
        }
    },
    "nbformat_minor": 2,
    "nbformat": 4,
    "cells": [
        {
            "cell_type": "markdown",
            "source": [
                "# Introduction to SQL for Excel Users – Part 2: Basic Tables\r\n",
                "\r\n",
                "[Original post](https://www.daveondata.com/blog/introduction-to-sql-for-excel-users-part-2/)"
            ],
            "metadata": {
                "azdata_cell_guid": "d6471c1b-c5c9-414c-ab18-f8025d20c707"
            }
        },
        {
            "cell_type": "markdown",
            "source": [
                "## SQL Server Tables\r\n",
                "\r\n",
                "Time to look at the CallCenter table in SQL Server.\r\n",
                "\r\n",
                "One of the great things about Excel is that it hides so much from you.\r\n",
                "\r\n",
                "For example, Excel will automatically choose (sometimes incorrectly with much annoyance) the data type and data formatting in a table (i.e., the schema).\r\n",
                "\r\n",
                "In the SQL world that doesn’t happen. Table schema is explicitly defined.\r\n",
                "\r\n",
                "Due to this complexity I’m going to skip covering a lot of things until later posts in the tutorial.\r\n",
                "\r\n",
                "OK, here is how the CallCenter table data looks using a tool called SQL Server Management Studio (SSMS).\r\n",
                "\r\n",
                "SSMS provides a graphical front-end to SQL Server DBs. I’ll cover SSMS in some YouTube videos for those that are interested.\r\n",
                "\r\n",
                "The data looks like an awful Excel table, no? 😉\r\n",
                "\r\n",
                "Right now you should be saying, “Dave, that’s great, but what about the schema?”\r\n",
                "\r\n",
                "OK, as promised, there’s a lot going on ☝.\r\n",
                "\r\n",
                "I want you to ignore all of the above except the following:\r\n",
                "\r\n",
                "1. In SQL Server the table is named FactCallCenter, I left Fact out of the Excel name\r\n",
                "1. Notice that the Date column is of data type datetime\r\n",
                "1. In SQL the data types and formatting are explicit!\r\n",
                "\r\n",
                "While it might not seem the case right now, explicit data typing is a good thing.\r\n",
                "\r\n",
                "Let me ask you a couple of questions:\r\n",
                "\r\n",
                "- Have you ever been handed an Excel workbook where the data wasn’t formatted correctly?\r\n",
                "- Has Excel ever automatically formatted your data the wrong way?\r\n",
                "\r\n",
                "Frustrating, isn’t it?\r\n",
                "\r\n",
                "No need to worry about that with SQL!"
            ],
            "metadata": {
                "azdata_cell_guid": "655c2a84-3a32-4ec9-9a61-9aeb5a0024de"
            }
        },
        {
            "cell_type": "markdown",
            "source": [
                "## The Learning Arc\r\n",
                "\r\n",
                "Next time the subject will be choosing which data we want to see.\r\n",
                "\r\n",
                "Which rows we want to see.\r\n",
                "\r\n",
                "This concept is fundamental to both Excel and SQL.\r\n",
                "\r\n",
                "Stay healthy and happy data sleuthing!"
            ],
            "metadata": {
                "azdata_cell_guid": "c42abec1-66b2-4e65-8c5a-87c77fd9e190"
            }
        }
    ]
}