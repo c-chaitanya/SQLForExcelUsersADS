{
    "metadata": {
        "kernelspec": {
            "name": "SQL",
            "display_name": "SQL",
            "language": "sql"
        },
        "language_info": {
            "name": "sql",
            "version": ""
        }
    },
    "nbformat_minor": 2,
    "nbformat": 4,
    "cells": [
        {
            "cell_type": "markdown",
            "source": [
                "# Introduction to SQL for Excel Users – Part 2: Basic Tables\r\n",
                "\r\n",
                "[Original post](https://www.daveondata.com/blog/introduction-to-sql-for-excel-users-part-2/)"
            ],
            "metadata": {
                "azdata_cell_guid": "d6471c1b-c5c9-414c-ab18-f8025d20c707"
            }
        },
        {
            "cell_type": "markdown",
            "source": [
                "## Excel Tables\r\n",
                "\r\n",
                "I intend this tutorial to be accessible to the widest audience possible.\r\n",
                "\r\n",
                "As such, I’m going really slow to start with. Don’t worry, things will pick up quickly enough.\r\n",
                "\r\n",
                "Take the following Excel worksheet. It’s got a table of call center data which can be easily inferred from the worksheet name.\r\n",
                "\r\n",
                "![call center excel table](02\\callcentertableexcel.png)\r\n",
                "\r\n",
                "Every table in Excel has a name – whether you give it one or not.\r\n",
                "\r\n",
                "It’s worthy to note that the Excel table name doesn’t necessarily correspond to the worksheet name as you can have multiple tables in the same worksheet.\r\n",
                "\r\n",
                "We can see here that the name of the table is explicitly set to CallCenter.\r\n",
                "\r\n",
                "![call center table design excel](02\\callcentertabledesignexcel.png)\r\n",
                "\r\n",
                "Table names allow you to explicitly reference data within Excel (e.g., in formulas).\r\n",
                "\r\n",
                "But, that’s not all!\r\n",
                "\r\n",
                "Excel tables also have structure:\r\n",
                "\r\n",
                "- The CallCenter table has 14 columns\r\n",
                "- Each of the 14 columns has a specific data formatting\r\n",
                "\r\n",
                "The Excel TYPE() function can be used to inspect the data in a cell. The TYPE() returns a numeric value per this table:\r\n",
                "\r\n",
                "|If value is |TYPE returns|\r\n",
                "|------------|------------|\r\n",
                "|Number | 1|\r\n",
                "|Text | 2|\r\n",
                "|Logical value | 4|\r\n",
                "|Error value | 16|\r\n",
                "|Array | 64|\r\n",
                "\r\n",
                "I can use the TYPE() function to get some idea about the data in the table:\r\n",
                "\r\n",
                "![call center table data types excel](02\\callcentertabledatatypesexcel.png)\r\n",
                "\r\n",
                "Notice how almost all columns are considered Numbers by Excel – including dates!\r\n",
                "\r\n",
                "This is an important concept – a data type is different than data formatting.\r\n",
                "\r\n",
                "In this case, even though the Date column appears (i.e., is formatted) as a date in Excel, behind the scenes it is a Number.\r\n",
                "\r\n",
                "Ever wonder why things look funky when you open a .CSV in Excel the first time? 😉\r\n",
                "\r\n",
                "In the SQL world a table’s structure (i.e., the columns and the data types of those columns) is known as its schema.\r\n",
                "\r\n",
                "It turns out, a table’s schema is just as important in SQL as it is in Excel.\r\n",
                "\r\n",
                ""
            ],
            "metadata": {
                "azdata_cell_guid": "4b04c57b-57dd-45df-a3b0-aaba9a72c7b6"
            }
        },
        {
            "cell_type": "markdown",
            "source": [
                "## SQL Server Tables\r\n",
                "\r\n",
                "Time to look at the CallCenter table in SQL Server.\r\n",
                "\r\n",
                "One of the great things about Excel is that it hides so much from you.\r\n",
                "\r\n",
                "For example, Excel will automatically choose (sometimes incorrectly with much annoyance) the data type and data formatting in a table (i.e., the schema).\r\n",
                "\r\n",
                "In the SQL world that doesn’t happen. Table schema is explicitly defined.\r\n",
                "\r\n",
                "Due to this complexity I’m going to skip covering a lot of things until later posts in the tutorial.\r\n",
                "\r\n",
                "OK, here is how the CallCenter table data looks using a tool called SQL Server Management Studio (SSMS).\r\n",
                "\r\n",
                "SSMS provides a graphical front-end to SQL Server DBs. I’ll cover SSMS in some YouTube videos for those that are interested.\r\n",
                "\r\n",
                "![call center table sql](02\\callcentertablesql.png)\r\n",
                "\r\n",
                "The data looks like an awful Excel table, no? 😉\r\n",
                "\r\n",
                "Right now you should be saying, “Dave, that’s great, but what about the schema?”\r\n",
                "\r\n",
                "![call center table data types sql](02\\callcentertabledatatypessql.png)\r\n",
                "\r\n",
                "OK, as promised, there’s a lot going on ☝.\r\n",
                "\r\n",
                "I want you to ignore all of the above except the following:\r\n",
                "\r\n",
                "1. In SQL Server the table is named FactCallCenter, I left Fact out of the Excel name\r\n",
                "1. Notice that the Date column is of data type datetime\r\n",
                "1. In SQL the data types and formatting are explicit!\r\n",
                "\r\n",
                "While it might not seem the case right now, explicit data typing is a good thing.\r\n",
                "\r\n",
                "Let me ask you a couple of questions:\r\n",
                "\r\n",
                "- Have you ever been handed an Excel workbook where the data wasn’t formatted correctly?\r\n",
                "- Has Excel ever automatically formatted your data the wrong way?\r\n",
                "\r\n",
                "Frustrating, isn’t it?\r\n",
                "\r\n",
                "No need to worry about that with SQL!"
            ],
            "metadata": {
                "azdata_cell_guid": "655c2a84-3a32-4ec9-9a61-9aeb5a0024de"
            }
        },
        {
            "cell_type": "markdown",
            "source": [
                "## The Learning Arc\r\n",
                "\r\n",
                "Next time the subject will be choosing which data we want to see.\r\n",
                "\r\n",
                "Which rows we want to see.\r\n",
                "\r\n",
                "This concept is fundamental to both Excel and SQL.\r\n",
                "\r\n",
                "Stay healthy and happy data sleuthing!"
            ],
            "metadata": {
                "azdata_cell_guid": "c42abec1-66b2-4e65-8c5a-87c77fd9e190"
            }
        }
    ]
}