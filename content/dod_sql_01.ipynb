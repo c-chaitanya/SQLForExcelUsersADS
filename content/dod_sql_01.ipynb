{
    "metadata": {
        "kernelspec": {
            "name": "SQL",
            "display_name": "SQL",
            "language": "sql"
        },
        "language_info": {
            "name": "sql",
            "version": ""
        }
    },
    "nbformat_minor": 2,
    "nbformat": 4,
    "cells": [
        {
            "cell_type": "markdown",
            "source": [
                "# Introduction to SQL for Excel Users – Part 1\r\n",
                "\r\n",
                "[Original post](https://www.daveondata.com/blog/sql-for-excel-users-part-1/)"
            ],
            "metadata": {
                "azdata_cell_guid": "6cc06299-9768-4f8c-aac3-13258038669d"
            }
        },
        {
            "cell_type": "markdown",
            "source": [
                "## Why SQL For Excel Users Makes Sense\r\n",
                "\r\n",
                "![Excel Logo](01\\ExcelLogo.png) Microsoft Excel is, by far and away, the world’s most popular data analysis tool. Estimates are [1 out of 5 adults worldwide](https://hbr.org/2020/02/boost-your-teams-data-literacy) use Excel!\r\n",
                "\r\n",
                "More importantly, usage of Excel teaches a critical concept – analyzing a table of data. Tables are the basic concept in Excel. You can filter tables. You can name tables. You can sort tables. You can hide columns to select only the data that you want.\r\n",
                "\r\n",
                "Using pivot tables you gain additional power through grouping by table columns and creating aggregates values of columns (e.g., summing all sales for a particular company division).\r\n",
                "\r\n",
                "You can have Excel make your data more useful by formatting cells as particular types of data (e.g., currency, dates, text, etc.).\r\n",
                "\r\n",
                "Guess what you do when you use SQL to assist in your data analyses?\r\n",
                "\r\n",
                "- You work with tables in the database\r\n",
                "- You filter, sort, and select only the data you want\r\n",
                "- You group by columns and aggregate values\r\n",
                "- Format the data (e.g., dates) to make it more useful\r\n",
                "\r\n",
                "Sound familiar? 😲\r\n",
                "\r\n",
                "I’ve taught hundreds of working professionals all kinds of programming skills over the years.\r\n",
                "\r\n",
                "Trust me.\r\n",
                "\r\n",
                "If you want it, you got this!"
            ],
            "metadata": {
                "azdata_cell_guid": "da4cccce-fd5d-4814-af9d-0c9d4e5230f0"
            }
        },
        {
            "cell_type": "markdown",
            "source": [
                "## Why SQL Server?\r\n",
                "\r\n",
                "I will be using Microsoft SQL Server’s flavor of SQL (called “T-SQL”) in this tutorial. Here are the reasons why:\r\n",
                "\r\n",
                "1. SQL Server is one of the most commonly used databases, especially in enterprise environments\r\n",
                "1. For those interested in taking their T-SQL skills to the next level, [SQL Server Developer Edition](https://www.microsoft.com/en-us/sql-server/sql-server-downloads) is free\r\n",
                "1. You can easily get experience with T-SQL using a [free Azure trial account](https://azure.microsoft.com/en-us/free/) and the super-sweet [Azure Data Science VM](https://azuremarketplace.microsoft.com/en-us/marketplace/apps/microsoft-dsvm.dsvm-win-2019?tab=Overview)\r\n",
                "1. Any hiring manager worth working for understands that picking up another SQL flavor (e.g., Oracle’s PL-SQL) is easy if you know T-SQL\r\n",
                "\r\n",
                "The good news is that, for the next couple posts, I will be focusing on concepts.\r\n",
                "\r\n",
                "That gives you time to, “try before you buy.” 😁\r\n",
                "\r\n",
                "I will also be posting short YouTube tutorials showing how to get started with T-SQL on your own Windows machine or in Azure.\r\n",
                "\r\n",
                "SQL for Excel users – yeah, baby!"
            ],
            "metadata": {
                "azdata_cell_guid": "e6c16d0e-e688-4997-b2fd-7806bf4ef442"
            }
        },
        {
            "cell_type": "markdown",
            "source": [
                "## The Learning Arc\r\n",
                "\r\n",
                "The first block of the tutorial will focus on analyzing a single table of data from the [AdventureWorks Sample DW](https://docs.microsoft.com/en-us/sql/samples/adventureworks-install-configure?view=sql-server-ver15) database.\r\n",
                "\r\n",
                "I’ll walk through various Excel concepts and analysis techniques.\r\n",
                "\r\n",
                "I will then walk through the corresponding concepts and techniques in T-SQL.\r\n",
                "\r\n",
                "Later, I will move on to more advanced T-SQL concepts:\r\n",
                "\r\n",
                "Working with more than 1 table of data at a time\r\n",
                "Killer analytical techniques (e.g., why I 😍 ROW_NUMBER)\r\n",
                "T-SQL techniques for making your code easier to read/maintain\r\n",
                "Ready to take your data skills to the next level?\r\n",
                "\r\n",
                "SQL should be part of your plan."
            ],
            "metadata": {
                "azdata_cell_guid": "5e388f92-99e1-4c62-ba40-558fe328b3d8"
            }
        }
    ]
}