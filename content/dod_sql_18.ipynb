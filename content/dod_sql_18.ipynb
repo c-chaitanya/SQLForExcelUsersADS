{
    "metadata": {
        "kernelspec": {
            "name": "SQL",
            "display_name": "SQL",
            "language": "sql"
        },
        "language_info": {
            "name": "sql",
            "version": ""
        }
    },
    "nbformat_minor": 2,
    "nbformat": 4,
    "cells": [
        {
            "cell_type": "markdown",
            "source": [
                "# Introduction to SQL for Excel Users – Part 18: Basic CASE WHEN\r\n",
                "\r\n",
                "[Original post](https://www.daveondata.com/blog/introduction-to-sql-for-excel-users-part-18-basic-case-when/)"
            ],
            "metadata": {
                "azdata_cell_guid": "48e286ee-a4df-4f13-8e73-bef804ca8e3b"
            }
        },
        {
            "cell_type": "markdown",
            "source": [
                "## The Data\r\n",
                "\r\n",
                "For the purposes of this post, the following query provides the data used in both Excel and SQL code:\r\n",
                "\r\n",
                "The SQL groups the individual rows of FactResellerSales to the SalesOrderNumber grain and calculates a total SalesAmount for each sales order."
            ],
            "metadata": {
                "azdata_cell_guid": "3b2c49d6-cdc0-4ac3-8b0b-ee024a65a131"
            }
        },
        {
            "cell_type": "code",
            "source": [
                "SELECT FRS.SalesOrderNumber\r\n",
                "      ,SUM(FRS.SalesAmount) AS SalesAmount\r\n",
                "FROM FactResellerSales FRS \r\n",
                "GROUP BY FRS.SalesOrderNumber\r\n",
                "ORDER BY FRS.SalesOrderNumber"
            ],
            "metadata": {
                "azdata_cell_guid": "82f58d35-24fe-49fe-ad66-2cd95f876d45",
                "tags": []
            },
            "outputs": [],
            "execution_count": null
        },
        {
            "cell_type": "markdown",
            "source": [
                "## Conditional Data in SQL\r\n",
                "\r\n",
                "To make my coding a little easier, I’m going to use a common table expression (CTE) to aggregate FactResellerSales:"
            ],
            "metadata": {
                "azdata_cell_guid": "57f01aac-d989-43ad-b07b-f2ed707a1373"
            }
        },
        {
            "cell_type": "code",
            "source": [
                "WITH SalesOrders AS\r\n",
                "(\r\n",
                "    SELECT FRS.SalesOrderNumber\r\n",
                "          ,SUM(FRS.SalesAmount) AS SalesAmount\r\n",
                "    FROM FactResellerSales FRS \r\n",
                "    GROUP BY FRS.SalesOrderNumber\r\n",
                ")"
            ],
            "metadata": {
                "azdata_cell_guid": "39561cab-d56e-45fe-a825-f77c01ae1f0b"
            },
            "outputs": [],
            "execution_count": null
        },
        {
            "cell_type": "markdown",
            "source": [
                "I’ve covered CTEs previously, if you’re not familiar check out this post.\r\n",
                "\r\n",
                "The SQL equivalent of the Excel IF function is CASE WHEN.\r\n",
                "\r\n",
                "I’ll demonstrate the SQL first and discuss after:"
            ],
            "metadata": {
                "azdata_cell_guid": "a1665315-3949-40d9-93a4-94a651bf4445"
            }
        },
        {
            "cell_type": "code",
            "source": [
                "WITH SalesOrders AS\r\n",
                "(\r\n",
                "    SELECT FRS.SalesOrderNumber\r\n",
                "          ,SUM(FRS.SalesAmount) AS SalesAmount\r\n",
                "    FROM FactResellerSales FRS \r\n",
                "    GROUP BY FRS.SalesOrderNumber\r\n",
                ")\r\n",
                "SELECT SO.SalesOrderNumber\r\n",
                "      ,SO.SalesAmount\r\n",
                "      ,CASE\r\n",
                "        WHEN SO.SalesAmount > 8400 THEN 'Large'\r\n",
                "        ELSE 'Small'\r\n",
                "       END AS OrderSize\r\n",
                "FROM SalesOrders SO\r\n",
                "ORDER BY SO.SalesOrderNumber;"
            ],
            "metadata": {
                "azdata_cell_guid": "6bb4f629-e488-4f6f-90b6-7ce97712626c"
            },
            "outputs": [],
            "execution_count": null
        },
        {
            "cell_type": "markdown",
            "source": [
                "Conceptually, the SQL ☝ maps to Excel as such:\r\n",
                "\r\n",
                "1. CASE and END map to IF( and ), respectively\r\n",
                "1. WHEN SO.SalesAmount > 8400 maps to B2 > 8400\r\n",
                "1. THEN 'Large' maps to \"Large\"\r\n",
                "1. ELSE 'Small' maps to \"Small\"\r\n",
                "\r\n",
                "Yes, unfortunately, using CASE WHEN involves a lot more typing than using IF in Excel. 😢"
            ],
            "metadata": {
                "azdata_cell_guid": "ecb705e6-0203-49b3-b25c-a263fe907d10"
            }
        },
        {
            "cell_type": "markdown",
            "source": [
                "## Multiple Conditional Data in SQL\r\n",
                "\r\n",
                "As you might imagine, it’s easy to extend CASE WHEN to the mulitple condition scenario.\r\n",
                "\r\n",
                "You just add more WHENs!"
            ],
            "metadata": {
                "azdata_cell_guid": "c35773d2-c760-44b4-b728-b041f252f6f0"
            }
        },
        {
            "cell_type": "code",
            "source": [
                "WITH SalesOrders AS\r\n",
                "(\r\n",
                "    SELECT FRS.SalesOrderNumber\r\n",
                "          ,SUM(FRS.SalesAmount) AS SalesAmount\r\n",
                "    FROM FactResellerSales FRS \r\n",
                "    GROUP BY FRS.SalesOrderNumber\r\n",
                ")\r\n",
                "SELECT SO.SalesOrderNumber\r\n",
                "      ,SO.SalesAmount\r\n",
                "      ,CASE\r\n",
                "        WHEN SO.SalesAmount < 1545 THEN 'Small'\r\n",
                "        WHEN SO.SalesAmount < 8400 THEN 'Medium'\r\n",
                "        WHEN SO.SalesAmount < 34234 THEN 'Large'\r\n",
                "        ELSE 'Extra Large'\r\n",
                "       END AS OrderSize\r\n",
                "FROM SalesOrders SO\r\n",
                "ORDER BY SO.SalesOrderNumber;"
            ],
            "metadata": {
                "azdata_cell_guid": "def740b0-bb7f-48c0-90be-058303e3aa70"
            },
            "outputs": [],
            "execution_count": null
        },
        {
            "cell_type": "markdown",
            "source": [
                "Even though I prolly don’t have to, I’m going to mention this.\r\n",
                "\r\n",
                "Notice that SQL works like Excel.\r\n",
                "\r\n",
                "That is, the first qualifying WHEN condition determines what is returned from the CASE, or ELSE if none of the WHENs apply."
            ],
            "metadata": {
                "azdata_cell_guid": "3a45859f-1e13-424b-b77f-845099e68c96"
            }
        },
        {
            "cell_type": "markdown",
            "source": [
                "## Embedding CASE WHENs\r\n",
                "\r\n",
                "It is totally acceptable to embed a CASE WHEN inside another CASE WHEN.\r\n",
                "\r\n",
                "Here’s a really contrived example. 😉\r\n",
                "\r\n",
                "Let’s say I need to differentiate Small sales order by whether they end in an odd or even number."
            ],
            "metadata": {
                "azdata_cell_guid": "71d35c6f-93cf-431d-aaa8-0a1b506ae211"
            }
        },
        {
            "cell_type": "code",
            "source": [
                "WITH SalesOrders AS\r\n",
                "(\r\n",
                "    SELECT FRS.SalesOrderNumber\r\n",
                "          ,SUM(FRS.SalesAmount) AS SalesAmount\r\n",
                "    FROM FactResellerSales FRS \r\n",
                "    GROUP BY FRS.SalesOrderNumber\r\n",
                ")\r\n",
                "SELECT SO.SalesOrderNumber\r\n",
                "      ,SO.SalesAmount\r\n",
                "      ,CASE\r\n",
                "        WHEN SO.SalesAmount < 1545 THEN\r\n",
                "            CASE\r\n",
                "                WHEN RIGHT(SO.SalesOrderNumber, 1) % 2 = 0 THEN 'Small Even'\r\n",
                "                ELSE 'Small Odd'\r\n",
                "            END                                        \r\n",
                "        WHEN SO.SalesAmount < 8400 THEN 'Medium'\r\n",
                "        WHEN SO.SalesAmount < 34234 THEN 'Large'\r\n",
                "        ELSE 'Extra Large'\r\n",
                "       END AS OrderSize\r\n",
                "FROM SalesOrders SO\r\n",
                "ORDER BY SO.SalesOrderNumber;"
            ],
            "metadata": {
                "azdata_cell_guid": "db924d03-6174-4ec0-8f7a-c5abe54b1055"
            },
            "outputs": [],
            "execution_count": null
        },
        {
            "cell_type": "markdown",
            "source": [
                "I won’t explain the embedded CASE WHEN because I think you got it. 😁\r\n",
                "\r\n",
                "I will explain the following SQL snippet:\r\n",
                "\r\n",
                "```\r\n",
                "RIGHT(SO.SalesOrderNumber, 1) % 2 = 0\r\n",
                "\r\n",
                "```\r\n",
                "\r\n",
                "The RIGHT function takes in a string (in this case, the sales order number) and gives back X number of characters starting from the right side of the string.\r\n",
                "\r\n",
                "In this case, the last character of SalesOrderNumber.\r\n",
                "\r\n",
                "The % is the T-SQL modulo arithmetic operator. It return the remainder of one number divided by another.\r\n",
                "\r\n",
                "Conceptually, here’s how the ☝ SQL snippet works:\r\n",
                "\r\n",
                "1. Grab the last character of the SalesOrderNumber using RIGHT…\r\n",
                "1. Implicitly transform the character (i.e., CAST) it to an INTEGER…\r\n",
                "1. Divide #2 by 2…\r\n",
                "1. Check to see if the remainder is 0 (i.e., check to see if the number is even).\r\n",
                "\r\n",
                "Sweet!\r\n",
                "\r\n",
                "Contrived SQL with a bit of a 🧠!"
            ],
            "metadata": {
                "azdata_cell_guid": "feb27a9f-c0c1-4d25-a994-3a431a5e7f34"
            }
        },
        {
            "cell_type": "markdown",
            "source": [
                "## The Learning Arc\r\n",
                "\r\n",
                "The next post will continue coverage of CASE WHEN and how it becomes arguably the most useful thing in SQL for the analytics pro.\r\n",
                "\r\n",
                "Yes, I’m referring to combining CASE WHEN with GROUP BY.\r\n",
                "\r\n",
                "Stay healthy and happy data sleuthing!"
            ],
            "metadata": {
                "azdata_cell_guid": "1fe2c978-4e96-4ab9-9041-8b98103beab3"
            }
        }
    ]
}