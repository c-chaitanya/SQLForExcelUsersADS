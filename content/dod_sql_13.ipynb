{
    "metadata": {
        "kernelspec": {
            "name": "SQL",
            "display_name": "SQL",
            "language": "sql"
        },
        "language_info": {
            "name": "sql",
            "version": ""
        }
    },
    "nbformat_minor": 2,
    "nbformat": 4,
    "cells": [
        {
            "cell_type": "markdown",
            "source": [
                "# Introduction to SQL for Excel Users – Part 13: Basic Dates\r\n",
                "\r\n",
                "[Original post](https://www.daveondata.com/blog/introduction-to-sql-for-excel-users-part-13-basic-dates/)"
            ],
            "metadata": {
                "azdata_cell_guid": "08cc4785-7a18-4515-aa3e-33350638934e"
            }
        },
        {
            "cell_type": "markdown",
            "source": [
                "## The Time Dimension\r\n",
                "\r\n",
                "The time dimension is arguably the most important consideration in business analytics.\r\n",
                "\r\n",
                "Whether you are analyzing business performance (e.g., as measured by a KPI) or crafting features for a customer churn predictive model, time is a critical aspect of the analysis.\r\n",
                "\r\n",
                "Now, there’s a problem.\r\n",
                "\r\n",
                "Working with time is difficult and there’s no real way of making it simple.\r\n",
                "\r\n",
                "From different date formats used across the world (e.g., does 02/05/2020 mean Feb 5th or May 2nd?) to timezones (e.g., is that date Mountain Time or UTC?), there’s a lot to consider when working dates and times – whether you’re working in Excel or SQL."
            ],
            "metadata": {
                "azdata_cell_guid": "0e5b9a47-2e3d-42fe-bd15-2441d05cf19c"
            }
        },
        {
            "cell_type": "markdown",
            "source": [
                "## Language-Neutral Literals\r\n",
                "\r\n",
                "OK, as I mentioned above, the way you represent date strings (aka “literals”) matters depending on the language you speak.\r\n",
                "\r\n",
                "For example, here’s two valid representations of Feb 5th, 2020:\r\n",
                "\r\n",
                "02-05-2020 (US English, my personal favorite 😉)\r\n",
                "05-02-2020 (British English, which is pretty cool)\r\n",
                "Therefore, throughout this blog series I will be using language-neutral literals to represent dates and times.\r\n",
                "\r\n",
                "Here’s the language neutral reprentation of Feb 5th, 2020:\r\n",
                "\r\n",
                "2020-02-05\r\n",
                "OK, that covers dates.\r\n",
                "\r\n",
                "What about times?\r\n",
                "\r\n",
                "Sorry to my US readers, but the language-neutral represenation uses the 24-hour clock in the following format:\r\n",
                "\r\n",
                "HH:MM:SS\r\n",
                "I can easily combine the two to represent 1:34:44 PM on Feb 5th, 2020 (BTW – this date has no significance, I just pulled it out of thin air):\r\n",
                "\r\n",
                "2020-02-05 13:34:44\r\n",
                "For those of you that are familiar, I’m ignoring timezones right now.\r\n",
                "\r\n",
                "With the representations of dates and time out of the way, I’ll dive in."
            ],
            "metadata": {
                "azdata_cell_guid": "00bd0461-caae-4628-8ec8-9a67553e947c"
            }
        },
        {
            "cell_type": "markdown",
            "source": [
                "## Basic Dates in T-SQL\r\n",
                "\r\n",
                "It shouldn’t surprise you to know that SQL Server has extensive support for date and times data types.\r\n",
                "\r\n",
                "As with Excel, you can use language-specific literals (e.g., US English formats) to represents dates and time, but it is considered best practice to use language-neutral literals.\r\n",
                "\r\n",
                "However, unlike Excel, SQL uses explicit data typing.\r\n",
                "\r\n",
                "Using the CAST (introduced in Part 5) function, I can transform a literal explicitly to a date/time-related data type:\r\n",
                ""
            ],
            "metadata": {
                "azdata_cell_guid": "819b9a9f-27df-4800-a842-e9d1c9468ab2"
            }
        },
        {
            "cell_type": "code",
            "source": [
                "-- 2020-02-05 13:34:44.000\r\n",
                "SELECT CAST('2020-02-05 13:34:44' AS DATETIME)\r\n",
                "\r\n",
                "-- 2020-02-05\r\n",
                "SELECT CAST('2020-02-05 13:34:44' AS DATE)\r\n",
                "\r\n",
                "-- 13:34:44\r\n",
                "SELECT CAST('2020-02-05 13:34:44' AS TIME)"
            ],
            "metadata": {
                "azdata_cell_guid": "8c2bc5ab-b318-4319-811e-7abfdb44d215"
            },
            "outputs": [],
            "execution_count": null
        },
        {
            "cell_type": "markdown",
            "source": [
                "In SQL, types matter.\r\n",
                "\r\n",
                "A lot.\r\n",
                "\r\n",
                "Take the following example:"
            ],
            "metadata": {
                "azdata_cell_guid": "83f2b017-6851-4820-819b-862f5bf76ec2"
            }
        },
        {
            "cell_type": "code",
            "source": [
                "-- 2020-02-05 00:00:00.000\r\n",
                "SELECT CAST('2020-02-05' AS DATETIME)"
            ],
            "metadata": {
                "azdata_cell_guid": "e792346d-e8cb-46ee-86c2-5605b6413d91"
            },
            "outputs": [],
            "execution_count": null
        },
        {
            "cell_type": "markdown",
            "source": [
                "\r\n",
                "Notice that when transforming a DATE to a DATETIME a TIME is automagically added!\r\n",
                "\r\n",
                "In this case, T-SQL assumes a TIME of midnight (i.e., 00:00:00) when none is provided to a DATETIME.\r\n",
                "\r\n",
                "Also notice that DATETIMEs go down to the millisecond (ie., the .000 part). 😁\r\n",
                "\r\n",
                "What this means in practical terms is that the DATETIME of '2020-02-05 13:34:44' is not the same as the DATE of '2020-02-05'.\r\n",
                "\r\n",
                "I can’t stress this enough.\r\n",
                "\r\n",
                "So many SQL bugs (including many written by yours truly) originate in performing logic on dates/times (e.g., comparisons) and forgetting these subtleties.\r\n",
                "\r\n",
                "As with Excel, the subtleties of how SQL handles DATEs, TIMEs, and DATETIMEs carry over to the date/time-related SQL functions such as CURRENT_TIMESTAMP:"
            ],
            "metadata": {
                "azdata_cell_guid": "cf81c974-17f4-4c9e-9cc8-a0c7dd6013d9"
            }
        },
        {
            "cell_type": "code",
            "source": [
                "SELECT CURRENT_TIMESTAMP AS CurrentDateAndTime\r\n",
                "    ,CAST(CURRENT_TIMESTAMP AS DATE) AS CurrentDate\r\n",
                "    ,CAST(CURRENT_TIMESTAMP AS TIME) AS CurrentTime"
            ],
            "metadata": {
                "azdata_cell_guid": "c8927de8-049f-437e-93e1-01a4e6886bfd"
            },
            "outputs": [],
            "execution_count": null
        },
        {
            "cell_type": "markdown",
            "source": [
                "The SQL CURRENT_TIMESTAMP function is analogous to the Excel NOW function.\r\n",
                "\r\n",
                "The results ☝ are interesting for the following reasons:\r\n",
                "\r\n",
                "- The CURRENT_TIME function returns a T-SQL DATETIME\r\n",
                "- Notice by default that T-SQL TIMEs go to down 100 nanoseconds (i.e., .2866667)! 😲\r\n",
                "\r\n",
                "You can control how much TIME accuracy you would like:\r\n",
                ""
            ],
            "metadata": {
                "azdata_cell_guid": "8ac7beef-e7a2-484c-a777-08ac35bdd03e"
            }
        },
        {
            "cell_type": "markdown",
            "source": [
                "To be crystal, TIME and TIME(7) are the same thing.\r\n",
                "\r\n",
                "That’s enough for this post, I will be covering more about working with dates and times in subsequent tests."
            ],
            "metadata": {
                "azdata_cell_guid": "17b38d31-ebc3-4ad3-a9b6-9704a0a08a93"
            }
        },
        {
            "cell_type": "markdown",
            "source": [
                "## The Learning Arc\r\n",
                "\r\n",
                "Now that I’ve covered the basics of dates and times in SQL, I can use some of the T-SQL date/time functions to do some cool analyses.\r\n",
                "\r\n",
                "Specifically, I will be working with the DATEDIFF function.\r\n",
                "\r\n",
                "That will enable me to revist the RFM analysis and calculate the Recency of purchases.\r\n",
                "\r\n",
                "Stay healthy and happy data sleuthing!"
            ],
            "metadata": {
                "azdata_cell_guid": "eeb930ea-82ea-427e-93c2-e0ef5581f8d5"
            }
        }
    ]
}