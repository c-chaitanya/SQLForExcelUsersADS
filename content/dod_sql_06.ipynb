{
    "metadata": {
        "kernelspec": {
            "name": "SQL",
            "display_name": "SQL",
            "language": "sql"
        },
        "language_info": {
            "name": "sql",
            "version": ""
        }
    },
    "nbformat_minor": 2,
    "nbformat": 4,
    "cells": [
        {
            "cell_type": "markdown",
            "source": [
                "# Introduction to SQL for Excel Users – Part 6: More Feature Engineering\r\n",
                "\r\n",
                "[Original post](https://www.daveondata.com/blog/introduction-to-sql-for-excel-users-part-6-more-feature-engineering/)"
            ],
            "metadata": {
                "azdata_cell_guid": "993be6f3-da48-4409-9c57-3c7b26df9c94"
            }
        },
        {
            "cell_type": "markdown",
            "source": [
                "## More Feature Engineering in SQL – Round 1\r\n",
                "\r\n",
                "Here is one of the queries from the last post that emulates the screenshot above:"
            ],
            "metadata": {
                "azdata_cell_guid": "ec2bdf2d-a3c6-4139-bb8d-40a323412b33"
            }
        },
        {
            "cell_type": "code",
            "source": [
                "SELECT FCC.WageType\r\n",
                "      ,FCC.Shift\r\n",
                "      ,FCC.LevelOneOperators\r\n",
                "      ,FCC.LevelTwoOperators\r\n",
                "      ,FCC.Calls\r\n",
                "      ,FCC.Date\r\n",
                "      ,FCC.LevelOneOperators + FCC.LevelTwoOperators AS AllOperators\r\n",
                "FROM FactCallCenter FCC"
            ],
            "metadata": {
                "azdata_cell_guid": "5696027c-4b0f-423a-add7-4a822f7d92ad"
            },
            "outputs": [],
            "execution_count": null
        },
        {
            "cell_type": "markdown",
            "source": [
                "Modifying the above SQL to craft the AvgCallsPerOperator column is quite easy:"
            ],
            "metadata": {
                "azdata_cell_guid": "b646e4b3-ab73-483a-a29c-1cf836441e42"
            }
        },
        {
            "cell_type": "code",
            "source": [
                "SELECT FCC.WageType\r\n",
                "      ,FCC.Shift\r\n",
                "      ,FCC.LevelOneOperators\r\n",
                "      ,FCC.LevelTwoOperators\r\n",
                "      ,FCC.Calls\r\n",
                "      ,FCC.Date\r\n",
                "      ,FCC.LevelOneOperators + FCC.LevelTwoOperators AS AllOperators\r\n",
                "      ,FCC.Calls / (FCC.LevelOneOperators + FCC.LevelTwoOperators) AS AvgCallsPerOperator\r\n",
                "FROM FactCallCenter FCC"
            ],
            "metadata": {
                "azdata_cell_guid": "affad272-ee98-45aa-8e1e-13dc958d5220"
            },
            "outputs": [],
            "execution_count": null
        },
        {
            "cell_type": "markdown",
            "source": [
                "Check out the AvgCallsPerOperator. What happened to the fractional (i.e., decimal) part of the calculation!\r\n",
                "\r\n",
                "If you recall, I mentioned earlier that SQL Server relies on explicit data types.\r\n",
                "\r\n",
                "This also applies to math calculations…"
            ],
            "metadata": {
                "azdata_cell_guid": "c39335e1-da61-458c-822f-36c6875ae81b"
            }
        },
        {
            "cell_type": "markdown",
            "source": [
                "## More Feature Engineering in SQL – Round 2\r\n",
                "\r\n",
                "Check out the structure (i.e., the schema) for FactCallCenter in SSMS.\r\n",
                "\r\n",
                "In looking that above (ignore most of it, I’ll cover more over time), the following are important:\r\n",
                "\r\n",
                "- LevelOneOperators is defined in the DB as an integer (i.e., technically a smallint, don’t worry about that for now)\r\n",
                "- LevelTwoOperators is defined in the DB as an integer\r\n",
                "- Calls is defined in the DB as an integer\r\n",
                "\r\n",
                "Not surprisingly, given the above, when the AllOperators feature is engineered in the SELECT it is also treated as an integer – it’s simply the result of adding two integer columns.\r\n",
                "\r\n",
                "Since integers are defined as whole numbers, it totally makes sense that when you divide two integers the fractional part (i.e., the stuff to the right of the decimal point) isn’t present.\r\n",
                "\r\n",
                "What is needed is to force at least one of the numbers to be a decimal and then we’ll get the fractional part.\r\n",
                "\r\n",
                "You can use the CAST keyword in SQL to transform data from one type to another.\r\n",
                "\r\n",
                "Using CAST is powerful stuff, but for now I will keep things really simple. Take the following SQL code snippet:\r\n",
                "\r\n",
                "```\r\n",
                "CAST(FCC.Calls AS DECIMAL(6,2))\r\n",
                "```\r\n",
                "\r\n",
                "The easiest way to think of the above code snippet is from the DB’s perspective:\r\n",
                "\r\n",
                "- “OK, Dave wants me to take the Calls column from the FactCallCenter table and do something with it”\r\n",
                "- “Ah, Dave wants me to CAST the column to…”\r\n",
                "- “A DECIMAL big enough to have 6 digits in total and 2 digits to the right of the decimal point”\r\n",
                "\r\n",
                "Oh, I should mention that SQL is not case sensitive, but I prefer using capitalization in my SQL code – just in case you were wondering. 😉\r\n",
                "\r\n",
                "With this new SQL goodness I can change the query to be:\r\n",
                ""
            ],
            "metadata": {
                "azdata_cell_guid": "b91fabc3-585c-4200-ace1-a0fa1b72bacb"
            }
        },
        {
            "cell_type": "code",
            "source": [
                "SELECT FCC.WageType\r\n",
                "      ,FCC.Shift\r\n",
                "      ,FCC.LevelOneOperators\r\n",
                "      ,FCC.LevelTwoOperators\r\n",
                "      ,FCC.Calls\r\n",
                "      ,FCC.Date\r\n",
                "      ,FCC.LevelOneOperators + FCC.LevelTwoOperators AS AllOperators\r\n",
                "      ,CAST(FCC.Calls AS DECIMAL(6,2)) / (FCC.LevelOneOperators + FCC.LevelTwoOperators) AS AvgCallsPerOperator\r\n",
                "FROM FactCallCenter FCC"
            ],
            "metadata": {
                "azdata_cell_guid": "2028a29b-ce8a-4c32-b67e-742e390492ca"
            },
            "outputs": [],
            "execution_count": null
        },
        {
            "cell_type": "markdown",
            "source": [
                "Voila!\r\n",
                "\r\n",
                "NOTE – It doesn’t matter which of the INTEGERs you CAST, just that one of the values needs to be a DECIMAL.\r\n",
                "\r\n",
                "While it might seem that Excel’s way is easier, there are many advantages to knowing that SQL Server doesn’t mess with your data types automagically."
            ],
            "metadata": {
                "azdata_cell_guid": "8b8f2ddf-140e-4e66-b276-736a68864ae7"
            }
        },
        {
            "cell_type": "markdown",
            "source": [
                "## The Learning Arc\r\n",
                "\r\n",
                "In the next post I’m going to switch gears a bit and explore how you can use SQL to accomplish the same types of calculations that pivot tables provide in Excel. 😲\r\n",
                "\r\n",
                "This is one area that SQL really shines and provides a number of advantages over “out of the box” Excel.\r\n",
                "\r\n",
                "Stay healthy and happy data sleuthing!"
            ],
            "metadata": {
                "azdata_cell_guid": "703a5d29-22d6-4e40-9513-6a2b9f2ef9e7"
            }
        }
    ]
}