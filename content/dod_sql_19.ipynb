{
    "metadata": {
        "kernelspec": {
            "name": "SQL",
            "display_name": "SQL",
            "language": "sql"
        },
        "language_info": {
            "name": "sql",
            "version": ""
        }
    },
    "nbformat_minor": 2,
    "nbformat": 4,
    "cells": [
        {
            "cell_type": "markdown",
            "source": [
                "# Introduction to SQL for Excel Users – Part 19: More CASE WHEN\r\n",
                "\r\n",
                "[Original post](https://www.daveondata.com/blog/introduction-to-sql-for-excel-users-part-19-more-case-when/)"
            ],
            "metadata": {
                "azdata_cell_guid": "a4edc4a4-8fec-4ebb-a4ff-6ed61609b545"
            }
        },
        {
            "cell_type": "markdown",
            "source": [
                "## The Scenario\r\n",
                "\r\n",
                "NOTE – The Execl and SQL used in this post is not optimal by design. This post is about communicating the concepts. In the next post I will demonstrate the concepts using more optimal SQL.\r\n",
                "\r\n",
                "Let’s say you are the sales manager for AdventureWorks and you would like to look at the effectiveness of the sales reps.\r\n",
                "\r\n",
                "In particular, you are interesed in knowing how success in the first 90 days might be related to long-term sales success.\r\n",
                "\r\n",
                "In this post I will cover the basics of how to use the mighty CASE WHEN and GROUP BY to facilitate this analysis."
            ],
            "metadata": {
                "azdata_cell_guid": "29b142b1-98d9-4892-b31d-1004c26ece38"
            }
        },
        {
            "cell_type": "markdown",
            "source": [
                "## Setting Up the Data in SQL\r\n",
                "\r\n",
                "To conduct the analysis in SQL, I need a query to get the data into a format that matches the first Excel table:"
            ],
            "metadata": {
                "azdata_cell_guid": "b9850b22-13f5-41ad-ac98-bde110550947"
            }
        },
        {
            "cell_type": "code",
            "source": [
                "SELECT CONCAT(E.LastName, ', ', E.FirstName) AS SalesRep \r\n",
                "      ,E.HireDate\r\n",
                "      ,FRS.SalesOrderNumber\r\n",
                "      ,CAST(FRS.OrderDate AS Date) AS OrderDate\r\n",
                "      ,SUM(FRS.SalesAmount) AS SalesAmount\r\n",
                "FROM FactResellerSales FRS \r\n",
                "    INNER JOIN DimEmployee E ON (FRS.EmployeeKey = E.EmployeeKey)\r\n",
                "GROUP BY E.FirstName, E.LastName, E.HireDate, FRS.SalesOrderNumber, FRS.OrderDate\r\n",
                "ORDER BY E.LastName, E.FirstName, FRS.SalesOrderNumber"
            ],
            "metadata": {
                "azdata_cell_guid": "a1711e9a-2f4b-4498-b3db-775815dc5f39",
                "tags": []
            },
            "outputs": [
                {
                    "output_type": "error",
                    "ename": "",
                    "evalue": "Msg 208, Level 16, State 1, Line 1\r\nInvalid object name 'FactResellerSales'.",
                    "traceback": []
                },
                {
                    "output_type": "display_data",
                    "data": {
                        "text/html": "Total execution time: 00:00:00.003"
                    },
                    "metadata": {}
                }
            ],
            "execution_count": 1
        },
        {
            "cell_type": "markdown",
            "source": [
                "## Aggregating the Data in SQL\r\n",
                "\r\n",
                "Using SQL we can combine the Excel steps ☝ in a single query.\r\n",
                "\r\n",
                "First, I will move the SQL code into a CTE:"
            ],
            "metadata": {
                "azdata_cell_guid": "2446c012-e27c-4b62-b678-a99e1bd75797"
            }
        },
        {
            "cell_type": "code",
            "source": [
                "WITH SalesRepData AS\r\n",
                "(\r\n",
                "    SELECT CONCAT(E.LastName, ', ', E.FirstName) AS SalesRep\r\n",
                "          ,E.HireDate\r\n",
                "          ,FRS.SalesOrderNumber\r\n",
                "          ,CAST(FRS.OrderDate AS Date) AS OrderDate\r\n",
                "          ,SUM(FRS.SalesAmount) AS SalesAmount\r\n",
                "     FROM FactResellerSales FRS \r\n",
                "         INNER JOIN DimEmployee E ON (FRS.EmployeeKey = E.EmployeeKey)\r\n",
                "     GROUP BY E.FirstName, E.LastName, E.HireDate, FRS.SalesOrderNumber, FRS.OrderDate\r\n",
                ")"
            ],
            "metadata": {
                "azdata_cell_guid": "b332a890-3817-465b-8b29-5ec80cf0480f"
            },
            "outputs": [],
            "execution_count": null
        },
        {
            "cell_type": "markdown",
            "source": [
                "Next, I will craft the following query that leverages the CTE. \r\n",
                "\r\n",
                " The use of CASE WHEN ☝ conceptually mimics what was done in the first Excel table."
            ],
            "metadata": {
                "azdata_cell_guid": "ba1de862-eb83-410a-831c-59330583ace7"
            }
        },
        {
            "cell_type": "code",
            "source": [
                "WITH SalesRepData AS\r\n",
                "(\r\n",
                "    SELECT CONCAT(E.LastName, ', ', E.FirstName) AS SalesRep\r\n",
                "          ,E.HireDate\r\n",
                "          ,FRS.SalesOrderNumber\r\n",
                "          ,CAST(FRS.OrderDate AS Date) AS OrderDate\r\n",
                "          ,SUM(FRS.SalesAmount) AS SalesAmount\r\n",
                "    FROM FactResellerSales FRS \r\n",
                "        INNER JOIN DimEmployee E ON (FRS.EmployeeKey = E.EmployeeKey)\r\n",
                "    GROUP BY E.FirstName, E.LastName, E.HireDate, FRS.SalesOrderNumber, FRS.OrderDate\r\n",
                ")\r\n",
                "SELECT SRD.SalesRep\r\n",
                "      ,SRD.HireDate\r\n",
                "      ,SRD.SalesOrderNumber\r\n",
                "      ,SRD.OrderDate\r\n",
                "      ,SRD.SalesAmount\r\n",
                "      ,CASE WHEN DATEDIFF(DAY, SRD.HireDate, SRD.OrderDate) <= 89 THEN 1 ELSE 0 END AS SaleMadeFirst90Days\r\n",
                "      ,CASE WHEN DATEDIFF(DAY, SRD.HireDate, SRD.OrderDate) <= 89 THEN SRD.SalesAmount ELSE 0.0 END AS SalesAmountFirst90Days\r\n",
                "FROM SalesRepData SRD\r\n",
                "ORDER BY SRD.SalesRep, SRD.SalesOrderNumber;\r\n",
                ""
            ],
            "metadata": {
                "azdata_cell_guid": "b8e6d435-a793-41ce-91fc-4a6094636dc0"
            },
            "outputs": [],
            "execution_count": null
        },
        {
            "cell_type": "markdown",
            "source": [
                "With this SQL in place, it is trivial to mimic the Excel pivot table ☝.\r\n",
                "\r\n",
                "All I need to do is add the mighty GROUP BY and use the SUM function:"
            ],
            "metadata": {
                "azdata_cell_guid": "8934acef-9452-497c-92f0-93bb058add09"
            }
        },
        {
            "cell_type": "code",
            "source": [
                "WITH SalesRepData AS\r\n",
                "(\r\n",
                "     SELECT CONCAT(E.LastName, ', ', E.FirstName) AS SalesRep \r\n",
                "           ,E.HireDate\r\n",
                "           ,FRS.SalesOrderNumber\r\n",
                "           ,CAST(FRS.OrderDate AS Date) AS OrderDate\r\n",
                "           ,SUM(FRS.SalesAmount) AS SalesAmount\r\n",
                "     FROM FactResellerSales FRS \r\n",
                "         INNER JOIN DimEmployee E ON (FRS.EmployeeKey = E.EmployeeKey)\r\n",
                "     GROUP BY E.FirstName, E.LastName, E.HireDate, FRS.SalesOrderNumber, FRS.OrderDate\r\n",
                ")\r\n",
                "SELECT SRD.SalesRep\r\n",
                "      ,SUM(CASE WHEN DATEDIFF(DAY, SRD.HireDate, SRD.OrderDate) <= 89 THEN 1 ELSE 0 END) AS TotalSalesMadeFirst90Days\r\n",
                "      ,SUM(CASE WHEN DATEDIFF(DAY, SRD.HireDate, SRD.OrderDate) <= 89 THEN SRD.SalesAmount ELSE 0.0 END) AS TotalSalesAmountFirst90Days\r\n",
                "FROM SalesRepData SRD\r\n",
                "GROUP BY SRD.SalesRep\r\n",
                "ORDER BY SRD.SalesRep"
            ],
            "metadata": {
                "azdata_cell_guid": "2905fb40-efa8-4c09-a22a-2fc168fddcab"
            },
            "outputs": [],
            "execution_count": null
        },
        {
            "cell_type": "markdown",
            "source": [
                "The following SQL snippet is where the ✨ happens:\r\n",
                "\r\n",
                "```\r\n",
                "SUM(CASE WHEN DATEDIFF(DAY, SRD.HireDate, SRD.OrderDate) <= 89 THEN 1 ELSE 0 END) AS TotalSalesMadeFirst90Days\r\n",
                "```\r\n",
                "\r\n",
                "Conceptually this SQL code operates exactly like the Excel pivot table’s SUM functionality.\r\n",
                "\r\n",
                "You may be thinking, “Dave, big deal. Seems to me that the Excel pivot table works just fine.”\r\n",
                "\r\n",
                "Yes, this is true when your data is small.\r\n",
                "\r\n",
                "However, with these SQL skills you are no longer limited to Excel’s constraints.\r\n",
                "\r\n",
                "Now you can work with tens of millions of rows of data.\r\n",
                "\r\n",
                "Heck, using big data technologies you could work with billions of rows of data! 😲\r\n",
                "\r\n",
                "Pretty sweet, no? 😉"
            ],
            "metadata": {
                "azdata_cell_guid": "cda303b8-f5ab-430f-b1f3-8061c838a994"
            }
        },
        {
            "cell_type": "markdown",
            "source": [
                "## The Learning Arc\r\n",
                "\r\n",
                "The next post will continue coverage of CASE WHEN by expanding upon this analysis with more optimal SQL.\r\n",
                "\r\n",
                "With the combination of CASE WHEN and GROUP BY your SQL skills have now achieved a new level of power with working with data at scale.\r\n",
                "\r\n",
                "Stay healthy and happy data sleuthing!"
            ],
            "metadata": {
                "azdata_cell_guid": "f5f80c86-e141-46fc-8fca-92052d66254a"
            }
        }
    ]
}