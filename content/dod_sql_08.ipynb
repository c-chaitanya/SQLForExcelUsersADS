{
    "metadata": {
        "kernelspec": {
            "name": "SQL",
            "display_name": "SQL",
            "language": "sql"
        },
        "language_info": {
            "name": "sql",
            "version": ""
        }
    },
    "nbformat_minor": 2,
    "nbformat": 4,
    "cells": [
        {
            "cell_type": "markdown",
            "source": [
                "# Introduction to SQL for Excel Users – Part 8: More Groups\r\n",
                "\r\n",
                "[Original post](https://www.daveondata.com/blog/introduction-to-sql-for-excel-users-part-8-more-groups/)"
            ],
            "metadata": {
                "azdata_cell_guid": "c5239dc5-f217-40d5-ad65-ec0d61e5dba0"
            }
        },
        {
            "cell_type": "markdown",
            "source": [
                "## Groups of Groups in Excel\r\n",
                "\r\n",
                "A powerful feature of Excel pivot tables is the ability to analyze groups of groups.\r\n",
                "\r\n",
                "These types of analyses allow you to understand how quantities might vary in terms of a hierarchy of categories.\r\n",
                "\r\n",
                "For example, the CallCenter data has a column for the Shift and also the WageType.\r\n",
                "\r\n",
                "Using groups of groups we can use a pivot table to help answer the question, “Does the staffing of LevelOneOperators vary based on the combination of Shift and WageType?”\r\n",
                "\r\n",
                "The following screenshot illustrates a pivot table attempting to answer this question:\r\n",
                "\r\n",
                "![call center pivot 1](08\\callcenterpivot1.png)\r\n",
                "\r\n",
                "excel pivot table\r\n",
                "In the pivot table ☝ we arranged the group hierarchy with Shift first and then WageTypesecond.\r\n",
                "\r\n",
                "Excel allows you the freedom to define the groups hierarchy as you will.\r\n",
                "\r\n",
                "For example, you could have just as easily specified WageType as the first group of the hierarchy and then Shift.\r\n",
                "\r\n",
                "Here’s a screenshot to make this crystal:\r\n",
                "\r\n",
                "![call center pivot 2](08\\callcenterpivot2.png)\r\n",
                "\r\n",
                "Excel allows you to create grouping hierarchies that are 3+ level deep if you would like.\r\n",
                "\r\n",
                "In practical terms, very deep grouping hierarchies are difficult for the human 🧠 to work with, but it can be done.\r\n",
                "\r\n",
                "Moving on to SQL…"
            ],
            "metadata": {
                "azdata_cell_guid": "785444c4-edfc-424d-a236-f908561e3638"
            }
        },
        {
            "cell_type": "markdown",
            "source": [
                "## Groups of Groups in SQL\r\n",
                "\r\n",
                "SQL also supports using groups of groups via GROUP BY.\r\n",
                "\r\n",
                "You simply list the grouping hierarchy you would like column by column.\r\n",
                "\r\n",
                "The following query will produce results similar to the first pivot table in this post:"
            ],
            "metadata": {
                "azdata_cell_guid": "49033dcc-0794-4963-80e0-4e513b042f40"
            }
        },
        {
            "cell_type": "code",
            "source": [
                "SELECT FCC.Shift\r\n",
                "      ,FCC.WageType\r\n",
                "      ,SUM(FCC.LevelOneOperators) AS TotalLevelOneOperators\r\n",
                "      ,MIN(FCC.LevelOneOperators) AS MinLevelOneOperators\r\n",
                "      ,MAX(FCC.LevelOneOperators) AS MaxLevelOneOperators\r\n",
                "FROM FactCallCenter FCC\r\n",
                "GROUP BY FCC.Shift, FCC.WageType"
            ],
            "metadata": {
                "azdata_cell_guid": "9f1e06e1-fadb-473a-91a1-3686a0cff9ac"
            },
            "outputs": [],
            "execution_count": null
        },
        {
            "cell_type": "markdown",
            "source": [
                "Wait! Something’s not right here. 🤔\r\n",
                "\r\n",
                "As I mentioned in the last post, you have to explicitly provide the DB the sort order you want in your query.\r\n",
                "\r\n",
                "Here’s the improved SQL code:"
            ],
            "metadata": {
                "azdata_cell_guid": "0ee02972-60b6-4f33-9053-f770ef098090"
            }
        },
        {
            "cell_type": "code",
            "source": [
                "SELECT FCC.Shift\r\n",
                "      ,FCC.WageType\r\n",
                "      ,SUM(FCC.LevelOneOperators) AS TotalLevelOneOperators\r\n",
                "      ,MIN(FCC.LevelOneOperators) AS MinLevelOneOperators\r\n",
                "      ,MAX(FCC.LevelOneOperators) AS MaxLevelOneOperators\r\n",
                "FROM FactCallCenter FCC\r\n",
                "GROUP BY FCC.Shift, FCC.WageType\r\n",
                "ORDER BY FCC.Shift, FCC.WageType"
            ],
            "metadata": {
                "azdata_cell_guid": "c182c092-d611-4962-b080-4d3bb7f8866c"
            },
            "outputs": [],
            "execution_count": null
        },
        {
            "cell_type": "markdown",
            "source": [
                "As with Excel, you can alter the grouping heirarchy as you see fit.\r\n",
                "\r\n",
                "The following SQL aligns to the second pivot table in this post:"
            ],
            "metadata": {
                "azdata_cell_guid": "75458747-9c0f-437a-8ac8-46eca3b33453"
            }
        },
        {
            "cell_type": "code",
            "source": [
                "SELECT FCC.WageType\r\n",
                "      ,FCC.Shift\r\n",
                "      ,SUM(FCC.LevelOneOperators) AS TotalLevelOneOperators\r\n",
                "      ,MIN(FCC.LevelOneOperators) AS MinLevelOneOperators\r\n",
                "      ,MAX(FCC.LevelOneOperators) AS MaxLevelOneOperators\r\n",
                "FROM FactCallCenter FCC\r\n",
                "GROUP BY FCC.WageType, FCC.Shift\r\n",
                "ORDER BY FCC.WageType, FCC.Shift"
            ],
            "metadata": {
                "azdata_cell_guid": "05c9e254-3a6d-4b1a-93c8-c08b6e9e551c"
            },
            "outputs": [],
            "execution_count": null
        },
        {
            "cell_type": "markdown",
            "source": [
                "As with Excel, you can create very deep group hierarchies in SQL – just add more columns to your GROUP BY!"
            ],
            "metadata": {
                "azdata_cell_guid": "261ab28a-fb23-4335-afd9-faa2a86d65cc"
            }
        },
        {
            "cell_type": "markdown",
            "source": [
                "## Group Calculations in Excel\r\n",
                "\r\n",
                "When you work with Excel pivot tables you gain access to a number of predefined calculations that work on the groups in the pivot table.\r\n",
                "\r\n",
                "![excel group calcs](08\\excelgroupcalcs.png)\r\n",
                "\r\n",
                "What make the above calculations interesting is that they are “group aware” and produce a single return value for each group in a pivot table.\r\n",
                "\r\n",
                "I will add the average of LevelOneOperators to the first the pivot table:\r\n",
                "\r\n",
                "![call center pivot 3](08\\callcenterpivot3.png)\r\n",
                "\r\n",
                "excel pivot table with average calculation\r\n",
                "SQL also has a collection of calculations that works in the same way."
            ],
            "metadata": {
                "azdata_cell_guid": "1f1ac3a2-babc-4592-a85b-9b0ae7e2b025"
            }
        },
        {
            "cell_type": "markdown",
            "source": [
                "## Group Calculations in SQL\r\n",
                "\r\n",
                "The groups calculations in SQL (as I mentioned in the last post) are known as aggregate functions.\r\n",
                "\r\n",
                "As with Excel, SQL has a number of functions that work on groups of values, but only a subset (in my experience, anyway) are used regularly:\r\n",
                "\r\n",
                "SUM – Add up all the values in a group.\r\n",
                "COUNT – Counts the number of items in a group.\r\n",
                "MIN – The minimum value in a group.\r\n",
                "MAX – The maximum value in a group.\r\n",
                "AVG – The average (mean) value of the group.\r\n",
                "Just for 😁, here’s a SQL query using all 5 of the above aggregate functions (NOTE – I’m grouping just by Shift alone):"
            ],
            "metadata": {
                "azdata_cell_guid": "f2223985-d095-4a5b-9b30-ba8d17cc4ae9"
            }
        },
        {
            "cell_type": "code",
            "source": [
                "ELECT FCC.Shift\r\n",
                "      ,COUNT(FCC.FactCallCenterID) AS RecordCount\r\n",
                "      ,SUM(FCC.LevelOneOperators) AS TotalLevelOneOperators\r\n",
                "      ,MIN(FCC.LevelOneOperators) AS MinLevelOneOperators\r\n",
                "      ,MAX(FCC.LevelOneOperators) AS MaxLevelOneOperators\r\n",
                "      ,AVG(FCC.LevelOneOperators) AS AvgLevelOneOperators\r\n",
                "FROM FactCallCenter FCC\r\n",
                "GROUP BY FCC.Shift\r\n",
                "ORDER BY FCC.Shift"
            ],
            "metadata": {
                "azdata_cell_guid": "3087800a-01dc-4413-b025-3e65ebc18473"
            },
            "outputs": [],
            "execution_count": null
        },
        {
            "cell_type": "markdown",
            "source": [
                "Excellent!\r\n",
                "\r\n",
                "That’s it for today’s post."
            ],
            "metadata": {
                "azdata_cell_guid": "0b42c8b9-9a97-4d9f-8ece-d07e0020015a"
            }
        },
        {
            "cell_type": "markdown",
            "source": [
                "## The Learning Arc\r\n",
                "\r\n",
                "In the next post I start the discussion of a cool feature of T-SQL – window functions.\r\n",
                "\r\n",
                "This begins the journey to one of my favorite things in T-SQL – the mighty ROW_NUMBER() function!\r\n",
                "\r\n",
                "Stay healthy and happy data sleuthing!"
            ],
            "metadata": {
                "azdata_cell_guid": "8acf970d-9038-4870-8976-57071cbaef78"
            }
        }
    ]
}