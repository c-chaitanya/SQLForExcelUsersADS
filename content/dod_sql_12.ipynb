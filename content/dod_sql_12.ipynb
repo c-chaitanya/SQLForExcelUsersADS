{
    "metadata": {
        "kernelspec": {
            "name": "SQL",
            "display_name": "SQL",
            "language": "sql"
        },
        "language_info": {
            "name": "sql",
            "version": ""
        }
    },
    "nbformat_minor": 2,
    "nbformat": 4,
    "cells": [
        {
            "cell_type": "markdown",
            "source": [
                "# Introduction to SQL for Excel Users – Part 12: SSMS Tips\r\n",
                "\r\n",
                "[Original post](https://www.daveondata.com/blog/introduction-to-sql-for-excel-users-part-12-ssms-tips/)"
            ],
            "metadata": {
                "azdata_cell_guid": "752046e9-30c2-4084-a30e-3151ea622f96"
            }
        },
        {
            "cell_type": "markdown",
            "source": [
                "## SSMS Tips\r\n",
                "\r\n",
                "I’ve been getting pinged by folks that run into some SQL Server Management Studio (SSMS) issues working through the blog series.\r\n",
                "\r\n",
                "Given that all of these folks are running into 1 of 3 issues, I figured I would write a quick blog post for folks to use in troubleshooting.\r\n",
                "\r\n",
                "NOTE – All of these apply to whether you are running SQL Server on your own machine or using the Azure Data Science VM.\r\n",
                "\r\n",
                "The 3 issues I see folks running into are:\r\n",
                "\r\n",
                "The SQL Server service isn’t running on their machine/VM\r\n",
                "The SSMS query window is disconnected\r\n",
                "The SSMS query window is targeting the wrong database\r\n",
                "I’ll cover each of these in turn below.\r\n",
                ""
            ],
            "metadata": {
                "azdata_cell_guid": "0e49460b-70b2-4b09-8538-fd9ab204c537"
            }
        },
        {
            "cell_type": "markdown",
            "source": [
                "# SQL Server Service Isn’t Running\r\n",
                "\r\n",
                "If you followed the instructions I gave for setting up SQL Server, the SQL Server service (i.e., “MSSQLSERVER”) needs to be manually started.\r\n",
                "\r\n",
                "Folks are often running into trouble because they think the service is running when it is not.\r\n",
                "\r\n",
                "Here’s how to check it.\r\n",
                "\r\n",
                "Search Windows for “Services”:\r\n",
                "\r\n",
                "![search](12\\search2.png)\r\n",
                "\r\n",
                "When the “Services” app appears in the search results, hit the <enter> key.\r\n",
                "\r\n",
                "This brings up the Services Management Console (SMC).\r\n",
                "\r\n",
                "In the SMC, scroll down the list of services until you reach SQL Server:\r\n",
                "\r\n",
                "![services](12\\services1.png)\r\n",
                "\r\n",
                "Check the Status of the SQL Server service. If it is blank, the service is not running.\r\n",
                "\r\n",
                "To start the service right-click on the SQL Server listing and select Start from the context menu:\r\n",
                "\r\n",
                "![services 2](12\\services2.png)\r\n",
                "\r\n",
                "The SMC will then show you a progress dialog:\r\n",
                "\r\n",
                "![services 3](12\\services3.png)\r\n",
                "\r\n",
                "The SMC will show when everything is good to go:\r\n",
                "\r\n",
                "![services 4](12\\services4.png)\r\n",
                "\r\n",
                "Excellent!\r\n",
                "\r\n",
                "Now you are ready to craft that tasty SQL goodness."
            ],
            "metadata": {
                "azdata_cell_guid": "2a6ba70c-e4a1-4187-ac06-e2f5e0f97557"
            }
        },
        {
            "cell_type": "markdown",
            "source": [
                "## Disconnected Query Window\r\n",
                "\r\n",
                "SSMS query windows maintain an active connection to the database.\r\n",
                "\r\n",
                "SSMS query windows can get disconnected for a variety of reasons (e.g., your laptop goes to sleep).\r\n",
                "\r\n",
                "Here’s an example of a disconnected SSMS query window:\r\n",
                "\r\n",
                "![disconnected query](12\\disconnectedquery1.png)\r\n",
                "\r\n",
                "Notice the lower right corner of the query window:\r\n",
                "\r\n",
                "![disconnected query 2](12\\disconnectedquery2.png)\r\n",
                "\r\n",
                "Reconnecting the query window is easy (assuming the SQL Server service is running) – execute the query:\r\n",
                "\r\n",
                "\r\n",
                "\r\n",
                "![ssms execute query button](12\\disconnectedquery3.png)\r\n",
                "\r\n",
                "SSMS will pop the SQL Server connection dialog:\r\n",
                "\r\n",
                "![sql server connection dialog](12\\disconnectedquery4.png)\r\n",
                "\r\n",
                "NOTE – In the screenshot ☝ I hid the server name, your machine name should be listed.\r\n",
                "\r\n",
                "Click the Connect button and SSMS will connect the query window to SQL Server and execute your SQL goodness:\r\n",
                "\r\n",
                "![ssms query window with error](12\\disconnectedquery5a.png)\r\n",
                "\r\n",
                "You’re almost there.\r\n",
                "\r\n",
                "The above error means your query window is targeting the wrong database…"
            ],
            "metadata": {
                "azdata_cell_guid": "1c04c9a6-c0e2-4d7f-a5fc-b35f09f21859"
            }
        },
        {
            "cell_type": "markdown",
            "source": [
                "## Query Window Targeting Wrong DB\r\n",
                "\r\n",
                "SSMS query windows use an active connection to target a SQL Server DB.\r\n",
                "\r\n",
                "In many sceanrios, SSMS targets query windows to the Master database by default:\r\n",
                "\r\n",
                "![ssms target db for query window](12\\targeteddb1.png)\r\n",
                "\r\n",
                "This is the result of the error given by SSMS in the previous section.\r\n",
                "\r\n",
                "Fixing this is easy, just open the drop down and select the DB you want:\r\n",
                "\r\n",
                "![targetd db 2](12\\targeteddb02.png)\r\n",
                "\r\n",
                "Now re-execute your query:\r\n",
                "\r\n",
                "![ssms query results](12\\targeteddb3.png)\r\n",
                "\r\n",
                "Sweet! That should get just about everyone unstuck.\r\n",
                "\r\n",
                "Enjoy that sweet SQL goodness!"
            ],
            "metadata": {
                "azdata_cell_guid": "5c36fc2b-3e13-47db-90d9-1effb7d20621"
            }
        }
    ]
}