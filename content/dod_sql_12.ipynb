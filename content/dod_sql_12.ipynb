{
    "metadata": {
        "kernelspec": {
            "name": "SQL",
            "display_name": "SQL",
            "language": "sql"
        },
        "language_info": {
            "name": "sql",
            "version": ""
        }
    },
    "nbformat_minor": 2,
    "nbformat": 4,
    "cells": [
        {
            "cell_type": "markdown",
            "source": [
                "# Introduction to SQL for Excel Users – Part 12: SSMS Tips\r\n",
                "\r\n",
                "[Original post](https://www.daveondata.com/blog/introduction-to-sql-for-excel-users-part-12-ssms-tips/)"
            ],
            "metadata": {
                "azdata_cell_guid": "752046e9-30c2-4084-a30e-3151ea622f96"
            }
        }
    ]
}