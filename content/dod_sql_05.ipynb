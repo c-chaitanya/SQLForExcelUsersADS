{
    "metadata": {
        "kernelspec": {
            "name": "SQL",
            "display_name": "SQL",
            "language": "sql"
        },
        "language_info": {
            "name": "sql",
            "version": ""
        }
    },
    "nbformat_minor": 2,
    "nbformat": 4,
    "cells": [
        {
            "cell_type": "markdown",
            "source": [
                "# Introduction to SQL for Excel Users – Part 5: Basic Feature Engineering\r\n",
                "\r\n",
                "[Original post](https://www.daveondata.com/blog/introduction-to-sql-for-excel-users-part-5-basic-feature-engineering/)"
            ],
            "metadata": {
                "azdata_cell_guid": "90d45676-e9a7-45d8-8cc5-204ae25a4314"
            }
        },
        {
            "cell_type": "markdown",
            "source": [
                "## Feature Engineering in SQL\r\n",
                "\r\n",
                "As we’ll see throughout the series, you can do a lot of cool thing with your SQL SELECTs.\r\n",
                "\r\n",
                "One of these things is engineering new features from existing columns.\r\n",
                "\r\n",
                "Take our query from the previous post:"
            ],
            "metadata": {
                "azdata_cell_guid": "450ba57e-df17-4528-8c76-b813cd8bb828"
            }
        },
        {
            "cell_type": "code",
            "source": [
                "SELECT FCC.WageType\r\n",
                "      ,FCC.Shift\r\n",
                "      ,FCC.LevelOneOperators\r\n",
                "      ,FCC.LevelTwoOperators\r\n",
                "      ,FCC.Calls\r\n",
                "      ,FCC.Date\r\n",
                "FROM FactCallCenter FCC"
            ],
            "metadata": {
                "azdata_cell_guid": "6193de25-77b4-4c28-9b23-4f3eede00591"
            },
            "outputs": [],
            "execution_count": null
        },
        {
            "cell_type": "markdown",
            "source": [
                "We can craft a new feature in our SQL quite easily by just adding LevelOneOperators to LevelTwoOperators like this:"
            ],
            "metadata": {
                "azdata_cell_guid": "46b53c19-8f66-4339-8574-ae96086b7c09"
            }
        },
        {
            "cell_type": "code",
            "source": [
                "SELECT FCC.WageType\r\n",
                "      ,FCC.Shift\r\n",
                "      ,FCC.LevelOneOperators\r\n",
                "      ,FCC.LevelTwoOperators\r\n",
                "      ,FCC.Calls\r\n",
                "      ,FCC.Date\r\n",
                "      ,FCC.LevelOneOperators + FCC.LevelTwoOperators\r\n",
                "FROM FactCallCenter FCC"
            ],
            "metadata": {
                "azdata_cell_guid": "880cc4b4-97f5-4749-bbcd-e0546b609ab3"
            },
            "outputs": [],
            "execution_count": null
        },
        {
            "cell_type": "markdown",
            "source": [
                "Sweet! That’s not too complicated.\r\n",
                "\r\n",
                "If you execute the above query in SQL Server Management Studio (SSMS) check out (No column name) in the output.\r\n",
                "\r\n",
                "As with Excel, you have to provide a name (i.e., an alias) for this new column. While there are many legit ways to do this, I will use the following throughout the series:"
            ],
            "metadata": {
                "azdata_cell_guid": "e4ea7bb5-0108-4f2c-bb8c-1be5e5e79b19"
            }
        },
        {
            "cell_type": "code",
            "source": [
                "SELECT FCC.WageType\r\n",
                "      ,FCC.Shift\r\n",
                "      ,FCC.LevelOneOperators\r\n",
                "      ,FCC.LevelTwoOperators\r\n",
                "      ,FCC.Calls\r\n",
                "      ,FCC.Date\r\n",
                "      ,FCC.LevelOneOperators + FCC.LevelTwoOperators AS AllOperators\r\n",
                "FROM FactCallCenter FCC"
            ],
            "metadata": {
                "azdata_cell_guid": "524e467c-aafa-4a5e-828e-f9bdff763ba2"
            },
            "outputs": [],
            "execution_count": null
        },
        {
            "cell_type": "markdown",
            "source": [
                "If you re-run the query in SSMS you now get a name for the column.\r\n",
                "\r\n",
                "Awesome!\r\n",
                "\r\n",
                "There’s just one more thing I need to cover…"
            ],
            "metadata": {
                "azdata_cell_guid": "121a8f31-76a2-4a23-8222-5b816dd4b27a"
            }
        },
        {
            "cell_type": "markdown",
            "source": [
                "## Engineering a Feature From a Feature in SQL\r\n",
                "\r\n",
                "Based on knowledge of Excel, it would be quite intuitive to engineer AllOperators2 using SQL thusly:"
            ],
            "metadata": {
                "azdata_cell_guid": "745f8d37-18fb-4f2c-be5d-9a6802458eca"
            }
        },
        {
            "cell_type": "markdown",
            "source": [
                "```\r\n",
                "-- incomplete SQL - invalid column name\r\n",
                "SELECT FCC.WageType\r\n",
                "      ,FCC.Shift\r\n",
                "      ,FCC.LevelOneOperators\r\n",
                "      ,FCC.LevelTwoOperators\r\n",
                "      ,FCC.Calls\r\n",
                "      ,FCC.Date\r\n",
                "      ,FCC.LevelOneOperators + FCC.LevelTwoOperators AS AllOperators\r\n",
                "      ,AllOperators - 42 AS AllOperators2\r\n",
                "FROM FactCallCenter FCC\r\n",
                "```\r\n",
                "\r\n",
                "If you run the above query, however, SSMS is not happy.\r\n",
                "\r\n",
                "If we check FactCallCenter in SSMS we can quickly see the reason why: There is no AllOperators listed as a column!\r\n",
                "\r\n",
                "😕"
            ],
            "metadata": {
                "azdata_cell_guid": "0d1edff1-3ba9-4642-933a-efefa1a54bd1"
            }
        },
        {
            "cell_type": "markdown",
            "source": [
                "The above is an example of one of the most important differences between Excel and T-SQL.\r\n",
                "\r\n",
                "As an analytics pro, your SQL queries almost always operate on/with virtual tables.\r\n",
                "\r\n",
                "This is evidenced ☝ by the query that produces the AllOperators column via feature engineering.\r\n",
                "\r\n",
                "The SELECT, in essence, creates an in-memory copy of the data you asked for and then adds to this in-memory copy the AllOperators virtual column.\r\n",
                "\r\n",
                "BTW – In this case it’s intuitive to think of “in-memory” as “existing only long enough to get the data back.”\r\n",
                "\r\n",
                "Virtual tables are super awesome and allow you to do many wondrous things that can’t be done with “out of the box Excel” (i.e., without resorting to technology like DAX)\r\n",
                "\r\n",
                "Given this knowledge of how the SELECT is creating a virtual table, this is how the query can be written to produce AllOperators2:"
            ],
            "metadata": {
                "azdata_cell_guid": "d87a8353-c338-4aa0-886f-39724a9d6270"
            }
        },
        {
            "cell_type": "code",
            "source": [
                "SELECT FCC.WageType\r\n",
                "      ,FCC.Shift\r\n",
                "      ,FCC.LevelOneOperators\r\n",
                "      ,FCC.LevelTwoOperators\r\n",
                "      ,FCC.Calls\r\n",
                "      ,FCC.Date\r\n",
                "      ,FCC.LevelOneOperators + FCC.LevelTwoOperators AS AllOperators\r\n",
                "      ,(FCC.LevelOneOperators + FCC.LevelTwoOperators) - 42 AS AllOperators2\r\n",
                "FROM FactCallCenter FCC"
            ],
            "metadata": {
                "azdata_cell_guid": "f8766675-393c-4fdd-aa23-8a954568431e"
            },
            "outputs": [],
            "execution_count": null
        },
        {
            "cell_type": "markdown",
            "source": [
                "Awesome!\r\n",
                "\r\n",
                "I can see where you might be thinking, “Dave, this virtual table stuff just seems like more work and not very cool at all.”\r\n",
                "\r\n",
                "That’s a fair point given this wildly contrived simple example.\r\n",
                "\r\n",
                "Stay tuned, the awesomeness shall be demonstrated!"
            ],
            "metadata": {
                "azdata_cell_guid": "e22d4d11-b943-4d12-97cf-345de81a86e6"
            }
        },
        {
            "cell_type": "markdown",
            "source": [
                "## The Learning Arc\r\n",
                "\r\n",
                "In the next post I’m going to continue with feature engineering as it relates to explicit data types in SQL.\r\n",
                "\r\n",
                "This is another area where SQL is quite a bit different compared to Excel.\r\n",
                "\r\n",
                "At this point, you should really get access to SQL Server. Be sure to check out my YouTube channel for tutorial videos to make this happen.\r\n",
                "\r\n",
                "Stay healthy and happy data sleuthing!"
            ],
            "metadata": {
                "azdata_cell_guid": "61758755-29e8-4854-a111-2d1c24c18903"
            }
        }
    ]
}