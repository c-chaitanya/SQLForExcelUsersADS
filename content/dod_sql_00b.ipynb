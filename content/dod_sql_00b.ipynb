{
    "metadata": {
        "kernelspec": {
            "name": "SQL",
            "display_name": "SQL",
            "language": "sql"
        },
        "language_info": {
            "name": "sql",
            "version": ""
        }
    },
    "nbformat_minor": 2,
    "nbformat": 4,
    "cells": [
        {
            "cell_type": "markdown",
            "source": [
                "# Introduction (Blog Series)\r\n",
                "\r\n",
                "_Original material from Dave's posts._\r\n",
                ""
            ],
            "metadata": {
                "azdata_cell_guid": "12409096-6848-4586-9217-ad96929f5fcc"
            }
        },
        {
            "cell_type": "markdown",
            "source": [
                "## Git the Files!\r\n",
                "\r\n",
                "All files for this tutorial series are available via the [GitHub repository](https://github.com/DaveOnData/SQLForExcelUsers).\r\n",
                ""
            ],
            "metadata": {
                "azdata_cell_guid": "ff510554-97b2-41f0-b925-81b57ae25fd9"
            }
        },
        {
            "cell_type": "markdown",
            "source": [
                "## Setup SQL Server\r\n",
                "\r\n",
                "If you’re using a Windows machine, here’s a [YouTube tutorial](https://www.youtube.com/watch?v=VnJAgND_iLc) for setting up SQL Server, the DB, and SSMS on Windows – easy peasy!\r\n",
                "\r\n",
                "The [YouTube tutorial](https://www.youtube.com/watch?v=7MPHzInVQLE) for using SQL Server in the Azure cloud! Also easy peasy."
            ],
            "metadata": {
                "azdata_cell_guid": "ece15a33-47fc-460e-8532-d5470d3666e0"
            }
        },
        {
            "cell_type": "markdown",
            "source": [
                "## Additional Training\r\n",
                "\r\n",
                "- [Online Analytics Training](https://www.daveondata.com/online-analytics-training/)\r\n",
                "- [Train Your Team](https://www.daveondata.com/live-analytics-training/)\r\n",
                "- [T-SQL Fundamentals reference](https://www.amazon.com/T-SQL-Fundamentals-3rd-Itzik-Ben-Gan/dp/150930200X/) (Itzik Ben-Gan, 3rd Edition)"
            ],
            "metadata": {
                "azdata_cell_guid": "c4946e35-08e1-4b1b-832a-f2a9ad626f3f"
            }
        }
    ]
}