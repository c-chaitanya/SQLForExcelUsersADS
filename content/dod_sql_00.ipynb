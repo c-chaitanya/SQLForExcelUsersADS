{
    "metadata": {
        "kernelspec": {
            "name": "SQL",
            "display_name": "SQL",
            "language": "sql"
        },
        "language_info": {
            "name": "sql",
            "version": ""
        }
    },
    "nbformat_minor": 2,
    "nbformat": 4,
    "cells": [
        {
            "cell_type": "markdown",
            "source": [
                "# Introduction\r\n",
                "\r\n",
                "This book includes the SQL content from David Langer's excellent blog series [Introduction to SQL for Excel Users](https://www.daveondata.com/blog/category/sql-for-excel-users/).\r\n",
                "\r\n",
                "The notebook format allows for the SQL cells to be executed when connected to an instance of the AdventureworksDW database.\r\n",
                "\r\n",
                "The purpose of the book itself was to get more familiar with using Jupyter Books within Azure Data Studio.\r\n",
                ""
            ],
            "metadata": {
                "azdata_cell_guid": "12409096-6848-4586-9217-ad96929f5fcc"
            }
        },
        {
            "cell_type": "markdown",
            "source": [
                "## Git the Files!\r\n",
                "\r\n",
                "All files for this tutorial series are available via the [GitHub repository](https://github.com/DaveOnData/SQLForExcelUsers).\r\n",
                ""
            ],
            "metadata": {
                "azdata_cell_guid": "ff510554-97b2-41f0-b925-81b57ae25fd9"
            }
        },
        {
            "cell_type": "markdown",
            "source": [
                "## Setup SQL Server\r\n",
                "\r\n",
                "If you’re using a Windows machine, here’s a [YouTube tutorial](https://www.youtube.com/watch?v=VnJAgND_iLc) for setting up SQL Server, the DB, and SSMS on Windows – easy peasy!\r\n",
                "\r\n",
                "The [YouTube tutorial](https://www.youtube.com/watch?v=7MPHzInVQLE) for using SQL Server in the Azure cloud! Also easy peasy."
            ],
            "metadata": {
                "azdata_cell_guid": "ece15a33-47fc-460e-8532-d5470d3666e0"
            }
        },
        {
            "cell_type": "markdown",
            "source": [
                "## Additional Training\r\n",
                "\r\n",
                "David Langer's [Online Analytics Training](https://www.daveondata.com/online-analytics-training/)"
            ],
            "metadata": {
                "azdata_cell_guid": "c4946e35-08e1-4b1b-832a-f2a9ad626f3f"
            }
        },
        {
            "cell_type": "markdown",
            "source": [
                "## This Juptyer Notebook\r\n",
                "\r\n",
                "Windows 10 host running SQL Server as a Docker image within Ubuntu Server VM guest.\r\n",
                "\r\n",
                "ADS running on Windows host, connected to \"remote\" SQL instance.\r\n",
                "\r\n",
                "Selected content was copied from original posts while listening to:\r\n",
                "\r\n",
                "- Alice in Chains, Greatest Hits\r\n",
                "- Anthrax, Greatest Hits\r\n",
                "- The Angels, Greatest Hits"
            ],
            "metadata": {
                "azdata_cell_guid": "60185d1a-57f4-44cd-8acc-15584ddaccea"
            }
        }
    ]
}