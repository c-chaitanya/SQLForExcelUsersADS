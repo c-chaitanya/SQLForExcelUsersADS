{
    "metadata": {
        "kernelspec": {
            "name": "SQL",
            "display_name": "SQL",
            "language": "sql"
        },
        "language_info": {
            "name": "sql",
            "version": ""
        }
    },
    "nbformat_minor": 2,
    "nbformat": 4,
    "cells": [
        {
            "cell_type": "markdown",
            "source": [
                "# Introduction to SQL for Excel Users – Part 9: Basic Windows\r\n",
                "\r\n",
                "[Original post](https://www.daveondata.com/blog/introduction-to-sql-for-excel-users-part-9-basic-windows/)"
            ],
            "metadata": {
                "azdata_cell_guid": "7c690bac-d6ec-4fae-ae58-8d00df2da8c0"
            }
        },
        {
            "cell_type": "markdown",
            "source": [
                "## Windows of Data in SQL\r\n",
                "\r\n",
                "NOTE – What you will see in this post is supported by major DBs like Oracle and PostgreSQL.\r\n",
                "\r\n",
                "T-SQL supports windows of data via the OVER keyword and the definition of the windows using PARTITION BY.\r\n",
                "\r\n",
                "T-SQL supports a number of window functions, but for this post we’re going to look at my favorite, ROW_NUMBER.\r\n",
                "\r\n",
                "It’s best to see ROW_NUMBER in action to understand what it does – and why it is so awesome!\r\n",
                "\r\n",
                "Let’s revisit our logical process using the above T-SQL keywords:\r\n",
                "\r\n",
                "- Create windows of data using OVER\r\n",
                "- Define how the windows will be created using PARTITION BY\r\n",
                "- Define some operation on the data in the windows using ROW_NUMBER\r\n",
                "\r\n",
                "OK, I’m going to put this all together for a first-pass SQL query:\r\n",
                "\r\n",
                "```\r\n",
                "-- this will produce an error\r\n",
                "SELECT FCC.FactCallCenterID\r\n",
                "      ,FCC.DateKey\r\n",
                "      ,FCC.WageType\r\n",
                "      ,FCC.Shift\r\n",
                "      ,ROW_NUMBER() OVER (PARTITION BY FCC.DateKey) AS RowNum\r\n",
                "FROM FactCallCenter FCC\r\n",
                "```\r\n",
                "Turns out we need to add one more thing to our logical process when using ROW_NUMBER:\r\n",
                "\r\n",
                "- Create windows of data using OVER\r\n",
                "- Define how the windows will be created using the PARTITION BY\r\n",
                "- Define some operation on the data in the windows using ROW_NUMBER\r\n",
                "- Define a sort order for the data in the windows using ORDER BY\r\n",
                "\r\n",
                "OK, I’m going to update the query thusly:"
            ],
            "metadata": {
                "azdata_cell_guid": "661c2eb8-7da0-4c4d-b95e-4170656b1873"
            }
        },
        {
            "cell_type": "code",
            "source": [
                "SELECT FCC.FactCallCenterID\r\n",
                "      ,FCC.DateKey\r\n",
                "      ,FCC.WageType\r\n",
                "      ,FCC.Shift\r\n",
                "      ,ROW_NUMBER() OVER (PARTITION BY FCC.DateKey ORDER BY FCC.Shift ASC) AS RowNum\r\n",
                "FROM FactCallCenter FCC"
            ],
            "metadata": {
                "azdata_cell_guid": "b1d17430-06c7-44d9-9ae1-b5875d99dacb"
            },
            "outputs": [],
            "execution_count": null
        },
        {
            "cell_type": "markdown",
            "source": [
                "NOTE – Always use an alias with window functions, otherwise the column will have no name.\r\n",
                "\r\n",
                "Outstanding!\r\n",
                "\r\n",
                "Notice what the mighty ROW_NUMBER does.\r\n",
                "\r\n",
                "It allows you to define data windows, sort the data in the windows and then assign the row number based on all of this windowing goodness.\r\n",
                "\r\n",
                "Using what I’ve covered in the series so far, I can ask some interesting questions of the data.\r\n",
                "\r\n",
                "Lets say I’m the call center manager.\r\n",
                "\r\n",
                "I might be curious to know for each day, which Shift was busiest in terms of the highest number of Calls.\r\n",
                "\r\n",
                "The mighty ROW_NUMBER to the rescue!\r\n",
                "\r\n",
                "Here’s the SQL:"
            ],
            "metadata": {
                "azdata_cell_guid": "76ea6fe2-df26-4546-8973-3bcf966a7cc8"
            }
        },
        {
            "cell_type": "code",
            "source": [
                "SELECT FCC.FactCallCenterID\r\n",
                "      ,FCC.DateKey\r\n",
                "      ,FCC.WageType\r\n",
                "      ,FCC.Shift\r\n",
                "      ,FCC.Calls\r\n",
                "      ,ROW_NUMBER() OVER (PARTITION BY FCC.DateKey ORDER BY FCC.Calls DESC) AS RowNum\r\n",
                "FROM FactCallCenter FCC\r\n",
                "ORDER BY FCC.DateKey ASC"
            ],
            "metadata": {
                "azdata_cell_guid": "c92a7db7-56a9-4589-8753-9e25b75ddade"
            },
            "outputs": [],
            "execution_count": null
        },
        {
            "cell_type": "markdown",
            "source": [
                "Here’s what the SQL is doing:\r\n",
                "\r\n",
                "- It’s defining windows by DateKey\r\n",
                "- Ordering the data in each window by Calls in descending order\r\n",
                "- Applying ROW_NUMBER to the sorted data in each window\r\n",
                "\r\n",
                "Since I’m sorting the windows by Calls in descending order, everywhere RowNum = 1 is the busiest shift in terms of Calls!\r\n",
                "\r\n",
                "As awesome as all this is, it gets better.\r\n",
                "\r\n",
                "Your windows can be composed of “soft groups” of “soft groups”…"
            ],
            "metadata": {
                "azdata_cell_guid": "f46b14d5-1301-461f-a5f5-0a90a29ae6f6"
            }
        },
        {
            "cell_type": "markdown",
            "source": [
                "## Fancy Data Windows in SQL\r\n",
                "\r\n",
                "As with SQL’s GROUP BY, you can list multiple columns in PARTITION BY.\r\n",
                "\r\n",
                "This allows you to create “soft groups” of “soft groups”.\r\n",
                "\r\n",
                "Let’s say I’m that call center manager again and I am interested in seeing the busiest days by Calls, but windowed by WageType and Shift.\r\n",
                "\r\n",
                "I can fire up SSMS and crank out the following SQL code to get me the data:"
            ],
            "metadata": {
                "azdata_cell_guid": "975a49dd-1791-4e46-93a3-fad0ca5cb5b4"
            }
        },
        {
            "cell_type": "code",
            "source": [
                "SELECT FCC.FactCallCenterID\r\n",
                "      ,FCC.DateKey\r\n",
                "      ,FCC.WageType\r\n",
                "      ,FCC.Shift\r\n",
                "      ,FCC.Calls\r\n",
                "      ,ROW_NUMBER() OVER (PARTITION BY FCC.WageType, FCC.Shift ORDER BY FCC.Calls DESC) AS RowNum\r\n",
                "FROM FactCallCenter FCC\r\n",
                "ORDER BY FCC.WageType, FCC.Shift ASC"
            ],
            "metadata": {
                "azdata_cell_guid": "27ad828e-40c8-47dc-852c-1596a2306149"
            },
            "outputs": [
                {
                    "output_type": "display_data",
                    "data": {
                        "text/html": "(120 rows affected)"
                    },
                    "metadata": {}
                },
                {
                    "output_type": "display_data",
                    "data": {
                        "text/html": "Total execution time: 00:00:00.008"
                    },
                    "metadata": {}
                },
                {
                    "output_type": "execute_result",
                    "metadata": {},
                    "execution_count": 1,
                    "data": {
                        "application/vnd.dataresource+json": {
                            "schema": {
                                "fields": [
                                    {
                                        "name": "FactCallCenterID"
                                    },
                                    {
                                        "name": "DateKey"
                                    },
                                    {
                                        "name": "WageType"
                                    },
                                    {
                                        "name": "Shift"
                                    },
                                    {
                                        "name": "Calls"
                                    },
                                    {
                                        "name": "RowNum"
                                    }
                                ]
                            },
                            "data": [
                                {
                                    "0": "69",
                                    "1": "20140518",
                                    "2": "holiday",
                                    "3": "AM",
                                    "4": "430",
                                    "5": "1"
                                },
                                {
                                    "0": "89",
                                    "1": "20140523",
                                    "2": "holiday",
                                    "3": "AM",
                                    "4": "429",
                                    "5": "2"
                                },
                                {
                                    "0": "9",
                                    "1": "20140503",
                                    "2": "holiday",
                                    "3": "AM",
                                    "4": "416",
                                    "5": "3"
                                },
                                {
                                    "0": "13",
                                    "1": "20140504",
                                    "2": "holiday",
                                    "3": "AM",
                                    "4": "376",
                                    "5": "4"
                                },
                                {
                                    "0": "101",
                                    "1": "20140526",
                                    "2": "holiday",
                                    "3": "AM",
                                    "4": "278",
                                    "5": "5"
                                },
                                {
                                    "0": "97",
                                    "1": "20140525",
                                    "2": "holiday",
                                    "3": "AM",
                                    "4": "269",
                                    "5": "6"
                                },
                                {
                                    "0": "73",
                                    "1": "20140519",
                                    "2": "holiday",
                                    "3": "AM",
                                    "4": "268",
                                    "5": "7"
                                },
                                {
                                    "0": "17",
                                    "1": "20140505",
                                    "2": "holiday",
                                    "3": "AM",
                                    "4": "245",
                                    "5": "8"
                                },
                                {
                                    "0": "41",
                                    "1": "20140511",
                                    "2": "holiday",
                                    "3": "AM",
                                    "4": "215",
                                    "5": "9"
                                },
                                {
                                    "0": "45",
                                    "1": "20140512",
                                    "2": "holiday",
                                    "3": "AM",
                                    "4": "209",
                                    "5": "10"
                                },
                                {
                                    "0": "72",
                                    "1": "20140518",
                                    "2": "holiday",
                                    "3": "midnight",
                                    "4": "368",
                                    "5": "1"
                                },
                                {
                                    "0": "44",
                                    "1": "20140511",
                                    "2": "holiday",
                                    "3": "midnight",
                                    "4": "352",
                                    "5": "2"
                                },
                                {
                                    "0": "100",
                                    "1": "20140525",
                                    "2": "holiday",
                                    "3": "midnight",
                                    "4": "320",
                                    "5": "3"
                                },
                                {
                                    "0": "104",
                                    "1": "20140526",
                                    "2": "holiday",
                                    "3": "midnight",
                                    "4": "239",
                                    "5": "4"
                                },
                                {
                                    "0": "16",
                                    "1": "20140504",
                                    "2": "holiday",
                                    "3": "midnight",
                                    "4": "225",
                                    "5": "5"
                                },
                                {
                                    "0": "12",
                                    "1": "20140503",
                                    "2": "holiday",
                                    "3": "midnight",
                                    "4": "223",
                                    "5": "6"
                                },
                                {
                                    "0": "92",
                                    "1": "20140523",
                                    "2": "holiday",
                                    "3": "midnight",
                                    "4": "172",
                                    "5": "7"
                                },
                                {
                                    "0": "48",
                                    "1": "20140512",
                                    "2": "holiday",
                                    "3": "midnight",
                                    "4": "137",
                                    "5": "8"
                                },
                                {
                                    "0": "76",
                                    "1": "20140519",
                                    "2": "holiday",
                                    "3": "midnight",
                                    "4": "129",
                                    "5": "9"
                                },
                                {
                                    "0": "20",
                                    "1": "20140505",
                                    "2": "holiday",
                                    "3": "midnight",
                                    "4": "98",
                                    "5": "10"
                                },
                                {
                                    "0": "46",
                                    "1": "20140512",
                                    "2": "holiday",
                                    "3": "PM1",
                                    "4": "617",
                                    "5": "1"
                                },
                                {
                                    "0": "98",
                                    "1": "20140525",
                                    "2": "holiday",
                                    "3": "PM1",
                                    "4": "541",
                                    "5": "2"
                                },
                                {
                                    "0": "70",
                                    "1": "20140518",
                                    "2": "holiday",
                                    "3": "PM1",
                                    "4": "425",
                                    "5": "3"
                                },
                                {
                                    "0": "90",
                                    "1": "20140523",
                                    "2": "holiday",
                                    "3": "PM1",
                                    "4": "417",
                                    "5": "4"
                                },
                                {
                                    "0": "10",
                                    "1": "20140503",
                                    "2": "holiday",
                                    "3": "PM1",
                                    "4": "407",
                                    "5": "5"
                                },
                                {
                                    "0": "102",
                                    "1": "20140526",
                                    "2": "holiday",
                                    "3": "PM1",
                                    "4": "398",
                                    "5": "6"
                                },
                                {
                                    "0": "14",
                                    "1": "20140504",
                                    "2": "holiday",
                                    "3": "PM1",
                                    "4": "392",
                                    "5": "7"
                                },
                                {
                                    "0": "42",
                                    "1": "20140511",
                                    "2": "holiday",
                                    "3": "PM1",
                                    "4": "382",
                                    "5": "8"
                                },
                                {
                                    "0": "74",
                                    "1": "20140519",
                                    "2": "holiday",
                                    "3": "PM1",
                                    "4": "372",
                                    "5": "9"
                                },
                                {
                                    "0": "18",
                                    "1": "20140505",
                                    "2": "holiday",
                                    "3": "PM1",
                                    "4": "335",
                                    "5": "10"
                                },
                                {
                                    "0": "91",
                                    "1": "20140523",
                                    "2": "holiday",
                                    "3": "PM2",
                                    "4": "699",
                                    "5": "1"
                                },
                                {
                                    "0": "15",
                                    "1": "20140504",
                                    "2": "holiday",
                                    "3": "PM2",
                                    "4": "623",
                                    "5": "2"
                                },
                                {
                                    "0": "43",
                                    "1": "20140511",
                                    "2": "holiday",
                                    "3": "PM2",
                                    "4": "593",
                                    "5": "3"
                                },
                                {
                                    "0": "71",
                                    "1": "20140518",
                                    "2": "holiday",
                                    "3": "PM2",
                                    "4": "578",
                                    "5": "4"
                                },
                                {
                                    "0": "75",
                                    "1": "20140519",
                                    "2": "holiday",
                                    "3": "PM2",
                                    "4": "550",
                                    "5": "5"
                                },
                                {
                                    "0": "103",
                                    "1": "20140526",
                                    "2": "holiday",
                                    "3": "PM2",
                                    "4": "487",
                                    "5": "6"
                                },
                                {
                                    "0": "47",
                                    "1": "20140512",
                                    "2": "holiday",
                                    "3": "PM2",
                                    "4": "462",
                                    "5": "7"
                                },
                                {
                                    "0": "19",
                                    "1": "20140505",
                                    "2": "holiday",
                                    "3": "PM2",
                                    "4": "400",
                                    "5": "8"
                                },
                                {
                                    "0": "99",
                                    "1": "20140525",
                                    "2": "holiday",
                                    "3": "PM2",
                                    "4": "374",
                                    "5": "9"
                                },
                                {
                                    "0": "11",
                                    "1": "20140503",
                                    "2": "holiday",
                                    "3": "PM2",
                                    "4": "290",
                                    "5": "10"
                                },
                                {
                                    "0": "65",
                                    "1": "20140517",
                                    "2": "weekday",
                                    "3": "AM",
                                    "4": "468",
                                    "5": "1"
                                },
                                {
                                    "0": "25",
                                    "1": "20140507",
                                    "2": "weekday",
                                    "3": "AM",
                                    "4": "419",
                                    "5": "2"
                                },
                                {
                                    "0": "1",
                                    "1": "20140501",
                                    "2": "weekday",
                                    "3": "AM",
                                    "4": "405",
                                    "5": "3"
                                },
                                {
                                    "0": "49",
                                    "1": "20140513",
                                    "2": "weekday",
                                    "3": "AM",
                                    "4": "391",
                                    "5": "4"
                                },
                                {
                                    "0": "117",
                                    "1": "20140530",
                                    "2": "weekday",
                                    "3": "AM",
                                    "4": "380",
                                    "5": "5"
                                },
                                {
                                    "0": "29",
                                    "1": "20140508",
                                    "2": "weekday",
                                    "3": "AM",
                                    "4": "373",
                                    "5": "6"
                                },
                                {
                                    "0": "61",
                                    "1": "20140516",
                                    "2": "weekday",
                                    "3": "AM",
                                    "4": "365",
                                    "5": "7"
                                },
                                {
                                    "0": "21",
                                    "1": "20140506",
                                    "2": "weekday",
                                    "3": "AM",
                                    "4": "333",
                                    "5": "8"
                                },
                                {
                                    "0": "85",
                                    "1": "20140522",
                                    "2": "weekday",
                                    "3": "AM",
                                    "4": "333",
                                    "5": "9"
                                },
                                {
                                    "0": "33",
                                    "1": "20140509",
                                    "2": "weekday",
                                    "3": "AM",
                                    "4": "325",
                                    "5": "10"
                                },
                                {
                                    "0": "109",
                                    "1": "20140528",
                                    "2": "weekday",
                                    "3": "AM",
                                    "4": "321",
                                    "5": "11"
                                },
                                {
                                    "0": "105",
                                    "1": "20140527",
                                    "2": "weekday",
                                    "3": "AM",
                                    "4": "317",
                                    "5": "12"
                                },
                                {
                                    "0": "53",
                                    "1": "20140514",
                                    "2": "weekday",
                                    "3": "AM",
                                    "4": "310",
                                    "5": "13"
                                },
                                {
                                    "0": "81",
                                    "1": "20140521",
                                    "2": "weekday",
                                    "3": "AM",
                                    "4": "297",
                                    "5": "14"
                                },
                                {
                                    "0": "93",
                                    "1": "20140524",
                                    "2": "weekday",
                                    "3": "AM",
                                    "4": "294",
                                    "5": "15"
                                },
                                {
                                    "0": "77",
                                    "1": "20140520",
                                    "2": "weekday",
                                    "3": "AM",
                                    "4": "281",
                                    "5": "16"
                                },
                                {
                                    "0": "57",
                                    "1": "20140515",
                                    "2": "weekday",
                                    "3": "AM",
                                    "4": "266",
                                    "5": "17"
                                },
                                {
                                    "0": "5",
                                    "1": "20140502",
                                    "2": "weekday",
                                    "3": "AM",
                                    "4": "264",
                                    "5": "18"
                                },
                                {
                                    "0": "37",
                                    "1": "20140510",
                                    "2": "weekday",
                                    "3": "AM",
                                    "4": "234",
                                    "5": "19"
                                },
                                {
                                    "0": "113",
                                    "1": "20140529",
                                    "2": "weekday",
                                    "3": "AM",
                                    "4": "232",
                                    "5": "20"
                                },
                                {
                                    "0": "108",
                                    "1": "20140527",
                                    "2": "weekday",
                                    "3": "midnight",
                                    "4": "232",
                                    "5": "1"
                                },
                                {
                                    "0": "116",
                                    "1": "20140529",
                                    "2": "weekday",
                                    "3": "midnight",
                                    "4": "231",
                                    "5": "2"
                                },
                                {
                                    "0": "80",
                                    "1": "20140520",
                                    "2": "weekday",
                                    "3": "midnight",
                                    "4": "228",
                                    "5": "3"
                                },
                                {
                                    "0": "4",
                                    "1": "20140501",
                                    "2": "weekday",
                                    "3": "midnight",
                                    "4": "219",
                                    "5": "4"
                                },
                                {
                                    "0": "28",
                                    "1": "20140507",
                                    "2": "weekday",
                                    "3": "midnight",
                                    "4": "203",
                                    "5": "5"
                                },
                                {
                                    "0": "32",
                                    "1": "20140508",
                                    "2": "weekday",
                                    "3": "midnight",
                                    "4": "196",
                                    "5": "6"
                                },
                                {
                                    "0": "120",
                                    "1": "20140530",
                                    "2": "weekday",
                                    "3": "midnight",
                                    "4": "193",
                                    "5": "7"
                                },
                                {
                                    "0": "96",
                                    "1": "20140524",
                                    "2": "weekday",
                                    "3": "midnight",
                                    "4": "189",
                                    "5": "8"
                                },
                                {
                                    "0": "8",
                                    "1": "20140502",
                                    "2": "weekday",
                                    "3": "midnight",
                                    "4": "178",
                                    "5": "9"
                                },
                                {
                                    "0": "88",
                                    "1": "20140522",
                                    "2": "weekday",
                                    "3": "midnight",
                                    "4": "174",
                                    "5": "10"
                                },
                                {
                                    "0": "40",
                                    "1": "20140510",
                                    "2": "weekday",
                                    "3": "midnight",
                                    "4": "170",
                                    "5": "11"
                                },
                                {
                                    "0": "84",
                                    "1": "20140521",
                                    "2": "weekday",
                                    "3": "midnight",
                                    "4": "168",
                                    "5": "12"
                                },
                                {
                                    "0": "60",
                                    "1": "20140515",
                                    "2": "weekday",
                                    "3": "midnight",
                                    "4": "158",
                                    "5": "13"
                                },
                                {
                                    "0": "68",
                                    "1": "20140517",
                                    "2": "weekday",
                                    "3": "midnight",
                                    "4": "141",
                                    "5": "14"
                                },
                                {
                                    "0": "36",
                                    "1": "20140509",
                                    "2": "weekday",
                                    "3": "midnight",
                                    "4": "140",
                                    "5": "15"
                                },
                                {
                                    "0": "112",
                                    "1": "20140528",
                                    "2": "weekday",
                                    "3": "midnight",
                                    "4": "130",
                                    "5": "16"
                                },
                                {
                                    "0": "64",
                                    "1": "20140516",
                                    "2": "weekday",
                                    "3": "midnight",
                                    "4": "129",
                                    "5": "17"
                                },
                                {
                                    "0": "52",
                                    "1": "20140513",
                                    "2": "weekday",
                                    "3": "midnight",
                                    "4": "113",
                                    "5": "18"
                                },
                                {
                                    "0": "24",
                                    "1": "20140506",
                                    "2": "weekday",
                                    "3": "midnight",
                                    "4": "105",
                                    "5": "19"
                                },
                                {
                                    "0": "56",
                                    "1": "20140514",
                                    "2": "weekday",
                                    "3": "midnight",
                                    "4": "72",
                                    "5": "20"
                                },
                                {
                                    "0": "6",
                                    "1": "20140502",
                                    "2": "weekday",
                                    "3": "PM1",
                                    "4": "539",
                                    "5": "1"
                                },
                                {
                                    "0": "114",
                                    "1": "20140529",
                                    "2": "weekday",
                                    "3": "PM1",
                                    "4": "525",
                                    "5": "2"
                                },
                                {
                                    "0": "82",
                                    "1": "20140521",
                                    "2": "weekday",
                                    "3": "PM1",
                                    "4": "511",
                                    "5": "3"
                                },
                                {
                                    "0": "58",
                                    "1": "20140515",
                                    "2": "weekday",
                                    "3": "PM1",
                                    "4": "499",
                                    "5": "4"
                                },
                                {
                                    "0": "22",
                                    "1": "20140506",
                                    "2": "weekday",
                                    "3": "PM1",
                                    "4": "476",
                                    "5": "5"
                                },
                                {
                                    "0": "118",
                                    "1": "20140530",
                                    "2": "weekday",
                                    "3": "PM1",
                                    "4": "461",
                                    "5": "6"
                                },
                                {
                                    "0": "66",
                                    "1": "20140517",
                                    "2": "weekday",
                                    "3": "PM1",
                                    "4": "451",
                                    "5": "7"
                                },
                                {
                                    "0": "50",
                                    "1": "20140513",
                                    "2": "weekday",
                                    "3": "PM1",
                                    "4": "445",
                                    "5": "8"
                                },
                                {
                                    "0": "62",
                                    "1": "20140516",
                                    "2": "weekday",
                                    "3": "PM1",
                                    "4": "428",
                                    "5": "9"
                                },
                                {
                                    "0": "110",
                                    "1": "20140528",
                                    "2": "weekday",
                                    "3": "PM1",
                                    "4": "428",
                                    "5": "10"
                                },
                                {
                                    "0": "30",
                                    "1": "20140508",
                                    "2": "weekday",
                                    "3": "PM1",
                                    "4": "408",
                                    "5": "11"
                                },
                                {
                                    "0": "26",
                                    "1": "20140507",
                                    "2": "weekday",
                                    "3": "PM1",
                                    "4": "401",
                                    "5": "12"
                                },
                                {
                                    "0": "94",
                                    "1": "20140524",
                                    "2": "weekday",
                                    "3": "PM1",
                                    "4": "401",
                                    "5": "13"
                                },
                                {
                                    "0": "78",
                                    "1": "20140520",
                                    "2": "weekday",
                                    "3": "PM1",
                                    "4": "396",
                                    "5": "14"
                                },
                                {
                                    "0": "2",
                                    "1": "20140501",
                                    "2": "weekday",
                                    "3": "PM1",
                                    "4": "389",
                                    "5": "15"
                                },
                                {
                                    "0": "86",
                                    "1": "20140522",
                                    "2": "weekday",
                                    "3": "PM1",
                                    "4": "380",
                                    "5": "16"
                                },
                                {
                                    "0": "34",
                                    "1": "20140509",
                                    "2": "weekday",
                                    "3": "PM1",
                                    "4": "308",
                                    "5": "17"
                                },
                                {
                                    "0": "38",
                                    "1": "20140510",
                                    "2": "weekday",
                                    "3": "PM1",
                                    "4": "305",
                                    "5": "18"
                                },
                                {
                                    "0": "106",
                                    "1": "20140527",
                                    "2": "weekday",
                                    "3": "PM1",
                                    "4": "284",
                                    "5": "19"
                                },
                                {
                                    "0": "54",
                                    "1": "20140514",
                                    "2": "weekday",
                                    "3": "PM1",
                                    "4": "275",
                                    "5": "20"
                                },
                                {
                                    "0": "95",
                                    "1": "20140524",
                                    "2": "weekday",
                                    "3": "PM2",
                                    "4": "669",
                                    "5": "1"
                                },
                                {
                                    "0": "79",
                                    "1": "20140520",
                                    "2": "weekday",
                                    "3": "PM2",
                                    "4": "663",
                                    "5": "2"
                                },
                                {
                                    "0": "51",
                                    "1": "20140513",
                                    "2": "weekday",
                                    "3": "PM2",
                                    "4": "648",
                                    "5": "3"
                                },
                                {
                                    "0": "115",
                                    "1": "20140529",
                                    "2": "weekday",
                                    "3": "PM2",
                                    "4": "632",
                                    "5": "4"
                                },
                                {
                                    "0": "31",
                                    "1": "20140508",
                                    "2": "weekday",
                                    "3": "PM2",
                                    "4": "593",
                                    "5": "5"
                                },
                                {
                                    "0": "111",
                                    "1": "20140528",
                                    "2": "weekday",
                                    "3": "PM2",
                                    "4": "580",
                                    "5": "6"
                                },
                                {
                                    "0": "27",
                                    "1": "20140507",
                                    "2": "weekday",
                                    "3": "PM2",
                                    "4": "564",
                                    "5": "7"
                                },
                                {
                                    "0": "107",
                                    "1": "20140527",
                                    "2": "weekday",
                                    "3": "PM2",
                                    "4": "557",
                                    "5": "8"
                                },
                                {
                                    "0": "63",
                                    "1": "20140516",
                                    "2": "weekday",
                                    "3": "PM2",
                                    "4": "544",
                                    "5": "9"
                                },
                                {
                                    "0": "35",
                                    "1": "20140509",
                                    "2": "weekday",
                                    "3": "PM2",
                                    "4": "532",
                                    "5": "10"
                                },
                                {
                                    "0": "83",
                                    "1": "20140521",
                                    "2": "weekday",
                                    "3": "PM2",
                                    "4": "499",
                                    "5": "11"
                                },
                                {
                                    "0": "87",
                                    "1": "20140522",
                                    "2": "weekday",
                                    "3": "PM2",
                                    "4": "497",
                                    "5": "12"
                                },
                                {
                                    "0": "67",
                                    "1": "20140517",
                                    "2": "weekday",
                                    "3": "PM2",
                                    "4": "481",
                                    "5": "13"
                                },
                                {
                                    "0": "7",
                                    "1": "20140502",
                                    "2": "weekday",
                                    "3": "PM2",
                                    "4": "469",
                                    "5": "14"
                                },
                                {
                                    "0": "39",
                                    "1": "20140510",
                                    "2": "weekday",
                                    "3": "PM2",
                                    "4": "452",
                                    "5": "15"
                                },
                                {
                                    "0": "23",
                                    "1": "20140506",
                                    "2": "weekday",
                                    "3": "PM2",
                                    "4": "416",
                                    "5": "16"
                                },
                                {
                                    "0": "59",
                                    "1": "20140515",
                                    "2": "weekday",
                                    "3": "PM2",
                                    "4": "413",
                                    "5": "17"
                                },
                                {
                                    "0": "119",
                                    "1": "20140530",
                                    "2": "weekday",
                                    "3": "PM2",
                                    "4": "403",
                                    "5": "18"
                                },
                                {
                                    "0": "3",
                                    "1": "20140501",
                                    "2": "weekday",
                                    "3": "PM2",
                                    "4": "358",
                                    "5": "19"
                                },
                                {
                                    "0": "55",
                                    "1": "20140514",
                                    "2": "weekday",
                                    "3": "PM2",
                                    "4": "352",
                                    "5": "20"
                                }
                            ]
                        },
                        "text/html": [
                            "<table>",
                            "<tr><th>FactCallCenterID</th><th>DateKey</th><th>WageType</th><th>Shift</th><th>Calls</th><th>RowNum</th></tr>",
                            "<tr><td>69</td><td>20140518</td><td>holiday</td><td>AM</td><td>430</td><td>1</td></tr>",
                            "<tr><td>89</td><td>20140523</td><td>holiday</td><td>AM</td><td>429</td><td>2</td></tr>",
                            "<tr><td>9</td><td>20140503</td><td>holiday</td><td>AM</td><td>416</td><td>3</td></tr>",
                            "<tr><td>13</td><td>20140504</td><td>holiday</td><td>AM</td><td>376</td><td>4</td></tr>",
                            "<tr><td>101</td><td>20140526</td><td>holiday</td><td>AM</td><td>278</td><td>5</td></tr>",
                            "<tr><td>97</td><td>20140525</td><td>holiday</td><td>AM</td><td>269</td><td>6</td></tr>",
                            "<tr><td>73</td><td>20140519</td><td>holiday</td><td>AM</td><td>268</td><td>7</td></tr>",
                            "<tr><td>17</td><td>20140505</td><td>holiday</td><td>AM</td><td>245</td><td>8</td></tr>",
                            "<tr><td>41</td><td>20140511</td><td>holiday</td><td>AM</td><td>215</td><td>9</td></tr>",
                            "<tr><td>45</td><td>20140512</td><td>holiday</td><td>AM</td><td>209</td><td>10</td></tr>",
                            "<tr><td>72</td><td>20140518</td><td>holiday</td><td>midnight</td><td>368</td><td>1</td></tr>",
                            "<tr><td>44</td><td>20140511</td><td>holiday</td><td>midnight</td><td>352</td><td>2</td></tr>",
                            "<tr><td>100</td><td>20140525</td><td>holiday</td><td>midnight</td><td>320</td><td>3</td></tr>",
                            "<tr><td>104</td><td>20140526</td><td>holiday</td><td>midnight</td><td>239</td><td>4</td></tr>",
                            "<tr><td>16</td><td>20140504</td><td>holiday</td><td>midnight</td><td>225</td><td>5</td></tr>",
                            "<tr><td>12</td><td>20140503</td><td>holiday</td><td>midnight</td><td>223</td><td>6</td></tr>",
                            "<tr><td>92</td><td>20140523</td><td>holiday</td><td>midnight</td><td>172</td><td>7</td></tr>",
                            "<tr><td>48</td><td>20140512</td><td>holiday</td><td>midnight</td><td>137</td><td>8</td></tr>",
                            "<tr><td>76</td><td>20140519</td><td>holiday</td><td>midnight</td><td>129</td><td>9</td></tr>",
                            "<tr><td>20</td><td>20140505</td><td>holiday</td><td>midnight</td><td>98</td><td>10</td></tr>",
                            "<tr><td>46</td><td>20140512</td><td>holiday</td><td>PM1</td><td>617</td><td>1</td></tr>",
                            "<tr><td>98</td><td>20140525</td><td>holiday</td><td>PM1</td><td>541</td><td>2</td></tr>",
                            "<tr><td>70</td><td>20140518</td><td>holiday</td><td>PM1</td><td>425</td><td>3</td></tr>",
                            "<tr><td>90</td><td>20140523</td><td>holiday</td><td>PM1</td><td>417</td><td>4</td></tr>",
                            "<tr><td>10</td><td>20140503</td><td>holiday</td><td>PM1</td><td>407</td><td>5</td></tr>",
                            "<tr><td>102</td><td>20140526</td><td>holiday</td><td>PM1</td><td>398</td><td>6</td></tr>",
                            "<tr><td>14</td><td>20140504</td><td>holiday</td><td>PM1</td><td>392</td><td>7</td></tr>",
                            "<tr><td>42</td><td>20140511</td><td>holiday</td><td>PM1</td><td>382</td><td>8</td></tr>",
                            "<tr><td>74</td><td>20140519</td><td>holiday</td><td>PM1</td><td>372</td><td>9</td></tr>",
                            "<tr><td>18</td><td>20140505</td><td>holiday</td><td>PM1</td><td>335</td><td>10</td></tr>",
                            "<tr><td>91</td><td>20140523</td><td>holiday</td><td>PM2</td><td>699</td><td>1</td></tr>",
                            "<tr><td>15</td><td>20140504</td><td>holiday</td><td>PM2</td><td>623</td><td>2</td></tr>",
                            "<tr><td>43</td><td>20140511</td><td>holiday</td><td>PM2</td><td>593</td><td>3</td></tr>",
                            "<tr><td>71</td><td>20140518</td><td>holiday</td><td>PM2</td><td>578</td><td>4</td></tr>",
                            "<tr><td>75</td><td>20140519</td><td>holiday</td><td>PM2</td><td>550</td><td>5</td></tr>",
                            "<tr><td>103</td><td>20140526</td><td>holiday</td><td>PM2</td><td>487</td><td>6</td></tr>",
                            "<tr><td>47</td><td>20140512</td><td>holiday</td><td>PM2</td><td>462</td><td>7</td></tr>",
                            "<tr><td>19</td><td>20140505</td><td>holiday</td><td>PM2</td><td>400</td><td>8</td></tr>",
                            "<tr><td>99</td><td>20140525</td><td>holiday</td><td>PM2</td><td>374</td><td>9</td></tr>",
                            "<tr><td>11</td><td>20140503</td><td>holiday</td><td>PM2</td><td>290</td><td>10</td></tr>",
                            "<tr><td>65</td><td>20140517</td><td>weekday</td><td>AM</td><td>468</td><td>1</td></tr>",
                            "<tr><td>25</td><td>20140507</td><td>weekday</td><td>AM</td><td>419</td><td>2</td></tr>",
                            "<tr><td>1</td><td>20140501</td><td>weekday</td><td>AM</td><td>405</td><td>3</td></tr>",
                            "<tr><td>49</td><td>20140513</td><td>weekday</td><td>AM</td><td>391</td><td>4</td></tr>",
                            "<tr><td>117</td><td>20140530</td><td>weekday</td><td>AM</td><td>380</td><td>5</td></tr>",
                            "<tr><td>29</td><td>20140508</td><td>weekday</td><td>AM</td><td>373</td><td>6</td></tr>",
                            "<tr><td>61</td><td>20140516</td><td>weekday</td><td>AM</td><td>365</td><td>7</td></tr>",
                            "<tr><td>21</td><td>20140506</td><td>weekday</td><td>AM</td><td>333</td><td>8</td></tr>",
                            "<tr><td>85</td><td>20140522</td><td>weekday</td><td>AM</td><td>333</td><td>9</td></tr>",
                            "<tr><td>33</td><td>20140509</td><td>weekday</td><td>AM</td><td>325</td><td>10</td></tr>",
                            "<tr><td>109</td><td>20140528</td><td>weekday</td><td>AM</td><td>321</td><td>11</td></tr>",
                            "<tr><td>105</td><td>20140527</td><td>weekday</td><td>AM</td><td>317</td><td>12</td></tr>",
                            "<tr><td>53</td><td>20140514</td><td>weekday</td><td>AM</td><td>310</td><td>13</td></tr>",
                            "<tr><td>81</td><td>20140521</td><td>weekday</td><td>AM</td><td>297</td><td>14</td></tr>",
                            "<tr><td>93</td><td>20140524</td><td>weekday</td><td>AM</td><td>294</td><td>15</td></tr>",
                            "<tr><td>77</td><td>20140520</td><td>weekday</td><td>AM</td><td>281</td><td>16</td></tr>",
                            "<tr><td>57</td><td>20140515</td><td>weekday</td><td>AM</td><td>266</td><td>17</td></tr>",
                            "<tr><td>5</td><td>20140502</td><td>weekday</td><td>AM</td><td>264</td><td>18</td></tr>",
                            "<tr><td>37</td><td>20140510</td><td>weekday</td><td>AM</td><td>234</td><td>19</td></tr>",
                            "<tr><td>113</td><td>20140529</td><td>weekday</td><td>AM</td><td>232</td><td>20</td></tr>",
                            "<tr><td>108</td><td>20140527</td><td>weekday</td><td>midnight</td><td>232</td><td>1</td></tr>",
                            "<tr><td>116</td><td>20140529</td><td>weekday</td><td>midnight</td><td>231</td><td>2</td></tr>",
                            "<tr><td>80</td><td>20140520</td><td>weekday</td><td>midnight</td><td>228</td><td>3</td></tr>",
                            "<tr><td>4</td><td>20140501</td><td>weekday</td><td>midnight</td><td>219</td><td>4</td></tr>",
                            "<tr><td>28</td><td>20140507</td><td>weekday</td><td>midnight</td><td>203</td><td>5</td></tr>",
                            "<tr><td>32</td><td>20140508</td><td>weekday</td><td>midnight</td><td>196</td><td>6</td></tr>",
                            "<tr><td>120</td><td>20140530</td><td>weekday</td><td>midnight</td><td>193</td><td>7</td></tr>",
                            "<tr><td>96</td><td>20140524</td><td>weekday</td><td>midnight</td><td>189</td><td>8</td></tr>",
                            "<tr><td>8</td><td>20140502</td><td>weekday</td><td>midnight</td><td>178</td><td>9</td></tr>",
                            "<tr><td>88</td><td>20140522</td><td>weekday</td><td>midnight</td><td>174</td><td>10</td></tr>",
                            "<tr><td>40</td><td>20140510</td><td>weekday</td><td>midnight</td><td>170</td><td>11</td></tr>",
                            "<tr><td>84</td><td>20140521</td><td>weekday</td><td>midnight</td><td>168</td><td>12</td></tr>",
                            "<tr><td>60</td><td>20140515</td><td>weekday</td><td>midnight</td><td>158</td><td>13</td></tr>",
                            "<tr><td>68</td><td>20140517</td><td>weekday</td><td>midnight</td><td>141</td><td>14</td></tr>",
                            "<tr><td>36</td><td>20140509</td><td>weekday</td><td>midnight</td><td>140</td><td>15</td></tr>",
                            "<tr><td>112</td><td>20140528</td><td>weekday</td><td>midnight</td><td>130</td><td>16</td></tr>",
                            "<tr><td>64</td><td>20140516</td><td>weekday</td><td>midnight</td><td>129</td><td>17</td></tr>",
                            "<tr><td>52</td><td>20140513</td><td>weekday</td><td>midnight</td><td>113</td><td>18</td></tr>",
                            "<tr><td>24</td><td>20140506</td><td>weekday</td><td>midnight</td><td>105</td><td>19</td></tr>",
                            "<tr><td>56</td><td>20140514</td><td>weekday</td><td>midnight</td><td>72</td><td>20</td></tr>",
                            "<tr><td>6</td><td>20140502</td><td>weekday</td><td>PM1</td><td>539</td><td>1</td></tr>",
                            "<tr><td>114</td><td>20140529</td><td>weekday</td><td>PM1</td><td>525</td><td>2</td></tr>",
                            "<tr><td>82</td><td>20140521</td><td>weekday</td><td>PM1</td><td>511</td><td>3</td></tr>",
                            "<tr><td>58</td><td>20140515</td><td>weekday</td><td>PM1</td><td>499</td><td>4</td></tr>",
                            "<tr><td>22</td><td>20140506</td><td>weekday</td><td>PM1</td><td>476</td><td>5</td></tr>",
                            "<tr><td>118</td><td>20140530</td><td>weekday</td><td>PM1</td><td>461</td><td>6</td></tr>",
                            "<tr><td>66</td><td>20140517</td><td>weekday</td><td>PM1</td><td>451</td><td>7</td></tr>",
                            "<tr><td>50</td><td>20140513</td><td>weekday</td><td>PM1</td><td>445</td><td>8</td></tr>",
                            "<tr><td>62</td><td>20140516</td><td>weekday</td><td>PM1</td><td>428</td><td>9</td></tr>",
                            "<tr><td>110</td><td>20140528</td><td>weekday</td><td>PM1</td><td>428</td><td>10</td></tr>",
                            "<tr><td>30</td><td>20140508</td><td>weekday</td><td>PM1</td><td>408</td><td>11</td></tr>",
                            "<tr><td>26</td><td>20140507</td><td>weekday</td><td>PM1</td><td>401</td><td>12</td></tr>",
                            "<tr><td>94</td><td>20140524</td><td>weekday</td><td>PM1</td><td>401</td><td>13</td></tr>",
                            "<tr><td>78</td><td>20140520</td><td>weekday</td><td>PM1</td><td>396</td><td>14</td></tr>",
                            "<tr><td>2</td><td>20140501</td><td>weekday</td><td>PM1</td><td>389</td><td>15</td></tr>",
                            "<tr><td>86</td><td>20140522</td><td>weekday</td><td>PM1</td><td>380</td><td>16</td></tr>",
                            "<tr><td>34</td><td>20140509</td><td>weekday</td><td>PM1</td><td>308</td><td>17</td></tr>",
                            "<tr><td>38</td><td>20140510</td><td>weekday</td><td>PM1</td><td>305</td><td>18</td></tr>",
                            "<tr><td>106</td><td>20140527</td><td>weekday</td><td>PM1</td><td>284</td><td>19</td></tr>",
                            "<tr><td>54</td><td>20140514</td><td>weekday</td><td>PM1</td><td>275</td><td>20</td></tr>",
                            "<tr><td>95</td><td>20140524</td><td>weekday</td><td>PM2</td><td>669</td><td>1</td></tr>",
                            "<tr><td>79</td><td>20140520</td><td>weekday</td><td>PM2</td><td>663</td><td>2</td></tr>",
                            "<tr><td>51</td><td>20140513</td><td>weekday</td><td>PM2</td><td>648</td><td>3</td></tr>",
                            "<tr><td>115</td><td>20140529</td><td>weekday</td><td>PM2</td><td>632</td><td>4</td></tr>",
                            "<tr><td>31</td><td>20140508</td><td>weekday</td><td>PM2</td><td>593</td><td>5</td></tr>",
                            "<tr><td>111</td><td>20140528</td><td>weekday</td><td>PM2</td><td>580</td><td>6</td></tr>",
                            "<tr><td>27</td><td>20140507</td><td>weekday</td><td>PM2</td><td>564</td><td>7</td></tr>",
                            "<tr><td>107</td><td>20140527</td><td>weekday</td><td>PM2</td><td>557</td><td>8</td></tr>",
                            "<tr><td>63</td><td>20140516</td><td>weekday</td><td>PM2</td><td>544</td><td>9</td></tr>",
                            "<tr><td>35</td><td>20140509</td><td>weekday</td><td>PM2</td><td>532</td><td>10</td></tr>",
                            "<tr><td>83</td><td>20140521</td><td>weekday</td><td>PM2</td><td>499</td><td>11</td></tr>",
                            "<tr><td>87</td><td>20140522</td><td>weekday</td><td>PM2</td><td>497</td><td>12</td></tr>",
                            "<tr><td>67</td><td>20140517</td><td>weekday</td><td>PM2</td><td>481</td><td>13</td></tr>",
                            "<tr><td>7</td><td>20140502</td><td>weekday</td><td>PM2</td><td>469</td><td>14</td></tr>",
                            "<tr><td>39</td><td>20140510</td><td>weekday</td><td>PM2</td><td>452</td><td>15</td></tr>",
                            "<tr><td>23</td><td>20140506</td><td>weekday</td><td>PM2</td><td>416</td><td>16</td></tr>",
                            "<tr><td>59</td><td>20140515</td><td>weekday</td><td>PM2</td><td>413</td><td>17</td></tr>",
                            "<tr><td>119</td><td>20140530</td><td>weekday</td><td>PM2</td><td>403</td><td>18</td></tr>",
                            "<tr><td>3</td><td>20140501</td><td>weekday</td><td>PM2</td><td>358</td><td>19</td></tr>",
                            "<tr><td>55</td><td>20140514</td><td>weekday</td><td>PM2</td><td>352</td><td>20</td></tr>",
                            "</table>"
                        ]
                    }
                }
            ],
            "execution_count": 1
        },
        {
            "cell_type": "markdown",
            "source": [
                "Once again, everywhere RowNum = 1 is the data that I’m interested in.\r\n",
                "\r\n",
                "Not surprisingly, SQL window functions are wildly useful for analytics pro – you use them all the time!\r\n",
                "\r\n",
                "There will be more coverage of this awesomeness – stay tuned."
            ],
            "metadata": {
                "azdata_cell_guid": "6c80d69a-9438-4442-a27f-bf5978cde963"
            }
        },
        {
            "cell_type": "markdown",
            "source": [
                "## The Learning Arc\r\n",
                "\r\n",
                "In the next post I will branch off to briefly introduce common table expressions (CTEs).\r\n",
                "\r\n",
                "I’ll cover CTEs as they are super useful when working with the mighty ROW_NUMBER.\r\n",
                "\r\n",
                "The series is rapidly getting to the point where you can answer some really interesting question with your data.\r\n",
                "\r\n",
                "Stay healthy and happy data sleuthing!"
            ],
            "metadata": {
                "azdata_cell_guid": "d85956b6-b8b7-46ee-ba5c-73902e639210"
            }
        }
    ]
}