{
    "metadata": {
        "kernelspec": {
            "name": "SQL",
            "display_name": "SQL",
            "language": "sql"
        },
        "language_info": {
            "name": "sql",
            "version": ""
        }
    },
    "nbformat_minor": 2,
    "nbformat": 4,
    "cells": [
        {
            "cell_type": "markdown",
            "source": [
                "# Introduction to SQL for Excel Users – Part 15: Basic LEFT JOINs\r\n",
                "\r\n",
                "[Original post](https://www.daveondata.com/blog/introduction-to-sql-for-excel-users-part-15-basic-left-joins/)"
            ],
            "metadata": {
                "azdata_cell_guid": "2d4547c0-8694-4f78-a971-fd5a3c8609e6"
            }
        },
        {
            "cell_type": "markdown",
            "source": [
                "# SQL Multiple Tables – Part 1\r\n",
                "\r\n",
                "Not surprisingly, the concepts of Left Table and Right Table are critical for working with multiple tables in SQL.\r\n",
                "\r\n",
                "It’s so important, SQL specifically uses the keywords LEFT and RIGHT!\r\n",
                "\r\n",
                "For this post I will be using DimEmployee as the Left Table.  For the purposes of this post, I will be using only the CustomerKey, FirstName, and LastName columns.\r\n",
                "\r\n",
                "Since there are more rows in DimEmployee than I need for the purposes of this blog post, I’m going to filter down to just six:"
            ],
            "metadata": {
                "azdata_cell_guid": "7856033b-c3b6-4479-9b8f-aea973db3a80"
            }
        },
        {
            "cell_type": "code",
            "source": [
                "SELECT E.EmployeeKey\r\n",
                "      ,E.FirstName\r\n",
                "      ,E.LastName\r\n",
                "FROM DimEmployee E \r\n",
                "WHERE E.EmployeeKey = 271 OR\r\n",
                "      E.EmployeeKey = 274 OR\r\n",
                "      E.EmployeeKey = 275 OR\r\n",
                "      E.EmployeeKey = 277 OR\r\n",
                "      E.EmployeeKey = 282 OR\r\n",
                "      E.EmployeeKey = 283"
            ],
            "metadata": {
                "azdata_cell_guid": "54313efa-e79a-4e8b-8be0-1a7a4b09acab"
            },
            "outputs": [],
            "execution_count": null
        },
        {
            "cell_type": "markdown",
            "source": [
                "The SQL ☝ can be written a little more succinctly using the IN keyword:"
            ],
            "metadata": {
                "azdata_cell_guid": "6587aa43-1fc6-4057-a426-aba15fe8caf3"
            }
        },
        {
            "cell_type": "code",
            "source": [
                "SELECT E.EmployeeKey\r\n",
                "      ,E.FirstName\r\n",
                "      ,E.LastName\r\n",
                "FROM DimEmployee E \r\n",
                "WHERE E.EmployeeKey IN (271, 274, 275, 277, 282, 283)"
            ],
            "metadata": {
                "azdata_cell_guid": "336de281-0806-42af-a7a1-82db0bd489d3"
            },
            "outputs": [],
            "execution_count": null
        },
        {
            "cell_type": "markdown",
            "source": [
                "Using IN is the equivalent of using a bunch of ORs in your SQL code.\r\n",
                "\r\n",
                "Basically, SQL Server just converts the INs to a bunch of ORs for you when you execute the query.\r\n",
                "\r\n",
                "Now, for the Right Table. I will be using FactSalesQuota.  For this post I will only be using the EmployeeKey and SalesAmountQuota columns."
            ],
            "metadata": {
                "azdata_cell_guid": "b1ee9527-3eb5-41cb-a473-d6d7b0de3c98"
            }
        },
        {
            "cell_type": "code",
            "source": [
                "SELECT SQ.EmployeeKey\r\n",
                "      ,SQ.SalesAmountQuota\r\n",
                "FROM FactSalesQuota SQ\r\n",
                "ORDER BY SQ.EmployeeKey, SQ.SalesQuotaKey"
            ],
            "metadata": {
                "azdata_cell_guid": "ed201b05-fed5-4c44-9f5e-386c5aee523b"
            },
            "outputs": [],
            "execution_count": null
        },
        {
            "cell_type": "markdown",
            "source": [
                "Notice that it is possible for a single EmployeeKey to have more than 1 SalesAmountQuota.\r\n",
                "\r\n",
                "Aight, now we’re ready to JOIN!"
            ],
            "metadata": {
                "azdata_cell_guid": "309214b1-c5fd-469d-b98b-37189b1955c2"
            }
        },
        {
            "cell_type": "markdown",
            "source": [
                "## SQL LEFT JOIN\r\n",
                "\r\n",
                "In the Excel example ☝, I demonstrated how to combine data.\r\n",
                "\r\n",
                "Specifically, how to keep all the Left Table data and combine it, where possible, with data from the Right Table.\r\n",
                "\r\n",
                "This is what is known in SQL as a LEFT JOIN or, as I prefer, a LEFT OUTER JOIN.\r\n",
                "\r\n",
                "SQL supports a number of JOINs and the LEFT OUTER JOIN is one that you will use most frequently.\r\n",
                "\r\n",
                "When working with JOINs, it is helpful to think of a progression of virtual tables from the left-most virtual table to the right most virtual table.\r\n",
                "\r\n",
                "This is idea is easier to grok when you see it built-up with code.\r\n",
                "\r\n",
                "Take the following SQL:"
            ],
            "metadata": {
                "azdata_cell_guid": "0b2bf6c1-a827-449b-b072-48b60183b1ec"
            }
        },
        {
            "cell_type": "code",
            "source": [
                "SELECT E.EmployeeKey\r\n",
                "      ,E.FirstName\r\n",
                "      ,E.LastName\r\n",
                "FROM DimEmployee E \r\n",
                "WHERE E.EmployeeKey IN (271, 274, 275, 277, 282, 283)"
            ],
            "metadata": {
                "azdata_cell_guid": "32c8b9f4-28d8-4b24-9257-bb8c57f72805"
            },
            "outputs": [],
            "execution_count": null
        },
        {
            "cell_type": "markdown",
            "source": [
                "When working with JOINs, I can think of the code ☝ as establishing my left-most virtual table based on DimEmployee.\r\n",
                "\r\n",
                "Now I tell the DB I would like to perform a LEFT OUTER JOIN with FactSalesQuota:\r\n",
                "\r\n",
                "```\r\n",
                "-- This code will fail - no matching logic for join\r\n",
                "SELECT E.EmployeeKey\r\n",
                "      ,E.FirstName\r\n",
                "      ,E.LastName\r\n",
                "      ,SQ.SalesAmountQuota\r\n",
                "FROM DimEmployee E \r\n",
                "    LEFT OUTER JOIN FactSalesQuota SQ \r\n",
                "WHERE E.EmployeeKey IN (271, 274, 275, 277, 282, 283)\r\n",
                "```\r\n",
                "\r\n",
                "The code ☝ formally establishes DimEmployee as the Left Table and FactSalesQuota as the Right Table.\r\n",
                "\r\n",
                "Please note that the code above is not legit. If you try and execute the code, it will fail.\r\n",
                "\r\n",
                "The reason for this is simple – I havent defined the matching logic for the JOIN.\r\n",
                "\r\n",
                "Remember how I had to have VLOOKUP match on ProductIDs?\r\n",
                "\r\n",
                "You need to do the same in SQL using the ON clause:"
            ],
            "metadata": {
                "azdata_cell_guid": "f6a0a956-6c99-4dc4-aaed-f5d2de57516b"
            }
        },
        {
            "cell_type": "markdown",
            "source": [
                ""
            ],
            "metadata": {
                "azdata_cell_guid": "237db06d-2b54-47df-95ff-afb8cc6a6e91"
            }
        },
        {
            "cell_type": "code",
            "source": [
                "SELECT E.EmployeeKey\r\n",
                "      ,E.FirstName\r\n",
                "      ,E.LastName\r\n",
                "      ,SQ.SalesAmountQuota\r\n",
                "FROM DimEmployee E \r\n",
                "    LEFT OUTER JOIN FactSalesQuota SQ ON (E.EmployeeKey = SQ.EmployeeKey)\r\n",
                "WHERE E.EmployeeKey IN (271, 274, 275, 277, 282, 283)"
            ],
            "metadata": {
                "azdata_cell_guid": "b2885a23-2f4c-4d6e-9284-68b533f2527f"
            },
            "outputs": [],
            "execution_count": null
        },
        {
            "cell_type": "markdown",
            "source": [
                "The query ☝ can be thought of as logically excuting as follows:\r\n",
                "\r\n",
                "1. Create a virtual table of all rows of DimEmployee…\r\n",
                "1. LEFT OUTER JOIN FactSalesQuota by matching EmployeeKey values…\r\n",
                "1. Create a new, combined virtual table from 1 & 2…\r\n",
                "1. Keep only the rows WHERE EmployeeKey is IN the defined list…\r\n",
                "1. SELECT the EmployeeKey, FirstName, LastName, and SalesAmountQuota columns\r\n",
                "\r\n",
                "As with Excel’s VLOOKUP, you are not assured a match with LEFT OUTER JOIN.\r\n",
                "\r\n",
                "In the output ☝, we see employees that do not have sales quotas have NULLs in the SalesAmountQuota column.\r\n",
                "\r\n",
                "Again, in SQL the NULL denotes an absence of data.\r\n",
                "\r\n",
                "Also, note that unlike VLOOKUP, SQL LEFT OUTER JOINs match every duplicate value in the Right Table and return multiple rows in the final virtual table.\r\n",
                "\r\n",
                "Sweet!"
            ],
            "metadata": {
                "azdata_cell_guid": "f0f04f33-8bfc-4f70-b359-abdf488c5fd2"
            }
        },
        {
            "cell_type": "markdown",
            "source": [
                "## Beware the NULLs of SQL\r\n",
                "\r\n",
                "When working with SQL, NULLs add an additional level of complexity that you must deal with.\r\n",
                "\r\n",
                "The good news is that I will be gradually introducing NULL nuances throughout the series.\r\n",
                "\r\n",
                "For this post I want to start simple – filtering based on NULL.\r\n",
                "\r\n",
                "As I described previously, SQL processes WHERE after FROM and all JOINs.\r\n",
                "\r\n",
                "This means we can filter on NULL values if we would like.\r\n",
                "\r\n",
                "Let’s say I’m intersted in only the subset of employees that do not have a sales quota.\r\n",
                "\r\n",
                "That is, where the SalesAmountQuota IS NULL."
            ],
            "metadata": {
                "azdata_cell_guid": "124109bc-42be-4804-beea-7fd0d318eecb"
            }
        },
        {
            "cell_type": "code",
            "source": [
                "SELECT E.EmployeeKey\r\n",
                "      ,E.FirstName\r\n",
                "      ,E.LastName\r\n",
                "      ,SQ.SalesAmountQuota\r\n",
                "FROM DimEmployee E \r\n",
                "    LEFT OUTER JOIN FactSalesQuota SQ ON (E.EmployeeKey = SQ.EmployeeKey)\r\n",
                "WHERE E.EmployeeKey IN (271, 274, 275, 277, 282, 283) AND\r\n",
                "      SQ.SalesAmountQuota IS NULL\r\n",
                ""
            ],
            "metadata": {
                "azdata_cell_guid": "b16fb433-035c-414e-b3b3-4fd78434621d"
            },
            "outputs": [],
            "execution_count": null
        },
        {
            "cell_type": "markdown",
            "source": [
                "I can’t stress this enough.\r\n",
                "\r\n",
                "When you want to filter when values are NULL, you have to use IS NULL!\r\n",
                "\r\n",
                "You’ve been warned. 😁\r\n",
                "\r\n",
                "Not surprisingly, if you want to filter in the opposite you add NOT:"
            ],
            "metadata": {
                "azdata_cell_guid": "64fa6571-6ba9-43ea-9b71-7282d83ddbd4"
            }
        },
        {
            "cell_type": "code",
            "source": [
                "SELECT E.EmployeeKey\r\n",
                "      ,E.FirstName\r\n",
                "      ,E.LastName\r\n",
                "      ,SQ.SalesAmountQuota\r\n",
                "FROM DimEmployee E \r\n",
                "    LEFT OUTER JOIN FactSalesQuota SQ ON (E.EmployeeKey = SQ.EmployeeKey)\r\n",
                "WHERE E.EmployeeKey IN (271, 274, 275, 277, 282, 283) AND\r\n",
                "      SQ.SalesAmountQuota IS NOT NULL"
            ],
            "metadata": {
                "azdata_cell_guid": "461db744-3fe7-48ca-88e3-839dcafa9c99"
            },
            "outputs": [],
            "execution_count": null
        },
        {
            "cell_type": "markdown",
            "source": [
                "There you have it.\r\n",
                "\r\n",
                "The basics of the mighty LEFT OUTER JOIN, including filtering on NULLs.\r\n",
                "\r\n",
                "Now, go forth and craft SQL goodnes!"
            ],
            "metadata": {
                "azdata_cell_guid": "bd6619f5-786a-41dd-b08d-a5ff49639e2e"
            }
        },
        {
            "cell_type": "markdown",
            "source": [
                "## The Learning Arc\r\n",
                "\r\n",
                "Given the central nature in SQL, posts about JOINs will cotinue for a bit.\r\n",
                "\r\n",
                "Next up is coverage of INNER JOINs.\r\n",
                "\r\n",
                "Stay healthy and happy data sleuthing!"
            ],
            "metadata": {
                "azdata_cell_guid": "ad9570e6-f0d4-40e8-ad5b-fa267dbb485d"
            }
        }
    ]
}