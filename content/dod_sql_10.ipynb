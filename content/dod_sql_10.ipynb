{
    "metadata": {
        "kernelspec": {
            "name": "SQL",
            "display_name": "SQL",
            "language": "sql"
        },
        "language_info": {
            "name": "sql",
            "version": ""
        }
    },
    "nbformat_minor": 2,
    "nbformat": 4,
    "cells": [
        {
            "cell_type": "markdown",
            "source": [
                "# Introduction to SQL for Excel Users – Part 10: Basic CTEs\r\n",
                "\r\n",
                "[Original post](https://www.daveondata.com/blog/introduction-to-sql-for-excel-users-part-10-basic-ctes/)"
            ],
            "metadata": {
                "azdata_cell_guid": "3ebf85c8-9fd6-4329-92d5-722ec66a2820"
            }
        },
        {
            "cell_type": "markdown",
            "source": [
                "## The Problem\r\n",
                "\r\n",
                "In the last post I introduced the mighty ROW_NUMBER SQL window function.\r\n",
                "\r\n",
                "Here’s one of the queries from that post:"
            ],
            "metadata": {
                "azdata_cell_guid": "43070c96-5b21-4746-a2fc-56c4020e1279"
            }
        },
        {
            "cell_type": "code",
            "source": [
                "SELECT FCC.FactCallCenterID\r\n",
                "      ,FCC.DateKey\r\n",
                "      ,FCC.WageType\r\n",
                "      ,FCC.Shift\r\n",
                "      ,FCC.Calls\r\n",
                "      ,ROW_NUMBER() OVER (PARTITION BY FCC.DateKey ORDER BY FCC.Calls DESC) AS RowNum\r\n",
                "FROM FactCallCenter FCC\r\n",
                "ORDER BY FCC.DateKey ASC"
            ],
            "metadata": {
                "azdata_cell_guid": "a0cc6384-7d9c-4564-b658-7f83d82b839c"
            },
            "outputs": [],
            "execution_count": null
        },
        {
            "cell_type": "markdown",
            "source": [
                "In the last post, the above data was seeking to answer the question, “which Shift was busiest in terms of the highest number of Calls?”\r\n",
                "\r\n",
                "As the highlight ☝ illustrates, the returned data that really answers the question is where RowNum = 1.\r\n",
                "\r\n",
                "There’s a bunch of extraneous data returned.\r\n",
                "\r\n",
                "It’s very tempting to alter the query with a WHERE clause to filter down to just the rows I want:"
            ],
            "metadata": {
                "azdata_cell_guid": "42e90c85-e48a-4093-8abe-8ac40a4d6324"
            }
        },
        {
            "cell_type": "code",
            "source": [
                "SELECT FCC.FactCallCenterID\r\n",
                "      ,FCC.DateKey\r\n",
                "      ,FCC.WageType\r\n",
                "      ,FCC.Shift\r\n",
                "      ,FCC.Calls\r\n",
                "      ,ROW_NUMBER() OVER (PARTITION BY FCC.DateKey ORDER BY FCC.Calls DESC) AS RowNum\r\n",
                "FROM FactCallCenter FCC\r\n",
                "WHERE RowNum = 1\r\n",
                "ORDER BY FCC.DateKey ASC"
            ],
            "metadata": {
                "azdata_cell_guid": "edcc3b5a-e83d-4403-8306-31dc964bd4c9"
            },
            "outputs": [],
            "execution_count": null
        },
        {
            "cell_type": "markdown",
            "source": [
                "The problem stems from the logical order of query processing.\r\n",
                "\r\n",
                "Given where this series is at right now, the following lays out the logical order of query processing:\r\n",
                "\r\n",
                "1. Pull data using FROM\r\n",
                "1. If present, filter data using WHERE\r\n",
                "1. If present, group data using GROUP BY\r\n",
                "1. SELECT data, including any engineered features and/or aggregate/window functions\r\n",
                "1. If present, sort the data using ORDER BY\r\n",
                "\r\n",
                "Now the error message makes sense.\r\n",
                "\r\n",
                "The creation of RowNum happens after the WHERE!\r\n",
                "\r\n",
                "So what I need is a way to work with RowNum after the whole query is executed. 🤔\r\n",
                "\r\n",
                "As I cover in a previous post, SELECTs produce virtual tables.\r\n",
                "\r\n",
                "Turns out my SQL code spends a lot of time working with virtual tables, so I’m going to review the concept again."
            ],
            "metadata": {
                "azdata_cell_guid": "b10a3716-1502-4826-a48b-d13c7e423578"
            }
        },
        {
            "cell_type": "markdown",
            "source": [
                "## Virtual Tables in Excel\r\n",
                "\r\n",
                "Per the process of this series, I will use Excel to explore the concept of SQL virtual tables.\r\n",
                "\r\n",
                "The simplest way to think of a virtual table is that it is a copy of the “actual” table.\r\n",
                "\r\n",
                "We can easily simulate this by making a copy of the CallCenter worksheet in Excel:\r\n",
                "\r\n",
                "![excel copy](10\\excelcopy.png)\r\n",
                "\r\n",
                "Excel is smart enough to know that the copy is not the “actual” table, so it changes the table name:\r\n",
                "\r\n",
                "![copy table](10\\copytablename.png)\r\n",
                "\r\n",
                "Now I can do whatever I want to the CallCenter3 table, knowing that the “actual” table (i.e., CallCenter) will not be changed by anything that I do.\r\n",
                "\r\n",
                "While this Excel example is contrived, you will quickly find that virtual tables are a very powerful and useful idea!"
            ],
            "metadata": {
                "azdata_cell_guid": "b42d588e-6131-42a2-842c-d57d99de0777"
            }
        },
        {
            "cell_type": "markdown",
            "source": [
                "## Virtual Tables in SQL\r\n",
                "\r\n",
                "SQL is chock full of virtual tables.\r\n",
                "\r\n",
                "Here’s the thing. Unlike Excel, SQL virtual tables are unnamed by default.\r\n",
                "\r\n",
                "Most of the time this isn’t a problem, you’ll work with unnamed virtual tables in your SQL code with nary a second thought (e.g., when you use JOINs – preview of coming attractions 😁).\r\n",
                "\r\n",
                "However, there are times when being able to give a name to a virtual table so you can work with it directly is very handy.\r\n",
                "\r\n",
                "Enter what are know as SQL common table expressions. Commonly called CTEs (pun intended! 🤣).\r\n",
                "\r\n",
                "SQL CTEs allow you to define queries and give the virtual tables resulting from the queries a name.\r\n",
                "\r\n",
                "This allows you to work with virtual tables explicitly in your SQL code.\r\n",
                "\r\n",
                "Righteous!\r\n",
                "\r\n",
                "Here’s a conceptual template of how you code up CTEs:\r\n",
                "\r\n",
                "```\r\n",
                "WITH <CTE name /> AS\r\n",
                "(\r\n",
                "     <CTE query here />\r\n",
                ")\r\n",
                "SELECT <CTE columns />\r\n",
                "FROM <CTE name />;\r\n",
                "```\r\n",
                "\r\n",
                "Note the ; at the end of the code. Think of this as telling the DB, “Hey! That’s the whole query.”\r\n",
                "\r\n",
                "I’m going to introduce some terminology that will be used a ton in this series:\r\n",
                "\r\n",
                "- Inner query\r\n",
                "- Outer query\r\n",
                "\r\n",
                "Using the above conceptual template, I can think of the query inside the WITH as the inner query.\r\n",
                "\r\n",
                "I can also think of the query outside the WITH as the outer query (slick, huh?).\r\n",
                "\r\n",
                "Both the inner and outer queries can be as complicated (or simple) as I would like.\r\n",
                "\r\n",
                "Time to see a CTE in action."
            ],
            "metadata": {
                "azdata_cell_guid": "431d1535-5dbe-4915-8466-01434ef8eed4"
            }
        },
        {
            "cell_type": "markdown",
            "source": [
                "## CTEs Were Made for ROW_NUMBER\r\n",
                "\r\n",
                "As you will see, CTEs are a perfect complement to SQL window functions like the mighty ROW_NUMBER!\r\n",
                "\r\n",
                "The SQL code"
            ],
            "metadata": {
                "azdata_cell_guid": "90461246-23fc-4d52-ade5-970b96fd74e8"
            }
        },
        {
            "cell_type": "code",
            "source": [
                "WITH DailyShiftsByCalls AS\r\n",
                "(\r\n",
                "    SELECT FCC.FactCallCenterID\r\n",
                "          ,FCC.DateKey\r\n",
                "          ,FCC.WageType\r\n",
                "          ,FCC.Shift\r\n",
                "          ,FCC.Calls\r\n",
                "          ,ROW_NUMBER() OVER (PARTITION BY FCC.DateKey ORDER BY FCC.Calls DESC) AS RowNum\r\n",
                "    FROM FactCallCenter FCC\r\n",
                ")\r\n",
                "SELECT DSBC.FactCallCenterID\r\n",
                "      ,DSBC.DateKey\r\n",
                "      ,DSBC.WageType\r\n",
                "      ,DSBC.Shift\r\n",
                "      ,DSBC.Calls\r\n",
                "FROM DailyShiftsByCalls DSBC\r\n",
                "WHERE DSBC.RowNum = 1\r\n",
                "ORDER BY DSBC.DateKey"
            ],
            "metadata": {
                "azdata_cell_guid": "839a73ce-987d-4d5f-97d3-1acf40f520de"
            },
            "outputs": [],
            "execution_count": null
        },
        {
            "cell_type": "markdown",
            "source": [
                "Taking a look at the code ☝ some thing are worthy of noting:\r\n",
                "\r\n",
                "- You can’t use ORDER BY inside CTEs, so I took it out of the inner query\r\n",
                "- The outer query uses the CTE name in the FROM\r\n",
                "- The outer query uses WHERE to do the filtering\r\n",
                "- The outer query is the place for ORDER BY\r\n",
                "\r\n",
                "Excellent!\r\n",
                "\r\n",
                "The combination of CTEs and ROW_NUMBER will be a recurring pattern in your SQL queries.\r\n",
                "\r\n",
                "It is very common for data in a DB to have logical sub-groupings where you want to ask specific questions about the sub-groupings (aka windows). Things like:\r\n",
                "\r\n",
                "- What is the largest value of X for each window?\r\n",
                "- What was the oldest value of X for each window?\r\n",
                "- What was the smallest value of X for each window?\r\n",
                "- What was the newest value of X for each window?\r\n",
                "\r\n",
                "Wildly useful stuff!"
            ],
            "metadata": {
                "azdata_cell_guid": "cdbbe09a-01bd-46d6-b191-28bb8a51439b"
            }
        },
        {
            "cell_type": "markdown",
            "source": [
                "## The Learning Arc\r\n",
                "\r\n",
                "In the next post I will revisit SQL window functions, including a RFM-like analysis.\r\n",
                "\r\n",
                "It’s gonna be sweet!\r\n",
                "\r\n",
                "Stay healthy and happy data sleuthing!"
            ],
            "metadata": {
                "azdata_cell_guid": "16ba449b-f72a-4977-877f-bcf55a819f28"
            }
        }
    ]
}