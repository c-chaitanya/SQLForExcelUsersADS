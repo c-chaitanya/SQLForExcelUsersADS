{
    "metadata": {
        "kernelspec": {
            "name": "SQL",
            "display_name": "SQL",
            "language": "sql"
        },
        "language_info": {
            "name": "sql",
            "version": ""
        }
    },
    "nbformat_minor": 2,
    "nbformat": 4,
    "cells": [
        {
            "cell_type": "markdown",
            "source": [
                "# Introduction to SQL for Excel Users – Part 21: Correlated Subqueries\r\n",
                "\r\n",
                "[Original post](https://www.daveondata.com/blog/introduction-to-sql-for-excel-users-part-21-correlated-subqueries/)"
            ],
            "metadata": {
                "azdata_cell_guid": "51d913da-4390-4603-baa8-b39fc27e7183"
            }
        },
        {
            "cell_type": "markdown",
            "source": [
                "## The Scenario\r\n",
                "\r\n",
                "NOTE – This post contains no Excel content as the topic is “self-contained” to SQL.\r\n",
                "\r\n",
                "For this post the hypothetical scenario is that the AdventureWorks sales manager would like to see the largest sale ever made for each of the AdventureWorks sales reps.\r\n",
                "\r\n",
                "OK, you’re prolly thinking, “Easy peasy, Dave! I can just use the mighty ROW_NUMBER for this.”\r\n",
                "\r\n",
                "Yep, that’s true.\r\n",
                "\r\n",
                "So I’m going to make it more interesting.\r\n",
                "\r\n",
                "Not only does the sales manager want to know the largest sale of each sales rep, but also what percentage of the rep’s total lifetime sales does the largest sale represent.\r\n",
                "\r\n",
                "For exaple, if sales rep John Doe’s largest sale ever was $100,000 and John Doe’s total lifetime sales are $1,000,000, the largest sale represents 10% of John’s total lifetime sales.\r\n",
                "\r\n",
                "Pretty cool, eh? 😁\r\n",
                "\r\n",
                "NOTE – For this post I’m going to ignore years of service of the sales reps (e.g., a rep with 10 years on the job is going to have high lifetime totals sales)."
            ],
            "metadata": {
                "azdata_cell_guid": "309bf76d-8e0f-42c3-b534-08c679cd64b4"
            }
        },
        {
            "cell_type": "markdown",
            "source": [
                "## Query Prototype\r\n",
                "\r\n",
                "When crafting a non-trivial SQL query it is often helpful to prototype the query in stages.\r\n",
                "\r\n",
                "First up, I need to get all the sales orders for the AdventureWorks sales reps:"
            ],
            "metadata": {
                "azdata_cell_guid": "d0f2756f-ca44-47f9-b34d-c99c3f3d1300"
            }
        },
        {
            "cell_type": "code",
            "source": [
                "SELECT CONCAT(E.LastName, ', ', E.FirstName) AS SalesRep \r\n",
                "    ,E.HireDate\r\n",
                "    ,FRS.SalesOrderNumber\r\n",
                "    ,CAST(FRS.OrderDate AS Date) AS OrderDate\r\n",
                "    ,SUM(FRS.SalesAmount) AS SalesAmount\r\n",
                "FROM FactResellerSales FRS \r\n",
                "    INNER JOIN DimEmployee E ON (FRS.EmployeeKey = E.EmployeeKey)\r\n",
                "GROUP BY E.FirstName, E.LastName, E.HireDate, FRS.SalesOrderNumber, FRS.OrderDate"
            ],
            "metadata": {
                "azdata_cell_guid": "5c0b959c-b12c-4267-bc02-7a811d927098"
            },
            "outputs": [],
            "execution_count": null
        },
        {
            "cell_type": "markdown",
            "source": [
                "If I run the SQL ☝ in SQL Server Management Studio (SSMS), the results ☝ illustrate there are:\r\n",
                "\r\n",
                "- Many sales reps\r\n",
                "- Many sales orders per sales rep\r\n",
                "\r\n",
                "Given this situation with the data, the simplest prototype is to write the SQL for a single, hard-coded sales rep.\r\n",
                "\r\n",
                "I will choose Alberts, Amy as the hard-coded sales rep.\r\n",
                "\r\n",
                "I can wrap the SQL ☝ as a CTE and then perform the needed calcs:\r\n",
                "\r\n",
                ""
            ],
            "metadata": {
                "azdata_cell_guid": "64006278-5d3a-48cd-9aa8-caf9bde3e660"
            }
        },
        {
            "cell_type": "code",
            "source": [
                "WITH SalesRepData AS\r\n",
                "(\r\n",
                "    SELECT CONCAT(E.LastName, ', ', E.FirstName) AS SalesRep \r\n",
                "        ,E.HireDate\r\n",
                "        ,FRS.SalesOrderNumber\r\n",
                "        ,CAST(FRS.OrderDate AS Date) AS OrderDate\r\n",
                "        ,SUM(FRS.SalesAmount) AS SalesAmount\r\n",
                "    FROM FactResellerSales FRS \r\n",
                "        INNER JOIN DimEmployee E ON (FRS.EmployeeKey = E.EmployeeKey)\r\n",
                "    GROUP BY E.FirstName, E.LastName, E.HireDate, FRS.SalesOrderNumber, FRS.OrderDate\r\n",
                ")\r\n",
                "SELECT SRD.SalesRep\r\n",
                "      ,MAX(SRD.SalesAmount) AS LargestSalesAmount\r\n",
                "      ,SUM(SRD.SalesAmount) AS TotalLifetimeSales\r\n",
                "      ,MAX(SRD.SalesAmount) / SUM(SRD.SalesAmount) AS LargestPctOfTotal\r\n",
                "FROM SalesRepData SRD\r\n",
                "WHERE SRD.SalesRep = 'Alberts, Amy'\r\n",
                "GROUP BY SRD.SalesRep;"
            ],
            "metadata": {
                "azdata_cell_guid": "766f5516-1ceb-41ca-a374-e93cd7c54462"
            },
            "outputs": [],
            "execution_count": null
        },
        {
            "cell_type": "markdown",
            "source": [
                "wesome!\r\n",
                "\r\n",
                "It would be easy (although a bit tedious) to add more sales reps to the SQL code.\r\n",
                "\r\n",
                "For example:"
            ],
            "metadata": {
                "azdata_cell_guid": "6411385e-9b47-4c13-99ac-c0838ea06589"
            }
        },
        {
            "cell_type": "code",
            "source": [
                "WITH SalesRepData AS\r\n",
                "(\r\n",
                "    SELECT CONCAT(E.LastName, ', ', E.FirstName) AS SalesRep \r\n",
                "        ,E.HireDate\r\n",
                "        ,FRS.SalesOrderNumber\r\n",
                "        ,CAST(FRS.OrderDate AS Date) AS OrderDate\r\n",
                "        ,SUM(FRS.SalesAmount) AS SalesAmount\r\n",
                "    FROM FactResellerSales FRS \r\n",
                "        INNER JOIN DimEmployee E ON (FRS.EmployeeKey = E.EmployeeKey)\r\n",
                "    GROUP BY E.FirstName, E.LastName, E.HireDate, FRS.SalesOrderNumber, FRS.OrderDate\r\n",
                ")\r\n",
                "SELECT SRD.SalesRep\r\n",
                "      ,MAX(SRD.SalesAmount) AS LargestSalesAmount\r\n",
                "      ,SUM(SRD.SalesAmount) AS TotalLifetimeSales\r\n",
                "      ,MAX(SRD.SalesAmount) / SUM(SRD.SalesAmount) AS LargestPctOfTotal\r\n",
                "FROM SalesRepData SRD\r\n",
                "WHERE SRD.SalesRep IN ('Alberts, Amy', 'Campbell, David', 'Vargas, Garrett')\r\n",
                "GROUP BY SRD.SalesRep;"
            ],
            "metadata": {
                "azdata_cell_guid": "6ca485f2-f582-4a02-becf-e05becde0b85"
            },
            "outputs": [],
            "execution_count": null
        },
        {
            "cell_type": "markdown",
            "source": [
                "Of course, this strategy of just adding more and more sales reps to the IN clause isn’t scalable.\r\n",
                "\r\n",
                "What I want is the ability for the outer query to automatically be executed once for each sales rep.\r\n",
                "\r\n",
                "Enter correlated subqueries.\r\n",
                "\r\n",
                "NOTE – This is a contrived example. This scenario can be implemented in SQL a number of ways. I’m using correlated subqueries for teaching purposes. 👨‍🏫"
            ],
            "metadata": {
                "azdata_cell_guid": "bbddc5c8-7f2c-4544-ad8c-7f77424b6bd6"
            }
        },
        {
            "cell_type": "markdown",
            "source": [
                "## Correlated Subqueries\r\n",
                "\r\n",
                "SQL supports writing subqueries in such a way where the innner query takes a dependency on the outer query.\r\n",
                "\r\n",
                "Conceptually, this dependency means that the inner query is executed once for each row of the outer query.\r\n",
                "\r\n",
                "As usual, some SQL code makes this more clear.\r\n",
                "\r\n",
                "First, I will modify the query with a CTE to pull DISTINCT sales rep names:"
            ],
            "metadata": {
                "azdata_cell_guid": "fbb07326-6d24-4ab0-9ea8-046f13d0a486"
            }
        },
        {
            "cell_type": "code",
            "source": [
                "WITH SalesRepData AS\r\n",
                "(\r\n",
                "    SELECT CONCAT(E.LastName, ', ', E.FirstName) AS SalesRep \r\n",
                "        ,E.HireDate\r\n",
                "        ,FRS.SalesOrderNumber\r\n",
                "        ,CAST(FRS.OrderDate AS Date) AS OrderDate\r\n",
                "        ,SUM(FRS.SalesAmount) AS SalesAmount\r\n",
                "    FROM FactResellerSales FRS \r\n",
                "        INNER JOIN DimEmployee E ON (FRS.EmployeeKey = E.EmployeeKey)\r\n",
                "    GROUP BY E.FirstName, E.LastName, E.HireDate, FRS.SalesOrderNumber, FRS.OrderDate\r\n",
                "),\r\n",
                "DistinctSalesRep AS\r\n",
                "(\r\n",
                "    SELECT DISTINCT SRD.SalesRep\r\n",
                "    FROM SalesRepData SRD\r\n",
                ")\r\n",
                "SELECT DSR.SalesRep\r\n",
                "FROM DistinctSalesRep DSR\r\n",
                "ORDER BY DSR.SalesRep;"
            ],
            "metadata": {
                "azdata_cell_guid": "67c54f59-e689-472d-a9aa-eb623aac3b28"
            },
            "outputs": [],
            "execution_count": null
        },
        {
            "cell_type": "markdown",
            "source": [
                "Sweet!\r\n",
                "\r\n",
                "As you prolly surmised, using DISTINCT in your SQL produces only unique values.\r\n",
                "\r\n",
                "In this case, the unique sales rep names.\r\n",
                "\r\n",
                "Now that I have an outer query of DISTINCT sales rep names, I can use a correlated subquery to retrieve data for each sales rep name:"
            ],
            "metadata": {
                "azdata_cell_guid": "4e7a5c00-8175-4a14-95dc-0dc850916173"
            }
        },
        {
            "cell_type": "code",
            "source": [
                "WITH SalesRepData AS\r\n",
                "(\r\n",
                "    SELECT CONCAT(E.LastName, ', ', E.FirstName) AS SalesRep \r\n",
                "        ,E.HireDate\r\n",
                "        ,FRS.SalesOrderNumber\r\n",
                "        ,CAST(FRS.OrderDate AS Date) AS OrderDate\r\n",
                "        ,SUM(FRS.SalesAmount) AS SalesAmount\r\n",
                "    FROM FactResellerSales FRS \r\n",
                "        INNER JOIN DimEmployee E ON (FRS.EmployeeKey = E.EmployeeKey)\r\n",
                "    GROUP BY E.FirstName, E.LastName, E.HireDate, FRS.SalesOrderNumber, FRS.OrderDate\r\n",
                "),\r\n",
                "DistinctSalesRep AS\r\n",
                "(\r\n",
                "    SELECT DISTINCT SRD.SalesRep\r\n",
                "    FROM SalesRepData SRD\r\n",
                ")\r\n",
                "SELECT DSR.SalesRep\r\n",
                "      ,(SELECT MAX(SRD.SalesAmount)\r\n",
                "        FROM SalesRepData SRD\r\n",
                "        WHERE SRD.SalesRep = DSR.SalesRep\r\n",
                "        GROUP BY SRD.SalesRep) AS LargestSalesAmount\r\n",
                "FROM DistinctSalesRep DSR\r\n",
                "ORDER BY DSR.SalesRep;"
            ],
            "metadata": {
                "azdata_cell_guid": "e010d217-b1d0-4c5e-8362-da5b190e43cf"
            },
            "outputs": [],
            "execution_count": null
        },
        {
            "cell_type": "markdown",
            "source": [
                "The secret sauce in the SQL ☝ is two-fold:\r\n",
                "\r\n",
                "1. The subquery in the SELECT list.\r\n",
                "1. The WHERE condition of SRD.SalesRep = DSR.SalesRep.\r\n",
                "\r\n",
                "Regarding #1, you can place a subquery in the SELECT list if produces a virtual table of a single column.\r\n",
                "\r\n",
                "Regarding #2, the row-by-row behavior of correlated subqueries now makes sense.\r\n",
                "\r\n",
                "Due to the WHERE, the inner query (aliased as SRD) can only return results based on the rows of the outer query (aliased as DSR)\r\n",
                "\r\n",
                "I can now add the remaining correlated subqueries to fulfill the scenario"
            ],
            "metadata": {
                "azdata_cell_guid": "3e82ee76-2dbe-406c-ac4e-fe6c0e8b560a"
            }
        },
        {
            "cell_type": "code",
            "source": [
                "WITH SalesRepData AS\r\n",
                "(\r\n",
                "    SELECT CONCAT(E.LastName, ', ', E.FirstName) AS SalesRep \r\n",
                "        ,E.HireDate\r\n",
                "        ,FRS.SalesOrderNumber\r\n",
                "        ,CAST(FRS.OrderDate AS Date) AS OrderDate\r\n",
                "        ,SUM(FRS.SalesAmount) AS SalesAmount\r\n",
                "    FROM FactResellerSales FRS \r\n",
                "        INNER JOIN DimEmployee E ON (FRS.EmployeeKey = E.EmployeeKey)\r\n",
                "    GROUP BY E.FirstName, E.LastName, E.HireDate, FRS.SalesOrderNumber, FRS.OrderDate\r\n",
                "),\r\n",
                "DistinctSalesRep AS\r\n",
                "(\r\n",
                "    SELECT DISTINCT SRD.SalesRep\r\n",
                "    FROM SalesRepData SRD\r\n",
                ")\r\n",
                "SELECT DSR.SalesRep\r\n",
                "      ,(SELECT MAX(SRD.SalesAmount)\r\n",
                "        FROM SalesRepData SRD\r\n",
                "        WHERE SRD.SalesRep = DSR.SalesRep\r\n",
                "        GROUP BY SRD.SalesRep) AS LargestSalesAmount\r\n",
                "      ,(SELECT SUM(SRD.SalesAmount)\r\n",
                "        FROM SalesRepData SRD\r\n",
                "        WHERE SRD.SalesRep = DSR.SalesRep\r\n",
                "        GROUP BY SRD.SalesRep) AS TotalLifetimeSales\r\n",
                "      ,(SELECT MAX(SRD.SalesAmount) / SUM(SRD.SalesAmount)\r\n",
                "        FROM SalesRepData SRD\r\n",
                "        WHERE SRD.SalesRep = DSR.SalesRep\r\n",
                "        GROUP BY SRD.SalesRep) AS LargestPctOfTotal\r\n",
                "FROM DistinctSalesRep DSR\r\n",
                "ORDER BY DSR.SalesRep;"
            ],
            "metadata": {
                "azdata_cell_guid": "1a844ef6-c3b7-4fd3-b575-2a0699e0bbee"
            },
            "outputs": [],
            "execution_count": null
        },
        {
            "cell_type": "markdown",
            "source": [
                "Voila!\r\n",
                "\r\n",
                "The above produces the results needed for the scenario, but there’s a problem.\r\n",
                "\r\n",
                "Correlated subqueries are ugly.\r\n",
                "\r\n",
                "Correlated subqueries are hard to debug and maintain.\r\n",
                "\r\n",
                "Guess what?\r\n",
                "\r\n",
                "CTEs to the rescue!"
            ],
            "metadata": {
                "azdata_cell_guid": "c1691030-b50a-4e67-86f2-5f5e832a63bd"
            }
        },
        {
            "cell_type": "markdown",
            "source": [
                "## CTEs Rule!\r\n",
                "\r\n",
                "There are times where correlated subqueries can be just the ticket in your SQL.\r\n",
                "\r\n",
                "Often, you can avoid the use of correlated subqueries using JOINs or CTEs.\r\n",
                "\r\n",
                "Here’s how I could implement the same results using CTEs.\r\n",
                "\r\n",
                "NOTE – The following SQL could be written a number of ways. I wrote it this way for teaching purposes. 😉"
            ],
            "metadata": {
                "azdata_cell_guid": "0c006796-53f3-42f1-8f9e-8acd5d900ac5"
            }
        },
        {
            "cell_type": "code",
            "source": [
                "WITH SalesRepData AS\r\n",
                "(\r\n",
                "    SELECT CONCAT(E.LastName, ', ', E.FirstName) AS SalesRep \r\n",
                "        ,E.HireDate\r\n",
                "        ,FRS.SalesOrderNumber\r\n",
                "        ,CAST(FRS.OrderDate AS Date) AS OrderDate\r\n",
                "        ,SUM(FRS.SalesAmount) AS SalesAmount\r\n",
                "    FROM FactResellerSales FRS \r\n",
                "        INNER JOIN DimEmployee E ON (FRS.EmployeeKey = E.EmployeeKey)\r\n",
                "    GROUP BY E.FirstName, E.LastName, E.HireDate, FRS.SalesOrderNumber, FRS.OrderDate\r\n",
                "),\r\n",
                "IndividualSalesRepData AS\r\n",
                "(\r\n",
                "    SELECT SRD.SalesRep\r\n",
                "          ,MAX(SRD.SalesAmount) AS LargestSalesAmount\r\n",
                "          ,SUM(SRD.SalesAmount) AS TotalLifetimeSales\r\n",
                "          ,MAX(SRD.SalesAmount) / SUM(SRD.SalesAmount) AS LargestPctOfTotal\r\n",
                "    FROM SalesRepData SRD\r\n",
                "    GROUP BY SRD.SalesRep\r\n",
                ")\r\n",
                "SELECT ISRD.SalesRep\r\n",
                "      ,ISRD.LargestSalesAmount\r\n",
                "      ,ISRD.TotalLifetimeSales\r\n",
                "      ,ISRD.LargestPctOfTotal\r\n",
                "FROM IndividualSalesRepData ISRD\r\n",
                "ORDER BY ISRD.SalesRep;"
            ],
            "metadata": {
                "azdata_cell_guid": "da380930-f67f-447f-9397-6caca65fd2cc"
            },
            "outputs": [],
            "execution_count": null
        },
        {
            "cell_type": "markdown",
            "source": [
                "We’ve seen the SSMS results multiple times, so I won’t repeat them.\r\n",
                "\r\n",
                "You can often uses CTEs to replace correlated subqueries not only in SELECT lists, but also in WHERE clauses.\r\n",
                "\r\n",
                "Yes, you can use correlated subqueries in WHERE clauses! 😲"
            ],
            "metadata": {
                "azdata_cell_guid": "ba3593c5-090b-447e-b17d-16667157fe1d"
            }
        },
        {
            "cell_type": "markdown",
            "source": [
                "## The Learning Arc\r\n",
                "\r\n",
                "The next post will continue coverage of correlated subqueries in WHERE clauses.\r\n",
                "\r\n",
                "Rememeber – use CTEs when you can instead of correlated subqueries. 😉\r\n",
                "\r\n",
                "Stay healthy and happy data sleuthing!"
            ],
            "metadata": {
                "azdata_cell_guid": "19a87b9b-b907-4eba-abfc-bcdb2dc7e5a6"
            }
        }
    ]
}