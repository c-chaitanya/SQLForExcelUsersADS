{
    "metadata": {
        "kernelspec": {
            "name": "SQL",
            "display_name": "SQL",
            "language": "sql"
        },
        "language_info": {
            "name": "sql",
            "version": ""
        }
    },
    "nbformat_minor": 2,
    "nbformat": 4,
    "cells": [
        {
            "cell_type": "markdown",
            "source": [
                "# Introduction to SQL for Excel Users – Part 14: More Dates\r\n",
                "\r\n",
                "[Original post](https://www.daveondata.com/blog/introduction-to-sql-for-excel-users-part-14-more-dates/)"
            ],
            "metadata": {
                "azdata_cell_guid": "b65ecc14-f5b1-469e-ad46-41d63783f8fc"
            }
        },
        {
            "cell_type": "markdown",
            "source": [
                "## RFM Analysis\r\n",
                "\r\n",
                "I cover RFM analysis more extensively in Part 11 of the series, I will summarize the work so far for convenience.\r\n",
                "\r\n",
                "RFM analysis is a simple, but wildly useful, technique from the world of direct marketing.\r\n",
                "\r\n",
                "RFM is primarily used as means of quantifying the value of customers along three vectors:\r\n",
                "\r\n",
                "- **R**ecency – How recently has a customer made a purchase?\r\n",
                "- **F**requency – How often does a customer make a purchase?\r\n",
                "- **M**onetary – How much does a customer spend on purchases?\r\n",
                "\r\n",
                "The analysis consists of ranking each customers **R**, **F**, and **M** with a score ranging from 1 to 10 – where 10 is the best score.\r\n",
                "\r\n",
                "In the previous post I skipped Recency as I had not covered dates as of yet.\r\n",
                "\r\n",
                "The following query was the end result of the previous post that provided **F** and **M** scores via the NTILE window function:"
            ],
            "metadata": {
                "azdata_cell_guid": "31d5ed53-2900-4541-a260-a0b820a08cae"
            }
        },
        {
            "cell_type": "code",
            "source": [
                "WITH CustomerSalesOrders AS\r\n",
                "(\r\n",
                "    SELECT FIS.CustomerKey\r\n",
                "          ,FIS.SalesOrderNumber\r\n",
                "          ,SUM(SalesAmount) AS SalesAmount\r\n",
                "    FROM FactInternetSales FIS\r\n",
                "    GROUP BY FIS.CustomerKey, FIS.SalesOrderNumber\r\n",
                "),\r\n",
                "CustomerSalesOrderHistory AS\r\n",
                "(\r\n",
                "    SELECT CSO.CustomerKey\r\n",
                "          ,COUNT(*) AS SalesOrderCount\r\n",
                "          ,SUM(CSO.SalesAmount) AS SalesAmount\r\n",
                "    FROM CustomerSalesOrders CSO\r\n",
                "    GROUP BY CSO.CustomerKey\r\n",
                ")\r\n",
                "SELECT CSOH.CustomerKey\r\n",
                "      ,NTILE(10) OVER (ORDER BY CSOH.SalesOrderCount ASC) AS FrequencyScore\r\n",
                "      ,NTILE(10) OVER (ORDER BY CSOH.SalesAmount ASC) AS MonetaryScore\r\n",
                "FROM CustomerSalesOrderHistory CSOH\r\n",
                "ORDER BY CSOH.CustomerKey;"
            ],
            "metadata": {
                "azdata_cell_guid": "29d1d9eb-93a5-489d-84c0-57914536e61a"
            },
            "outputs": [],
            "execution_count": null
        },
        {
            "cell_type": "markdown",
            "source": [
                "## Adding Sales Order Dates\r\n",
                "\r\n",
                "To assign a Recency score to customers I need sales order dates.\r\n",
                "\r\n",
                "More specifically, I need the most recent sales order date for each customer.\r\n",
                "\r\n",
                "As discussed in Part 11, I need to account for two aspects of the data:\r\n",
                "\r\n",
                "Every sales order consists of multiple rows of data – one row for each sales order line\r\n",
                "There can be multiple sales orders per customer\r\n",
                "No worries!\r\n",
                "\r\n",
                "Nothing the MAX aggregate function can’t handle!\r\n",
                "\r\n",
                "First up, I need to change the CustomerSalesOrders CTE to return the most recent sales order (i.e., MAX) date for each sales order:"
            ],
            "metadata": {
                "azdata_cell_guid": "dbd83073-516c-470a-9573-79db7134450f"
            }
        },
        {
            "cell_type": "code",
            "source": [
                "WITH CustomerSalesOrders AS\r\n",
                "(\r\n",
                "    SELECT FIS.CustomerKey\r\n",
                "          ,FIS.SalesOrderNumber\r\n",
                "          ,SUM(SalesAmount) AS SalesAmount\r\n",
                "          ,MAX(OrderDate) AS OrderDate\r\n",
                "    FROM FactInternetSales FIS\r\n",
                "    GROUP BY FIS.CustomerKey, FIS.SalesOrderNumber\r\n",
                "),\r\n",
                "CustomerSalesOrderHistory AS\r\n",
                "(\r\n",
                "    SELECT CSO.CustomerKey\r\n",
                "          ,COUNT(*) AS SalesOrderCount\r\n",
                "          ,SUM(CSO.SalesAmount) AS SalesAmount\r\n",
                "    FROM CustomerSalesOrders CSO\r\n",
                "    GROUP BY CSO.CustomerKey\r\n",
                ")\r\n",
                "SELECT CSOH.CustomerKey\r\n",
                "      ,NTILE(10) OVER (ORDER BY CSOH.SalesOrderCount ASC) AS FrequencyScore\r\n",
                "      ,NTILE(10) OVER (ORDER BY CSOH.SalesAmount ASC) AS MonetaryScore\r\n",
                "FROM CustomerSalesOrderHistory CSOH\r\n",
                "ORDER BY CSOH.CustomerKey;"
            ],
            "metadata": {
                "azdata_cell_guid": "44d0e11a-e871-4ac6-b428-dbdff8f5ac80"
            },
            "outputs": [],
            "execution_count": null
        },
        {
            "cell_type": "markdown",
            "source": [
                "By using MAX I’ve made sure that every sales order has the single, most recent order date.\r\n",
                "\r\n",
                "Moving on, I need to modify the CustomerSalesOrderHistory CTE to have the most recent order date for each customer.\r\n",
                "\r\n",
                "Once again, MAX to the rescue:"
            ],
            "metadata": {
                "azdata_cell_guid": "782dc1b2-7fd1-4120-8325-3b9131b910de"
            }
        },
        {
            "cell_type": "code",
            "source": [
                "WITH CustomerSalesOrders AS\r\n",
                "(\r\n",
                "    SELECT FIS.CustomerKey\r\n",
                "          ,FIS.SalesOrderNumber\r\n",
                "          ,SUM(SalesAmount) AS SalesAmount\r\n",
                "          ,MAX(OrderDate) AS OrderDate\r\n",
                "    FROM FactInternetSales FIS\r\n",
                "    GROUP BY FIS.CustomerKey, FIS.SalesOrderNumber\r\n",
                "),\r\n",
                "CustomerSalesOrderHistory AS\r\n",
                "(\r\n",
                "    SELECT CSO.CustomerKey\r\n",
                "          ,COUNT(*) AS SalesOrderCount\r\n",
                "          ,SUM(CSO.SalesAmount) AS SalesAmount\r\n",
                "          ,MAX(CSO.OrderDate) AS MostRecentOrderDate\r\n",
                "    FROM CustomerSalesOrders CSO\r\n",
                "    GROUP BY CSO.CustomerKey\r\n",
                ")\r\n",
                "SELECT CSOH.CustomerKey\r\n",
                "      ,NTILE(10) OVER (ORDER BY CSOH.SalesOrderCount ASC) AS FrequencyScore\r\n",
                "      ,NTILE(10) OVER (ORDER BY CSOH.SalesAmount ASC) AS MonetaryScore\r\n",
                "FROM CustomerSalesOrderHistory CSOH\r\n",
                "ORDER BY CSOH.CustomerKey;"
            ],
            "metadata": {
                "azdata_cell_guid": "1c3d6a36-341a-4fa7-b39b-c4f1fe90ddb4"
            },
            "outputs": [],
            "execution_count": null
        },
        {
            "cell_type": "markdown",
            "source": [
                "With MostRecentOrderDate added to CustomerSalesOrderHistory I’ve got all the raw materials I need to calculate Recency."
            ],
            "metadata": {
                "azdata_cell_guid": "657b7937-fa50-4043-8f0f-72588a8edb30"
            }
        },
        {
            "cell_type": "markdown",
            "source": [
                "## Date Differences T-SQL\r\n",
                "\r\n",
                "It shouldn’t surprise you to know that SQL Server has a number of date and time functions.\r\n",
                "\r\n",
                "As with Excel, one of the most useful T-SQL date functions is the mighty DATEDIFF.\r\n",
                "\r\n",
                "Conceptually, T-SQL’s DATEDIFF works just like Excel’s DATEDIF, but the parameters are in a different order:\r\n",
                "\r\n",
                "```\r\n",
                "DATEDIFF(<timescale>, <start date>, <end date>)\r\n",
                "```"
            ],
            "metadata": {
                "azdata_cell_guid": "f5f9da9e-ba53-4e78-97a6-3d66ede3f43b"
            }
        },
        {
            "cell_type": "code",
            "source": [
                "SELECT DATEDIFF(DAY,'2018-01-01 00:00:00', '2020-01-01 00:00:00') AS DiffInDays\r\n",
                "      ,DATEDIFF(MONTH,'2018-01-01 00:00:00', '2020-01-01 00:00:00') AS DiffInMonths\r\n",
                "      ,DATEDIFF(YEAR,'2018-01-01 00:00:00', '2020-01-01 00:00:00') AS DiffInYears\r\n",
                "      "
            ],
            "metadata": {
                "azdata_cell_guid": "bd9239e7-8253-4bf9-9086-d894b906183f"
            },
            "outputs": [],
            "execution_count": null
        },
        {
            "cell_type": "markdown",
            "source": [
                "Also, just like in Excel, I can get the chocolate and peanut butter effect by combining DATEDIFF with CURRENT_TIMESTAMP:"
            ],
            "metadata": {
                "azdata_cell_guid": "4834e9d7-289f-4d57-acb1-5402938cc6b3"
            }
        },
        {
            "cell_type": "code",
            "source": [
                "SELECT DATEDIFF(DAY,'2018-01-01 00:00:00', CURRENT_TIMESTAMP) AS DiffInDays\r\n",
                "      ,DATEDIFF(MONTH,'2018-01-01 00:00:00', CURRENT_TIMESTAMP) AS DiffInMonths\r\n",
                "      ,DATEDIFF(YEAR,'2018-01-01 00:00:00', CURRENT_TIMESTAMP) AS DiffInYears\r\n",
                "      "
            ],
            "metadata": {
                "azdata_cell_guid": "be790a3a-99de-4a9a-87d2-39daf4985792"
            },
            "outputs": [],
            "execution_count": null
        },
        {
            "cell_type": "markdown",
            "source": [
                "Most excellent.\r\n",
                "\r\n",
                "With the ability to calculate elapsed times, I can now finish up the RFM analysis."
            ],
            "metadata": {
                "azdata_cell_guid": "d5ee0901-82f3-42b8-8005-5161eaef86a3"
            }
        },
        {
            "cell_type": "markdown",
            "source": [
                "Using DATEDIFF and CURRENT_TIMESTAMP I can modify the CustomerSalesOrderHistory CTE to calculate the elapsed days from the most recent sales order:"
            ],
            "metadata": {
                "azdata_cell_guid": "78b94bc9-54e7-490c-883a-367e27cebc65"
            }
        },
        {
            "cell_type": "code",
            "source": [
                "WITH CustomerSalesOrders AS\r\n",
                "(\r\n",
                "    SELECT FIS.CustomerKey\r\n",
                "          ,FIS.SalesOrderNumber\r\n",
                "          ,SUM(SalesAmount) AS SalesAmount\r\n",
                "          ,MAX(OrderDate) AS OrderDate\r\n",
                "    FROM FactInternetSales FIS\r\n",
                "    GROUP BY FIS.CustomerKey, FIS.SalesOrderNumber\r\n",
                "),\r\n",
                "CustomerSalesOrderHistory AS\r\n",
                "(\r\n",
                "    SELECT CSO.CustomerKey\r\n",
                "          ,COUNT(*) AS SalesOrderCount\r\n",
                "          ,SUM(CSO.SalesAmount) AS SalesAmount\r\n",
                "          ,DATEDIFF(DAY, MAX(CSO.OrderDate), CURRENT_TIMESTAMP) AS ElapsedDaysToMostRecentOrder\r\n",
                "    FROM CustomerSalesOrders CSO\r\n",
                "    GROUP BY CSO.CustomerKey\r\n",
                ")\r\n",
                "SELECT CSOH.CustomerKey\r\n",
                "      ,NTILE(10) OVER (ORDER BY CSOH.SalesOrderCount ASC) AS FrequencyScore\r\n",
                "      ,NTILE(10) OVER (ORDER BY CSOH.SalesAmount ASC) AS MonetaryScore\r\n",
                "FROM CustomerSalesOrderHistory CSOH\r\n",
                "ORDER BY CSOH.CustomerKey;\r\n",
                ""
            ],
            "metadata": {
                "azdata_cell_guid": "45196fd0-1b93-42ff-976c-d9c0e959a607"
            },
            "outputs": [],
            "execution_count": null
        },
        {
            "cell_type": "markdown",
            "source": [
                "Next up, I need to modify the outer query to add the Recency score:"
            ],
            "metadata": {
                "azdata_cell_guid": "fee65149-6220-40f3-abac-183a9a576ffc"
            }
        },
        {
            "cell_type": "code",
            "source": [
                "WITH CustomerSalesOrders AS\r\n",
                "(\r\n",
                "    SELECT FIS.CustomerKey\r\n",
                "          ,FIS.SalesOrderNumber\r\n",
                "          ,SUM(SalesAmount) AS SalesAmount\r\n",
                "          ,MAX(OrderDate) AS OrderDate\r\n",
                "    FROM FactInternetSales FIS\r\n",
                "    GROUP BY FIS.CustomerKey, FIS.SalesOrderNumber\r\n",
                "),\r\n",
                "CustomerSalesOrderHistory AS\r\n",
                "(\r\n",
                "    SELECT CSO.CustomerKey\r\n",
                "          ,COUNT(*) AS SalesOrderCount\r\n",
                "          ,SUM(CSO.SalesAmount) AS SalesAmount\r\n",
                "          ,DATEDIFF(DAY, MAX(CSO.OrderDate), CURRENT_TIMESTAMP) AS ElapsedDaysToMostRecentOrder\r\n",
                "    FROM CustomerSalesOrders CSO\r\n",
                "    GROUP BY CSO.CustomerKey\r\n",
                ")\r\n",
                "SELECT CSOH.CustomerKey\r\n",
                "      ,NTILE(10) OVER (ORDER BY CSOH.ElapsedDaysToMostRecentOrder DESC) AS RecencyScore\r\n",
                "      ,NTILE(10) OVER (ORDER BY CSOH.SalesOrderCount ASC) AS FrequencyScore\r\n",
                "      ,NTILE(10) OVER (ORDER BY CSOH.SalesAmount ASC) AS MonetaryScore\r\n",
                "FROM CustomerSalesOrderHistory CSOH\r\n",
                "ORDER BY CSOH.CustomerKey;"
            ],
            "metadata": {
                "azdata_cell_guid": "931869a2-8b03-4cd4-8be1-64ebc62a5ee0"
            },
            "outputs": [],
            "execution_count": null
        },
        {
            "cell_type": "markdown",
            "source": [
                "Notice that the RecencyScore is calculated with NTILE using CSOH.ElapsedDaysToMostRecentOrder in descending order.\r\n",
                "\r\n",
                "This is because I want the smallest value to recieve a score of 10 (i.e., less elapsed days are better).\r\n",
                "\r\n",
                "Alrighty, then!\r\n",
                "\r\n",
                "Lastly, if I wanted to see just my 10-10-10 customers:"
            ],
            "metadata": {
                "azdata_cell_guid": "267813f6-4e0f-42bb-8baa-3018e7921aa3"
            }
        },
        {
            "cell_type": "code",
            "source": [
                "WITH CustomerSalesOrders AS\r\n",
                "(\r\n",
                "    SELECT FIS.CustomerKey\r\n",
                "          ,FIS.SalesOrderNumber\r\n",
                "          ,SUM(SalesAmount) AS SalesAmount\r\n",
                "          ,MAX(OrderDate) AS OrderDate\r\n",
                "    FROM FactInternetSales FIS\r\n",
                "    GROUP BY FIS.CustomerKey, FIS.SalesOrderNumber\r\n",
                "),\r\n",
                "CustomerSalesOrderHistory AS\r\n",
                "(\r\n",
                "    SELECT CSO.CustomerKey\r\n",
                "          ,COUNT(*) AS SalesOrderCount\r\n",
                "          ,SUM(CSO.SalesAmount) AS SalesAmount\r\n",
                "          ,DATEDIFF(DAY, MAX(CSO.OrderDate), CURRENT_TIMESTAMP) AS ElapsedDaysToMostRecentOrder\r\n",
                "    FROM CustomerSalesOrders CSO\r\n",
                "    GROUP BY CSO.CustomerKey\r\n",
                "),\r\n",
                "RFMAnalysis AS\r\n",
                "(\r\n",
                "    SELECT CSOH.CustomerKey\r\n",
                "          ,NTILE(10) OVER (ORDER BY CSOH.ElapsedDaysToMostRecentOrder DESC) AS RecencyScore\r\n",
                "          ,NTILE(10) OVER (ORDER BY CSOH.SalesOrderCount ASC) AS FrequencyScore\r\n",
                "          ,NTILE(10) OVER (ORDER BY CSOH.SalesAmount ASC) AS MonetaryScore\r\n",
                "    FROM CustomerSalesOrderHistory CSOH\r\n",
                ")\r\n",
                "SELECT RFM.CustomerKey\r\n",
                "      ,RFM.RecencyScore\r\n",
                "      ,RFM.FrequencyScore\r\n",
                "      ,RFM.MonetaryScore\r\n",
                "FROM RFMAnalysis RFM\r\n",
                "WHERE RFM.RecencyScore = 10 AND\r\n",
                "      RFM.FrequencyScore = 10 AND\r\n",
                "      RFM.MonetaryScore = 10\r\n",
                "ORDER BY RFM.CustomerKey ASC;"
            ],
            "metadata": {
                "azdata_cell_guid": "ff85bc1f-c324-4888-8341-ba8fd2ff680c"
            },
            "outputs": [],
            "execution_count": null
        },
        {
            "cell_type": "markdown",
            "source": [
                "There you have it.\r\n",
                "\r\n",
                "RFM analysis is a wildly simple and useful technique.\r\n",
                "\r\n",
                "I’ve personally used the ideas of RFM, for example, to rank US zip codes in terms of desirability for marketing efforts.\r\n",
                "\r\n",
                "Now you can use RFM with your own business data."
            ],
            "metadata": {
                "azdata_cell_guid": "4a063244-9566-4a7b-9fd5-bb388bb86b22"
            }
        },
        {
            "cell_type": "markdown",
            "source": [
                "## The Learning Arc\r\n",
                "\r\n",
                "This won’t be the last time I cover working with time, but the series will be moving on.\r\n",
                "\r\n",
                "Next up is coverage of working with more than 1 table of data at a time.\r\n",
                "\r\n",
                "Yes, it is time to cover JOINs.\r\n",
                "\r\n",
                "Stay healthy and happy data sleuthing"
            ],
            "metadata": {
                "azdata_cell_guid": "47f0d43b-8a1f-4acc-8ad3-35ccde949e5d"
            }
        }
    ]
}