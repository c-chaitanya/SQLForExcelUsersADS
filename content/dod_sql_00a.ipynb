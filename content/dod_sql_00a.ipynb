{
    "metadata": {
        "kernelspec": {
            "name": "SQL",
            "display_name": "SQL",
            "language": "sql"
        },
        "language_info": {
            "name": "sql",
            "version": ""
        }
    },
    "nbformat_minor": 2,
    "nbformat": 4,
    "cells": [
        {
            "cell_type": "markdown",
            "source": [
                "# Introduction (This Book)\r\n",
                "\r\n",
                "This book includes the SQL content from David Langer's excellent blog series Introduction to SQL for Excel Users.\r\n",
                "\r\n",
                "The notebook format allows for the SQL cells to be executed when connected to an instance of the AdventureworksDW database.\r\n",
                "\r\n",
                "The purpose of the book itself was to get more familiar with using Jupyter Books within Azure Data Studio.\r\n",
                "\r\n",
                "\r\n",
                ""
            ],
            "metadata": {
                "azdata_cell_guid": "7cddabb1-281d-40b4-b8dd-4597f077495e"
            }
        },
        {
            "cell_type": "markdown",
            "source": [
                "## How to Use\r\n",
                "\r\n",
                "Each blog post is written as a Jupyter Notebook.  The notebooks are collected into a single Jupyter Book.  Code cells are meant to be run against the SQL kernel.\r\n",
                "\r\n",
                "Download and expand the book contents into its own folder.\r\n",
                "\r\n",
                "In Azure Data Studio, navigate to the notebooks icon in the left menu bar, then click on the \"Open Book\" icon next to the \"NOTEBOOKS\" section title.  Select/open the previous folder.\r\n",
                "\r\n",
                "![local book](00\\jupyter_open.png)\r\n",
                "\r\n",
                "(Alternatively, you can click on the ellipsis - More Actions and select open remote book).\r\n",
                "\r\n",
                "![remote book](00\\jupyter_remote.png)\r\n",
                "\r\n",
                "Jupyter Books are a relatively new feature.  Once you setup a named connection to the AdventureWorksDW database, you will have to attach to it manually on each page! \r\n",
                "\r\n",
                "![connection](00\\jupyter_attach.png)\r\n",
                ""
            ],
            "metadata": {
                "azdata_cell_guid": "9139106e-2093-4316-a736-bee24356ebb8"
            }
        },
        {
            "cell_type": "markdown",
            "source": [
                "## Azure Data Studio, Jupyter Notebooks, etc.\r\n",
                "\r\n",
                "Windows 10 host running SQL Server as a Docker image within Ubuntu Server VM guest.\r\n",
                "\r\n",
                "ADS running on Windows host, connected to \"remote\" SQL instance.\r\n",
                "\r\n",
                "```\r\n",
                "Version: 1.21.0 (system setup)\r\n",
                "Commit: 2413919f186f780f0193d047da3d90bb3c1e9bf6\r\n",
                "Date: 2020-08-11T20:52:47.502Z\r\n",
                "VS Code: 1.48.0\r\n",
                "Electron: 7.3.2\r\n",
                "Chrome: 78.0.3904.130\r\n",
                "Node.js: 12.8.1\r\n",
                "V8: 7.8.279.23-electron.0\r\n",
                "OS: Windows_NT x64 10.0.19041\r\n",
                "```\r\n",
                "\r\n",
                "This Juypter book is maintained at:\r\n",
                "\r\n",
                "[https://github.com/vass1138/SQLForExcelUsersADS](https://github.com/vass1138/SQLForExcelUsersADS)\r\n",
                "\r\n",
                "Selected content was copied from original posts while listening to:\r\n",
                "\r\n",
                "- Alice in Chains, Greatest Hits\r\n",
                "- Anthrax, Greatest Hits\r\n",
                "- The Angels, Greatest Hits\r\n",
                "\r\n",
                "\r\n",
                "\r\n",
                ""
            ],
            "metadata": {
                "azdata_cell_guid": "83feff99-1443-487c-9985-3f92a49ed1ed"
            }
        }
    ]
}