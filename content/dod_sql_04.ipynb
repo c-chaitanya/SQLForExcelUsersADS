{
    "metadata": {
        "kernelspec": {
            "name": "SQL",
            "display_name": "SQL",
            "language": "sql"
        },
        "language_info": {
            "name": "sql",
            "version": ""
        }
    },
    "nbformat_minor": 2,
    "nbformat": 4,
    "cells": [
        {
            "cell_type": "markdown",
            "source": [
                "# Introduction to SQL for Excel Users – Part 4: Basic SELECTs\r\n",
                "\r\n",
                "[Original post](https://www.daveondata.com/blog/introduction-to-sql-for-excel-users-part-4-basic-selects/)"
            ],
            "metadata": {
                "azdata_cell_guid": "7fc3c30c-0cd3-4443-afa1-5d6bb69913f9"
            }
        },
        {
            "cell_type": "markdown",
            "source": [
                "## Selecting Columns in Excel\r\n",
                "\r\n",
                "It is a common practice to hide columns in Excel, especially in scenarios where you are sharing the workbook with others.\r\n",
                "\r\n",
                "You can also think of this, logically, as choosing which columns you want to focus on – selecting the columns you want to see.\r\n",
                "\r\n",
                "Take the following screenshot:\r\n",
                "\r\n",
                "![select columns excel](04\\selectcolumnsexcel1.png)\r\n",
                "selecting columns in Excel\r\n",
                "In the above screenshot I’ve selected the following columns:\r\n",
                "\r\n",
                "- WageType\r\n",
                "- Shift\r\n",
                "- LevelOneOperators\r\n",
                "- LevelTwoOperators\r\n",
                "- Calls\r\n",
                "- Date\r\n",
                "\r\n",
                "As we discussed in the last post, we can think of columns as being part of a container hierarchy, where columns are contained in tables.\r\n",
                "\r\n",
                "Using the syntax I proposed, we can think of the list of columns as:\r\n",
                "\r\n",
                "- CallCenter.WageType\r\n",
                "- CallCenter.Shift\r\n",
                "- CallCenter.LevelOneOperators\r\n",
                "- CallCenter.LevelTwoOperators\r\n",
                "- CallCenter.Calls\r\n",
                "- CallCenter.Date\r\n",
                "\r\n",
                "As you might have guessed, since selecting columns in Excel is common, so it is in SQL as well."
            ],
            "metadata": {
                "azdata_cell_guid": "6ab2037e-1523-427f-997a-033c0f823a21"
            }
        },
        {
            "cell_type": "markdown",
            "source": [
                "## SELECTing Columns in SQL\r\n",
                "\r\n",
                "While the designers of SQL tried really hard to make it as easy to learn as possible, arguably they did miss the mark in some areas.\r\n",
                "\r\n",
                "One way is that SQL is written such that it doesn’t exactly follow how the database actually processes your SQL.\r\n",
                "\r\n",
                "This will make more sense as we move along, so I won’t belabor it now.\r\n",
                "\r\n",
                "When you issue your SQL (called a query) to the database (DB) the first thing the DB wants to know is which table (and later in the series, tables) you are accessing.\r\n",
                "\r\n",
                "Right now we are working with just the FactCallCenter table, so the following is a legit SQL snippet:\r\n",
                "\r\n",
                "```\r\n",
                "FROM FactCallCenter\r\n",
                "```\r\n",
                "\r\n",
                "That’s pretty intuitive, no?\r\n",
                "\r\n",
                "SQL also has a handy feature that you can provide a nickname (an alias) for the table. It is considered by many that providing aliases in your SQL queries is a good coding practice.\r\n",
                "\r\n",
                "More importantly, I consider this good SQL coding practice and this is my blog series. 😁\r\n",
                "\r\n",
                "Technically, there are many correct ways to code an alias. I will just use one simple form as follows:\r\n",
                "\r\n",
                "```\r\n",
                "FROM FactCallCenter FCC\r\n",
                "```\r\n",
                "\r\n",
                "Now we don’t have to type FactCallCenter in our query, we can just use the FCC alias. Sweet!\r\n",
                "\r\n",
                "Next up, the DB will apply any filters you would like to the data. Right now we don’t have any filters, so the DB moves on to which columns of data you would like pulled from the table.\r\n",
                "\r\n",
                "The SQL keyword SELECT tells the DB which columns from the table you want.\r\n",
                "\r\n",
                "SQL also supports a wildcard, *, that tells the DB to give you all the columns from the table.\r\n",
                "\r\n",
                "Think of the following SQL query as telling the DB, “I want all the columns from the FactCallCenter table, please.”\r\n",
                "\r\n",
                "```\r\n",
                "SELECT *\r\n",
                "FROM FactCallCenter FCC\r\n",
                "```\r\n",
                "\r\n",
                "Generally speaking, it is considered bad practice to use the wildcard. The preferred practice is explicitly code the columns that you want returned.\r\n",
                "\r\n",
                "Even better is to be very specific about the columns by using the alias, like so:"
            ],
            "metadata": {
                "azdata_cell_guid": "ce388c46-23f2-4712-875a-4f33d9df898d"
            }
        },
        {
            "cell_type": "code",
            "source": [
                "SELECT FCC.WageType\r\n",
                "      ,FCC.Shift\r\n",
                "      ,FCC.LevelOneOperators\r\n",
                "      ,FCC.LevelTwoOperators\r\n",
                "      ,FCC.Calls\r\n",
                "      ,FCC.Date\r\n",
                "FROM FactCallCenter FCC"
            ],
            "metadata": {
                "azdata_cell_guid": "0c984664-9381-4074-aa49-6a28ad64866d"
            },
            "outputs": [],
            "execution_count": null
        },
        {
            "cell_type": "markdown",
            "source": [
                "When you execute the above SQL query, you get what looks just like what we saw in Excel."
            ],
            "metadata": {
                "azdata_cell_guid": "795a3174-85ca-4b01-9ad3-b94130dca752"
            }
        },
        {
            "cell_type": "markdown",
            "source": [
                "## Selecting and Filtering in Excel\r\n",
                "\r\n",
                "In Part 3 I covered filtering in Excel and introduced a logical syntax for defining these filters:\r\n",
                "\r\n",
                "```\r\n",
                "(CallCenter.Shift = \"PM1\" OR CallCenter.Shift = \"PM2\") AND (CallCenter.LevelTwoOperators <= 10)\r\n",
                "```\r\n",
                "\r\n",
                "If we apply the above filters to our selected columns of the Excel CallCenter table, we get the following:\r\n",
                "\r\n",
                "![select filter columns excel](04\\selectfiltercolumnsexcel1.png)\r\n",
                "\r\n",
                "selected and filtered columns in Excel\r\n",
                "And moving on to selecting and filtering in SQL…"
            ],
            "metadata": {
                "azdata_cell_guid": "a428ac45-e35c-4d3f-bd79-40988cd9d937"
            }
        },
        {
            "cell_type": "markdown",
            "source": [
                "## SELECTing and Filtering in SQL\r\n",
                "\r\n",
                "In Part 3 I covered filtering in SQL. Here’s a reminder from that post:\r\n",
                "\r\n",
                "(FCC.Shift = 'PM1' OR FCC.Shift = 'PM2') AND (FCC.LevelTwoOperators <= 10)\r\n",
                "\r\n",
                "NOTE – I’m using the table alias for FactCallCenter!\r\n",
                "\r\n",
                "OK, those are the SQL predicates that define the filters. We just need one more thing.\r\n",
                "\r\n",
                "SQL was designed to be as intuitive as possible (no, really!) and it has an English-like syntax.\r\n",
                "\r\n",
                "We use the keyword WHERE in SQL to tell the database, “Hey! Got some filters coming through…”\r\n",
                "\r\n",
                "Here’s how the filtering part of the query actually looks:\r\n",
                "\r\n",
                "```\r\n",
                "WHERE (FCC.Shift = 'PM1' OR FCC.Shift = 'PM2') AND\r\n",
                "      (FCC.LevelTwoOperators <= 10)\r\n",
                "```\r\n",
                "\r\n",
                "Awesome!\r\n",
                "\r\n",
                "The following T-SQL puts everything in this post together to make a legit query:"
            ],
            "metadata": {
                "azdata_cell_guid": "5ce5130a-71ec-4fe8-8fcc-af7bdcc27a3f"
            }
        },
        {
            "cell_type": "code",
            "source": [
                "SELECT FCC.WageType\r\n",
                "      ,FCC.Shift\r\n",
                "      ,FCC.LevelOneOperators\r\n",
                "      ,FCC.LevelTwoOperators\r\n",
                "      ,FCC.Calls\r\n",
                "      ,FCC.Date\r\n",
                "FROM FactCallCenter FCC\r\n",
                "WHERE (FCC.Shift = 'PM1' OR FCC.Shift = 'PM2') AND\r\n",
                "      (FCC.LevelTwoOperators <= 10)"
            ],
            "metadata": {
                "azdata_cell_guid": "3e176735-e838-4cd1-bb1e-dabe9663b9c2"
            },
            "outputs": [],
            "execution_count": null
        },
        {
            "cell_type": "markdown",
            "source": [
                "As mentioned above, here’s how the DB logically thinks about the query:\r\n",
                "\r\n",
                "1. “OK, Dave wants to pull data from the FactCallCenter table“\r\n",
                "1. “Dave wants to give the table the alias FCC“\r\n",
                "1. “Dave wants only rows WHERE the Shift column has values of 'PM1' OR 'PM2' AND the LevelTwoOperators column is <= 10“\r\n",
                "1. “Lastly, Dave is SELECTing to see only the WageType, Shift, LevelOneOperators, LevelTwoOperators, Calls, and Date columns“\r\n",
                "\r\n",
                "Once again, notice how everything aligns between Excel and SQL?\r\n",
                "\r\n",
                "Stay tuned, it gets even better!"
            ],
            "metadata": {
                "azdata_cell_guid": "965dd506-81a8-4629-a519-41743f129a26"
            }
        },
        {
            "cell_type": "markdown",
            "source": [
                "## The Learning Arc\r\n",
                "\r\n",
                "There is a lot more awesomeness in SQL SELECTs, you will see this come up again and again throughout the series.\r\n",
                "\r\n",
                "Next time we’ll see what the cool kids call “feature engineering” – creating new columns in our SELECTs from existing columns.\r\n",
                "\r\n",
                "We’re getting to the point where you’ll likely want access to SQL Server. Be sure to check out my [YouTube channel](https://www.youtube.com/channel/UCRhUp6SYaJ7zme4Bjwt28DQ) for tutorial videos.\r\n",
                "\r\n",
                "Stay healthy and happy data sleuthing!"
            ],
            "metadata": {
                "azdata_cell_guid": "c822ebec-574e-49c6-a9b9-493e94635390"
            }
        }
    ]
}