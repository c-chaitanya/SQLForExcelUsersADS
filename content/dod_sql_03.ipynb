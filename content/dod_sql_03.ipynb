{
    "metadata": {
        "kernelspec": {
            "name": "SQL",
            "display_name": "SQL",
            "language": "sql"
        },
        "language_info": {
            "name": "sql",
            "version": ""
        }
    },
    "nbformat_minor": 2,
    "nbformat": 4,
    "cells": [
        {
            "cell_type": "markdown",
            "source": [
                "# Introduction to SQL for Excel Users – Part 3: Basic Filters\r\n",
                "\r\n",
                "[Original post](https://www.daveondata.com/blog/introduction-to-sql-for-excel-users-part-3-basic-filters/)\r\n",
                "\r\n",
                "_Excel discussion only._\r\n",
                ""
            ],
            "metadata": {
                "azdata_cell_guid": "b5ccac72-f94b-4d35-bce1-f8f697309018"
            }
        }
    ]
}