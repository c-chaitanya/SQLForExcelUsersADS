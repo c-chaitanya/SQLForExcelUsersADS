{
    "metadata": {
        "kernelspec": {
            "name": "SQL",
            "display_name": "SQL",
            "language": "sql"
        },
        "language_info": {
            "name": "sql",
            "version": ""
        }
    },
    "nbformat_minor": 2,
    "nbformat": 4,
    "cells": [
        {
            "cell_type": "markdown",
            "source": [
                "# Introduction to SQL for Excel Users – Part 3: Basic Filters\r\n",
                "\r\n",
                "[Original post](https://www.daveondata.com/blog/introduction-to-sql-for-excel-users-part-3-basic-filters/)\r\n",
                "\r\n",
                ""
            ],
            "metadata": {
                "azdata_cell_guid": "b5ccac72-f94b-4d35-bce1-f8f697309018"
            }
        },
        {
            "cell_type": "markdown",
            "source": [
                "## Excel Filtering\r\n",
                "\r\n",
                "When working with Excel tables you filter.\r\n",
                "\r\n",
                "A lot.\r\n",
                "\r\n",
                "You can think of filtering as coming in four flavors:\r\n",
                "\r\n",
                "1. Single column using a single condition\r\n",
                "1. Single column using multiple conditions\r\n",
                "1. Multiple columns using a single condition for each column\r\n",
                "1. Multiple columns using any number of conditions for each column\r\n",
                "\r\n",
                "Whew!\r\n",
                "\r\n",
                "When listed out, it seems complicated, but as an Excel user you do this all the time.\r\n",
                "\r\n",
                "You prolly don’t even think about it.\r\n",
                "\r\n",
                "Just as filtering is common (and necessary) in Excel, so it is with SQL.\r\n",
                "\r\n",
                "So, I’m going to cover Excel filtering and map these concepts to filtering with SQL.\r\n",
                "\r\n",
                "Since #4 encompasses #3, I will just cover #4. Helps to keep the post shorter."
            ],
            "metadata": {
                "azdata_cell_guid": "630188db-778f-4ba3-8d2b-71d919fbfc35"
            }
        },
        {
            "cell_type": "markdown",
            "source": [
                "## Single Column Using a Single Condition\r\n",
                "\r\n",
                "Let’s say we’re interested in just seeing the data associated with the PM1 shift in the call center data. Excel makes this super easy:\r\n",
                "\r\n",
                "![single column single condition](03\\singlecolsingcondexcel.png)\r\n",
                "\r\n",
                "The above screenshot shows how we can quickly filter on the Shift column of the CallCenter table where values are equal to PM1.\r\n",
                "\r\n",
                "Yes, there’s a reason why I’m being so explicit in all of this.\r\n",
                "\r\n",
                "When you work in SQL you have to be explicit. SQL is a computer language and computers are dumb.\r\n",
                "\r\n",
                "Hence, you have to be exact in writing your SQL.\r\n",
                "\r\n",
                "To take this explicitness up a notch, think about filtering columns in Excel:\r\n",
                "\r\n",
                "- A column lives within an Excel table\r\n",
                "- An Excel table lives within a worksheet\r\n",
                "- An Excel worksheet lives within a workbook\r\n",
                "\r\n",
                "Think of the above as kind of container hierarchy, where the filter applies at the lowest level in the hierarchy.\r\n",
                "\r\n",
                "If the workbook is named “SQLForExcelUsersPart3.xlsx” and the worksheet is named “Single Column Single Condition” and the table is named “CallCenter” and the column is named “Shift”, you could express this hierarchy compactly as:\r\n",
                "\r\n",
                "```\r\n",
                "[SQLForExcelUsersPart3.xlsx].[Single Column Single Condition].[CallCenter].[Shift]\r\n",
                "```\r\n",
                "\r\n",
                "The above Excel filter could also then be logically expressed as:\r\n",
                "\r\n",
                "```\r\n",
                "[SQLForExcelUsersPart3.xlsx].[Single Column Single Condition].[CallCenter].[Shift] = \"PM1\"\r\n",
                "```\r\n",
                "\r\n",
                "Alright, now for the SQL. Here’s how we can express the same filter using a snippet of SQL:\r\n",
                "\r\n",
                "```\r\n",
                "[AdventureWorksDW2017].[dbo].[FactCallCenter].[Shift] = 'PM1'\r\n",
                "```\r\n",
                "\r\n",
                "Notice how the concept is essentially the same? 😲\r\n",
                "\r\n",
                "In the case of SQL…\r\n",
                "\r\n",
                "“AdventureWorksDW2017” is the database and “dbo” is the schema (for now, think of this as a container) and “FactCallCenter” is the table (I left the “Fact” part off in Excel) and “Shift” is the column.\r\n",
                "\r\n",
                "The above is 100% legit SQL and is known as a predicate.\r\n",
                "\r\n",
                "In SQL, you build your filters explicitly by coding up one or more predicates.\r\n",
                "\r\n",
                "While totally acceptable in SQL to explicitly code the whole hierarchy, typically you don’t do this in practice. Also, it is common in practice to drop the square brackets. This gives us the following predicate:\r\n",
                "\r\n",
                "```\r\n",
                "FactCallCenter.Shift = 'PM1'\r\n",
                "```\r\n",
                "\r\n",
                "Sweet!\r\n",
                "\r\n",
                "With this basics understood, we can pick up the pace."
            ],
            "metadata": {
                "azdata_cell_guid": "95e0f06a-e88e-477d-8bb0-27c6bdb1e8c6"
            }
        },
        {
            "cell_type": "markdown",
            "source": [
                "## Single Column Using Multiple Conditions\r\n",
                "\r\n",
                "Take the following Excel filter on the CallCenter table:\r\n",
                "\r\n",
                "![single column multiple condition](03\\singlecolmultcondandexcel.png)\r\n",
                "\r\n",
                "This filter returns back all the data where Shift has a value of PM1 or PM2.\r\n",
                "\r\n",
                "Simple enough, now for the SQL:\r\n",
                "\r\n",
                "```\r\n",
                "FactCallCenter.Shift = 'PM1' OR FactCallCenter.Shift = 'PM2'\r\n",
                "```\r\n",
                "\r\n",
                "Notice that while you have to explicitly code up the filter predicates, conceptually it is exactly the same as Excel.\r\n",
                "\r\n",
                "As my pops would say, “Now we’re cooking with gas!”"
            ],
            "metadata": {
                "azdata_cell_guid": "2849fc2c-f0ab-4c2d-9022-becde7edc2e9"
            }
        },
        {
            "cell_type": "markdown",
            "source": [
                "## Multiple Columns Using N Conditions\r\n",
                "\r\n",
                "So let’s say we’re interested in filtering the data even more.\r\n",
                "\r\n",
                "We want all the rows in the table where Shift is equal to PM1 or PM2 and where LevelTwoOperators is less than or equal to 10.\r\n",
                "\r\n",
                "We’ve got the first filter in place already in Excel, we just need to add the following:\r\n",
                "\r\n",
                "![multipe columns multiple conditions](03\\multcolmultcondexcel.png)\r\n",
                "\r\n",
                "Yep, you guessed it.\r\n",
                "\r\n",
                "Conceptually it’s the same in SQL – adding Excel filters corresponds to adding predicates in SQL. Here’s the 3 SQL predicates needed:\r\n",
                "\r\n",
                "```\r\n",
                "(FactCallCenter.Shift = 'PM1' OR FactCallCenter.Shift = 'PM2') AND (FactCallCenter.LevelTwoOperators <= 10)\r\n",
                "```\r\n",
                "\r\n",
                "Let's unpack ☝:\r\n",
                "\r\n",
                "- For right now, think of the () as corresponding to an Excel filter\r\n",
                "- We've got a filter for Shift and a filter for LevelTwoOperators\r\n",
                "- Both filters need to be true at the same time, so that's where the AND comes in\r\n",
                "- The <= means \"less than or equal to 10\"\r\n",
                "\r\n",
                "Again, notice the logical connections between Excel and SQL\r\n",
                "\r\n",
                "Told ya that your Excel skills would help you learn SQL! 😉"
            ],
            "metadata": {
                "azdata_cell_guid": "d35e5bfd-5b15-48cb-b979-8ea8e2e9f388"
            }
        },
        {
            "cell_type": "markdown",
            "source": [
                "## The Learning Arc\r\n",
                "\r\n",
                "There is a lot more awesomeness in SQL filtering, I will cover more in subsequent posts.\r\n",
                "\r\n",
                "Next time the subject will be choosing which columns of data we want to see.\r\n",
                "\r\n",
                "You will see your first complete piece of SQL code.\r\n",
                "\r\n",
                "It won't do much, but we'll build on this foundation quickly.\r\n",
                "\r\n",
                "Stay healthy and happy data sleuthing!"
            ],
            "metadata": {
                "azdata_cell_guid": "9734ced2-535f-410c-8fb8-19503ed185bf"
            }
        }
    ]
}