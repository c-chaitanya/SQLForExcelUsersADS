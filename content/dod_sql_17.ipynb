{
    "metadata": {
        "kernelspec": {
            "name": "SQL",
            "display_name": "SQL",
            "language": "sql"
        },
        "language_info": {
            "name": "sql",
            "version": ""
        }
    },
    "nbformat_minor": 2,
    "nbformat": 4,
    "cells": [
        {
            "cell_type": "markdown",
            "source": [
                "# Introduction to SQL for Excel Users – Part 17: JOIN Filtering\r\n",
                "\r\n",
                "[Original post](https://www.daveondata.com/blog/introduction-to-sql-for-excel-users-part-17-join-filtering-gotchas/)"
            ],
            "metadata": {
                "azdata_cell_guid": "1eb57691-fb8d-4c6b-b710-784fe71601c1"
            }
        },
        {
            "cell_type": "markdown",
            "source": [
                "## INNER JOIN Filtering\r\n",
                "\r\n",
                "_NOTE – There will be no Excel coverage in this post as it isn’t necessary for the concepts and I wanted to keep the post to a reasonable length._\r\n",
                "\r\n",
                "So far I’ve covered the basics of using LEFT OUTER and INNER JOINs.\r\n",
                "\r\n",
                "One of the cool aspects of JOINs is that you can use the ON clause to not only specify JOIN conditions, but also to filter."
            ],
            "metadata": {
                "azdata_cell_guid": "a7bae83e-42e5-4cb8-bb48-8158d36ddf5a"
            }
        },
        {
            "cell_type": "code",
            "source": [
                "SELECT C.CustomerKey\r\n",
                "      ,C.FirstName\r\n",
                "      ,C.LastName\r\n",
                "      ,SUM(FIS.SalesAmount) AS TotalSalesAmount\r\n",
                "FROM DimCustomer C\r\n",
                "    INNER JOIN FactInternetSales FIS ON (C.CustomerKey = FIS.CustomerKey)\r\n",
                "WHERE FIS.ProductKey = 374\r\n",
                "GROUP BY C.CustomerKey, C.FirstName, C.LastName\r\n",
                ""
            ],
            "metadata": {
                "azdata_cell_guid": "e07b0499-bba3-48a5-b582-7122f00a8b5d"
            },
            "outputs": [],
            "execution_count": null
        },
        {
            "cell_type": "markdown",
            "source": [
                "The SQL code ☝ returns only the data for those customers that have placed Internet orders for ProductKey 374 and aggregates the total amount of sales for each customer.\r\n",
                "\r\n",
                "If you execute the query in SQL Server Management Studio (SSMS), you get back 142 rows of data."
            ],
            "metadata": {
                "azdata_cell_guid": "6d0b87a5-bf26-4713-a25b-befbee215240"
            }
        },
        {
            "cell_type": "markdown",
            "source": [
                "You can also write the ☝ SQL like so:"
            ],
            "metadata": {
                "azdata_cell_guid": "540159cf-001e-4081-8358-78bd1aefb4c5"
            }
        },
        {
            "cell_type": "code",
            "source": [
                "SELECT C.CustomerKey\r\n",
                "      ,C.FirstName\r\n",
                "      ,C.LastName\r\n",
                "      ,SUM(FIS.SalesAmount) AS TotalSalesAmount\r\n",
                "FROM DimCustomer C\r\n",
                "    INNER JOIN FactInternetSales FIS ON (C.CustomerKey = FIS.CustomerKey AND\r\n",
                "                                         FIS.ProductKey = 374)\r\n",
                "GROUP BY C.CustomerKey, C.FirstName, C.LastName\r\n",
                "ORDER BY C.CustomerKey"
            ],
            "metadata": {
                "azdata_cell_guid": "68102d03-eee0-4dd7-9a68-62f3d013d621"
            },
            "outputs": [],
            "execution_count": null
        },
        {
            "cell_type": "markdown",
            "source": [
                "When you execute this second query, you get exactly the same results!\r\n",
                "\r\n",
                "This is how the second bit of SQL code works conceptually:\r\n",
                "\r\n",
                "1. Grab all records from DimCustomer…\r\n",
                "1. Grab all records from FactInternetSales that have a ProductKey of 374…\r\n",
                "1. INNER JOIN #1 to #2 ON CustomerKey matches…\r\n",
                "1. GROUP BY customers…\r\n",
                "1. SELECT customers…\r\n",
                "1. SUM the sales for each customer…\r\n",
                "1. ORDER the results BY CustomerKey.\r\n",
                "1. OK, so when using INNER JOINs you can filter using either WHERE or ON.\r\n",
                "\r\n",
                "However, things are a bit more complicated with LEFT OUTER JOINs…"
            ],
            "metadata": {
                "azdata_cell_guid": "9da351cd-ed34-4702-90f5-d2324c7ac217"
            }
        },
        {
            "cell_type": "markdown",
            "source": [
                "## LEFT OUTER JOIN Filtering\r\n",
                "\r\n",
                "The two key concepts to remember when it comes to filtering LEFT OUTER JOINs:\r\n",
                "\r\n",
                "JOINs are executed before WHERE.\r\n",
                "As I covered previously, LEFT OUTER JOINs preserve all the rows in the left virtual table.\r\n",
                "Gaining understanding of how these two concepts can impact your filtering is easiest achieved by example.\r\n",
                "\r\n",
                "When you execute the following SQL in SSMS you get back 142 rows, just like the INNER JOIN examples I covered previously."
            ],
            "metadata": {
                "azdata_cell_guid": "5dc3cd39-4a48-4fc9-8a5d-df9a7f3f2d78"
            }
        },
        {
            "cell_type": "code",
            "source": [
                "SELECT C.CustomerKey\r\n",
                "      ,C.FirstName\r\n",
                "      ,C.LastName\r\n",
                "      ,SUM(FIS.SalesAmount) AS TotalSalesAmount\r\n",
                "FROM DimCustomer C\r\n",
                "    LEFT OUTER JOIN FactInternetSales FIS ON (C.CustomerKey = FIS.CustomerKey)\r\n",
                "WHERE FIS.ProductKey = 374\r\n",
                "GROUP BY C.CustomerKey, C.FirstName, C.LastName\r\n",
                "ORDER BY C.CustomerKey"
            ],
            "metadata": {
                "azdata_cell_guid": "4c966b09-e43d-424e-872c-dfe35e477145"
            },
            "outputs": [],
            "execution_count": null
        },
        {
            "cell_type": "markdown",
            "source": [
                "Conceptually, the SQL code is executed as follows:\r\n",
                "\r\n",
                "1. Grab all the records from DimCustomer…\r\n",
                "1. Grab all the records from FactInternetSales…\r\n",
                "1. LEFT OUTER JOIN #1 on #2, keep all records from #1…\r\n",
                "1. In the case where there’s no CustomerKey match between #1 and #2, fill with NULLs…\r\n",
                "1. Keep only the records WHERE ProductKey is 374…\r\n",
                "1. GROUP BY customers…\r\n",
                "1. SELECT customers…\r\n",
                "1. SUM the sales for each customer…\r\n",
                "1. ORDER the results BY CustomerKey.\r\n",
                "\r\n",
                "The critical step in the above conceptual execution is #5.\r\n",
                "\r\n",
                "ProductKeys other than 374 are discarded, including NULLs!\r\n",
                "\r\n",
                "By way of comparison, consider the following SQL:"
            ],
            "metadata": {
                "azdata_cell_guid": "c5b41e60-822c-4d40-a2b3-a92963aeea27"
            }
        },
        {
            "cell_type": "code",
            "source": [
                "SELECT C.CustomerKey\r\n",
                "      ,C.FirstName\r\n",
                "      ,C.LastName\r\n",
                "      ,SUM(FIS.SalesAmount) AS TotalSalesAmount\r\n",
                "FROM DimCustomer C\r\n",
                "    LEFT OUTER JOIN FactInternetSales FIS ON (C.CustomerKey = FIS.CustomerKey AND\r\n",
                "                                              FIS.ProductKey = 374)\r\n",
                "GROUP BY C.CustomerKey, C.FirstName, C.LastName\r\n",
                "ORDER BY C.CustomerKey"
            ],
            "metadata": {
                "azdata_cell_guid": "618a2467-34bf-4195-9270-4a372a032f94"
            },
            "outputs": [],
            "execution_count": null
        },
        {
            "cell_type": "markdown",
            "source": [
                "If you run the SQL ☝ you get back 18,484 rows of data! 😲\r\n",
                "\r\n",
                "This result is totally logical when you consider the conceptual execution:\r\n",
                "\r\n",
                "1. Grab all the records from DimCustomer…\r\n",
                "1. Grab all the records from FactInternetSales that have a ProductKey of 374…\r\n",
                "1. LEFT OUTER JOIN #1 on #2, keep all records from #1…\r\n",
                "1. In the case where there’s no CustomerKey match between #1 and #2, fill with NULLs…\r\n",
                "1. GROUP BY customers…\r\n",
                "1. SELECT customers…\r\n",
                "1. SUM the sales for each customer…\r\n",
                "1. ORDER the results BY CustomerKey.\r\n",
                "\r\n",
                "The critical steps in the above conceptual execution are #3 and #4.\r\n",
                "\r\n",
                "There are a total of 18,484 records in DimCustomer.\r\n",
                "\r\n",
                "There are a total of 142 records in FactInternetSales with a ProductKey of 374.\r\n",
                "\r\n",
                "The result set ☝ has exactly 142 non-NULL values as the following query demonstrates:"
            ],
            "metadata": {
                "azdata_cell_guid": "114a26b3-afa3-4810-9a08-b3542a149386"
            }
        },
        {
            "cell_type": "code",
            "source": [
                "SELECT C.CustomerKey\r\n",
                "      ,C.FirstName\r\n",
                "      ,C.LastName\r\n",
                "      ,SUM(FIS.SalesAmount) AS TotalSalesAmount\r\n",
                "FROM DimCustomer C\r\n",
                "    INNER JOIN FactInternetSales FIS ON (C.CustomerKey = FIS.CustomerKey AND\r\n",
                "                                         FIS.ProductKey = 374)\r\n",
                "WHERE FIS.ProductKey IS NOT NULL\r\n",
                "GROUP BY C.CustomerKey, C.FirstName, C.LastName\r\n",
                "ORDER BY C.CustomerKey"
            ],
            "metadata": {
                "azdata_cell_guid": "88098886-09ab-4339-98f7-94da7dfeaf3d"
            },
            "outputs": [],
            "execution_count": null
        },
        {
            "cell_type": "markdown",
            "source": [
                "There you have it, the subtleties of JOIN filtering.\r\n",
                "\r\n",
                "Nothing to worry about with INNER JOINs.\r\n",
                "\r\n",
                "However, be mindful of filtering LEFT OUTER JOINs."
            ],
            "metadata": {
                "azdata_cell_guid": "b8c70f9d-b5de-43af-bbf9-7e1cd3f600f7"
            }
        },
        {
            "cell_type": "markdown",
            "source": [
                "## Oh, BTW…\r\n",
                "\r\n",
                "There’s a reason beyond just writing top-notch SQL that you want to learn the subtleties of JOIN filtering.\r\n",
                "\r\n",
                "It’s a commonly asked interview question for jobs that require SQL skills.\r\n",
                "\r\n",
                "I know because I’ve asked it myself – both as a hiring manager and as a individial contributor.\r\n",
                "\r\n",
                "You’ve been warned! 😉\r\n",
                "\r\n",
                "## The Learning Arc\r\n",
                "\r\n",
                "The next post will begin coverage of arguably the most useful part of SQL for the analytics pro…\r\n",
                "\r\n",
                "Yes, I’m referring to CASE WHEN. 💥😁\r\n",
                "\r\n",
                "Stay healthy and happy data sleuthing!"
            ],
            "metadata": {
                "azdata_cell_guid": "70109b8a-8d16-4b8c-ae34-cfa1db1881f4"
            }
        }
    ]
}