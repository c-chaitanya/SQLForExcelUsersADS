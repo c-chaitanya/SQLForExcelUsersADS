{
    "metadata": {
        "kernelspec": {
            "name": "SQL",
            "display_name": "SQL",
            "language": "sql"
        },
        "language_info": {
            "name": "sql",
            "version": ""
        }
    },
    "nbformat_minor": 2,
    "nbformat": 4,
    "cells": [
        {
            "cell_type": "markdown",
            "source": [
                "# Introduction to SQL for Excel Users – Part 7: Basic Groups\r\n",
                "\r\n",
                "[Original post](https://www.daveondata.com/blog/introduction-to-sql-for-excel-users-part-7-basic-groups/)"
            ],
            "metadata": {
                "azdata_cell_guid": "c1cf66af-c562-4b6b-bd4e-f6805c9ca75d"
            }
        },
        {
            "cell_type": "markdown",
            "source": [
                "## Groups in Excel\r\n",
                "\r\n",
                "Grouping data is an extremely common and important analysis technique in Excel.\r\n",
                "\r\n",
                "For example, grouping is the basis for Excel pivot tables.\r\n",
                "\r\n",
                "As usual, I’m going to start with simple concepts and build upon them slowly – your continued patience is appreciated! 😁\r\n",
                "\r\n",
                "Using the CallCenter data I can create a group by filtering on CallCenter.Shift = \"PM1\":\r\n",
                "\r\n",
                "![excel group](07\\excelgroup1.png)\r\n",
                "\r\n",
                "grouping by filtering an excel table\r\n",
                "The image is a bit small, open it in a new browser tab to see it in all of its glory.\r\n",
                "\r\n",
                "To make things easier, I will just consider LevelOneOperators for this post.\r\n",
                "\r\n",
                "![excel group operators](07\\excelgroup2.png)\r\n",
                "\r\n",
                "filtering tables in excel\r\n",
                "Think of the ☝ screenshot of consisting of one possible group for a column. In this case the group corresponding to the value of \"PM1\" from the CallCenter.Shift column.\r\n",
                "\r\n",
                "We can use Excel to do all kinds of interesting things with groups.\r\n",
                "\r\n",
                "For example, we could find the total sum of LevelOneOperators for the above group (i.e., 81) or the average value of LevelOneOperators for the above group (i.e., 2.7).\r\n",
                "\r\n",
                "Using basic Excel tables, I could repeat this filtering process for other values of CallCenter.Shift (e.g., filtering for the value of \"AM\"), but Excel provides a better way of working with groups.\r\n",
                "\r\n",
                "Enter the mighty Excel pivot table…"
            ],
            "metadata": {
                "azdata_cell_guid": "ae939056-36ab-48db-868e-ef7563ca415b"
            }
        },
        {
            "cell_type": "markdown",
            "source": [
                "## Pivot Tables Work With Groups\r\n",
                "\r\n",
                "A good way to think of Excel pivot tables is as a short-cut mechanism for working with multiple groups of data at the same time.\r\n",
                "\r\n",
                "Everything that is done in Excel pivot tables can be done with basic tables, it’s just a lot more work.\r\n",
                "\r\n",
                "Take the following pivot table built with CallCenter data:\r\n",
                "\r\n",
                "![pivot table 1](07\\pivottable1.png)\r\n",
                "\r\n",
                "excel pivot table\r\n",
                "The above pivot table finds every group in the CallCenter.Shift column and then calculates the sum of LevelOneOperators for each group.\r\n",
                "\r\n",
                "Pivot table are awesome as they quickly allow us to analyze data in a number of ways (e.g., sums, averages, min/max values, etc.) by important business categories (i.e., groups).\r\n",
                "\r\n",
                "Right now you might be 🥱. Apologies, this is important.\r\n",
                "\r\n",
                "We can add to the above pivot table quite easily for more insights:\r\n",
                "\r\n",
                "![pivot table 2](07\\pivottable2.png)\r\n",
                "\r\n",
                "excel pivot table with min values\r\n",
                "The above table can be thought of as, “group the data by the CallCenter.Shift column and then calculate the SUM, MIN, and MAX of the LevelOneOperators column for each group.”\r\n",
                "\r\n",
                "Not surprisingly, groups of data are also important in SQL…"
            ],
            "metadata": {
                "azdata_cell_guid": "5e0a7a2a-e9bd-472a-b887-45c9f8fe883d"
            }
        },
        {
            "cell_type": "markdown",
            "source": [
                "## Groups In SQL\r\n",
                "\r\n",
                "The following is arguably the single most useful SQL snippet for the analytics professional:\r\n",
                "\r\n",
                "```\r\n",
                "GROUP BY\r\n",
                "```\r\n",
                "\r\n",
                "Think of this snippet as the SQL equivalent of Excel pivot tables.\r\n",
                "\r\n",
                "And we all know how useful Excel pivot tables are for analyzing data!\r\n",
                "\r\n",
                "Take the following SQL snippet:\r\n",
                "\r\n",
                "```\r\n",
                "FROM FactCallCenter FCC\r\n",
                "GROUP BY FCC.Shift\r\n",
                "```\r\n",
                "\r\n",
                "If this doesn’t look familiar, go back and check out previous posts.\r\n",
                "\r\n",
                "The above SQL snippet tells the DB that I want to pull data from the FactCallCenter table (using an alias of FCC) and I want the data grouped by the Shift column."
            ],
            "metadata": {
                "azdata_cell_guid": "3ab36619-7db1-4390-8b9f-ff85e9c73a9c"
            }
        },
        {
            "cell_type": "markdown",
            "source": [
                "A rule that you have to follow is that any column you list in the GROUP BY must be in the SELECT list. This is conceptually the same as putting a column in the Rows of an Excel pivot table.\r\n",
                "\r\n",
                "Here is some legit, but not particularly useful, SQL:"
            ],
            "metadata": {
                "azdata_cell_guid": "f42ab5c5-887f-469c-b949-ab22e5a30cd2"
            }
        },
        {
            "cell_type": "code",
            "source": [
                "SELECT FCC.Shift\r\n",
                "FROM FactCallCenter FCC\r\n",
                "GROUP BY FCC.Shift"
            ],
            "metadata": {
                "azdata_cell_guid": "706897b1-7740-4fd5-b4d2-2bd992c1823b"
            },
            "outputs": [],
            "execution_count": null
        },
        {
            "cell_type": "markdown",
            "source": [
                "Sweet! Notice how the above looks an awful like the Excel pivot tables above?\r\n",
                "\r\n",
                "One thing I need to mention at this point.\r\n",
                "\r\n",
                "SQL does not order data by default (e.g., ascending order). Think of the SSMS results ☝ being in ascending order alphabetically as a happy fluke.\r\n",
                "\r\n",
                "If you want your data sorted, then you need to explicitly do so using the following SQL syntax:\r\n",
                "\r\n",
                "```\r\n",
                "ORDER BY\r\n",
                "```\r\n",
                "\r\n",
                "I will improve the query to make sure that the results are in ascending order by Shift value:"
            ],
            "metadata": {
                "azdata_cell_guid": "a46e5ac2-1377-43de-911f-8c5d5e785c61"
            }
        },
        {
            "cell_type": "code",
            "source": [
                "SELECT FCC.Shift\r\n",
                "FROM FactCallCenter FCC\r\n",
                "GROUP BY FCC.Shift\r\n",
                "ORDER BY FCC.Shift ASC"
            ],
            "metadata": {
                "azdata_cell_guid": "6fa49fba-74aa-41b6-a09a-1abbe84b4b98"
            },
            "outputs": [],
            "execution_count": null
        },
        {
            "cell_type": "markdown",
            "source": [
                "Since the results of running the above query in SSMS are the same I won’t bother showing them again.\r\n",
                "\r\n",
                "In the above SQL the ASC keyword denotes ascending order. You can also use DESC to denote descending order.\r\n",
                "\r\n",
                "Moving on.\r\n",
                "\r\n",
                "SQL provides a number of aggregate functions for working with groups in your queries.\r\n",
                "\r\n",
                "Aggregate functions are special in that they always return a single value.\r\n",
                "\r\n",
                "This is conceptually the same as an Excel pivot table. It makes no sense to have more than one sum in a cell in a pivot table.\r\n",
                "\r\n",
                "I will add some aggregate functions to the query to produce results that match the above pivot table:"
            ],
            "metadata": {
                "azdata_cell_guid": "37be9b71-56ca-4f14-a30b-c196b82a5bcb"
            }
        },
        {
            "cell_type": "code",
            "source": [
                "SELECT FCC.Shift\r\n",
                "      ,SUM(FCC.LevelOneOperators)\r\n",
                "      ,MIN(FCC.LevelOneOperators)\r\n",
                "      ,MAX(FCC.LevelOneOperators)\r\n",
                "FROM FactCallCenter FCC\r\n",
                "GROUP BY FCC.Shift\r\n",
                "ORDER BY FCC.Shift ASC"
            ],
            "metadata": {
                "azdata_cell_guid": "d5927aac-05ed-46f3-a0f0-faaaf70e4feb"
            },
            "outputs": [],
            "execution_count": null
        },
        {
            "cell_type": "markdown",
            "source": [
                "Notice that unlike Excel, SQL aggregate functions do not produce column names by default.\r\n",
                "\r\n",
                "I’ll need to add these myself:"
            ],
            "metadata": {
                "azdata_cell_guid": "6c2bfe86-d48d-4b30-a29c-9783b611e60e"
            }
        },
        {
            "cell_type": "code",
            "source": [
                "SELECT FCC.Shift\r\n",
                "      ,SUM(FCC.LevelOneOperators) AS TotalLevelOneOperators\r\n",
                "      ,MIN(FCC.LevelOneOperators) AS MinLevelOneOperators\r\n",
                "      ,MAX(FCC.LevelOneOperators) AS MaxLevelOneOperators\r\n",
                "FROM FactCallCenter FCC\r\n",
                "GROUP BY FCC.Shift\r\n",
                "ORDER BY FCC.Shift ASC"
            ],
            "metadata": {
                "azdata_cell_guid": "be4a77da-d3e8-4784-a1a4-7b7cf56edb01"
            },
            "outputs": [],
            "execution_count": null
        },
        {
            "cell_type": "markdown",
            "source": [
                "Awesome!\r\n",
                "\r\n",
                "Just as with the usage of pivot tables is a go-to analysis technique in Excel, so is GROUP BY in the SQL world.\r\n",
                "\r\n",
                "You’ll use GROUP BY so often it will be come second nature to think of the business data in your DB by groupings.\r\n",
                "\r\n",
                "In my daily work it is rare for a query not to have at least one GROUP BY and most have more than one."
            ],
            "metadata": {
                "azdata_cell_guid": "15d7fb8e-80e8-4e6b-aadd-476ea6a8a7e3"
            }
        },
        {
            "cell_type": "markdown",
            "source": [
                "## The Learning Arc\r\n",
                "\r\n",
                "In the next post I will continue coverage of the mighty GROUP BY.\r\n",
                "\r\n",
                "The topic will be slicing/dicing data with multiple GROUP BY columns.\r\n",
                "\r\n",
                "Stay healthy and happy data sleuthing!"
            ],
            "metadata": {
                "azdata_cell_guid": "406b7434-7607-4b99-b16c-ff162f1c6a53"
            }
        }
    ]
}